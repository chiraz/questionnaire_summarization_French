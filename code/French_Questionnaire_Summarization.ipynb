{
 "cells": [
  {
   "cell_type": "markdown",
   "metadata": {},
   "source": [
    "# Overview of pipeline\n",
    "\n",
    "1. Read questionnaire data from csv file (all answers in a single corpus)\n",
    "2. EDA: Distribution of characters\n",
    "3. Text preprocessing and cleaning (output = clean corpus)\n",
    "4. EDA: Distribution of document length\n",
    "5. EDA: Distribution of word frequencies (detection of hapaxes ...)\n",
    "6. EDA: Collocation detection (bigrams and trigrams) TO DO: detected collocations should be\n",
    "treated as tokens in BOW.\n",
    "7. Text representation with BOW (output = vocabulary list and DTM)\n",
    "8. Summarization of each question separately:\n",
    "a) Topic words + Sumbasic method; b) Probabilistic Topic Modeling-based method (LDA); c) Clustering-based method."
   ]
  },
  {
   "cell_type": "markdown",
   "metadata": {},
   "source": [
    "**Main reference about summarization methods**\n",
    "\n",
    "\"Text Summarization Techniques: A Brief Survey\", by M. Allahyari et al, 2017."
   ]
  },
  {
   "cell_type": "code",
   "execution_count": 1,
   "metadata": {},
   "outputs": [],
   "source": [
    "import pandas as pd\n",
    "import numpy as np"
   ]
  },
  {
   "cell_type": "code",
   "execution_count": 2,
   "metadata": {},
   "outputs": [],
   "source": [
    "from matplotlib import pyplot as plt\n",
    "%matplotlib inline\n",
    "\n",
    "# set the font size of plots\n",
    "plt.rcParams['font.size'] = 14"
   ]
  },
  {
   "cell_type": "code",
   "execution_count": 3,
   "metadata": {},
   "outputs": [],
   "source": [
    "np.set_printoptions(precision=3)"
   ]
  },
  {
   "cell_type": "code",
   "execution_count": 4,
   "metadata": {},
   "outputs": [],
   "source": [
    "import seaborn as sns"
   ]
  },
  {
   "cell_type": "code",
   "execution_count": 5,
   "metadata": {},
   "outputs": [],
   "source": [
    "import re\n",
    "from nltk.tokenize import RegexpTokenizer\n",
    "from nltk import FreqDist\n",
    "from nltk.corpus import stopwords\n",
    "from nltk.stem.snowball import FrenchStemmer\n",
    "from sklearn.feature_extraction.text import CountVectorizer, TfidfTransformer"
   ]
  },
  {
   "cell_type": "code",
   "execution_count": 6,
   "metadata": {},
   "outputs": [],
   "source": [
    "from collections import defaultdict"
   ]
  },
  {
   "cell_type": "code",
   "execution_count": 7,
   "metadata": {},
   "outputs": [],
   "source": [
    "from nltk.tokenize import sent_tokenize"
   ]
  },
  {
   "cell_type": "code",
   "execution_count": 8,
   "metadata": {},
   "outputs": [],
   "source": [
    "import yellowbrick\n",
    "\n",
    "from yellowbrick.text import FreqDistVisualizer\n",
    "from yellowbrick.text import TSNEVisualizer"
   ]
  },
  {
   "cell_type": "code",
   "execution_count": null,
   "metadata": {},
   "outputs": [],
   "source": [
    "import colorama\n",
    "from colorama import Fore, Style"
   ]
  },
  {
   "cell_type": "code",
   "execution_count": 9,
   "metadata": {},
   "outputs": [
    {
     "name": "stdout",
     "output_type": "stream",
     "text": [
      "\u001b[34mHello World\n"
     ]
    }
   ],
   "source": [
    "print(Fore.BLUE + \"Hello World\")"
   ]
  },
  {
   "cell_type": "code",
   "execution_count": 10,
   "metadata": {},
   "outputs": [
    {
     "name": "stdout",
     "output_type": "stream",
     "text": [
      "\u001b[31mHello World\n"
     ]
    }
   ],
   "source": [
    "print(Fore.RED + \"Hello World\")"
   ]
  },
  {
   "cell_type": "markdown",
   "metadata": {},
   "source": [
    "## Read questionnaire data"
   ]
  },
  {
   "cell_type": "code",
   "execution_count": 11,
   "metadata": {},
   "outputs": [],
   "source": [
    "# Read data from a CSV file : this will return a DataFrame object\n",
    "data_df = pd.read_csv(\"../data/QUESTIONNAIRE DATA/QuestionnaireData_28Nov2018.csv\",encoding='ansi')"
   ]
  },
  {
   "cell_type": "code",
   "execution_count": 12,
   "metadata": {},
   "outputs": [
    {
     "data": {
      "text/plain": [
       "(268, 14)"
      ]
     },
     "execution_count": 12,
     "metadata": {},
     "output_type": "execute_result"
    }
   ],
   "source": [
    "data_df.shape"
   ]
  },
  {
   "cell_type": "code",
   "execution_count": 13,
   "metadata": {},
   "outputs": [
    {
     "data": {
      "text/html": [
       "<div>\n",
       "<style scoped>\n",
       "    .dataframe tbody tr th:only-of-type {\n",
       "        vertical-align: middle;\n",
       "    }\n",
       "\n",
       "    .dataframe tbody tr th {\n",
       "        vertical-align: top;\n",
       "    }\n",
       "\n",
       "    .dataframe thead th {\n",
       "        text-align: right;\n",
       "    }\n",
       "</style>\n",
       "<table border=\"1\" class=\"dataframe\">\n",
       "  <thead>\n",
       "    <tr style=\"text-align: right;\">\n",
       "      <th></th>\n",
       "      <th>Votre âge</th>\n",
       "      <th>Sexe</th>\n",
       "      <th>Etat civil</th>\n",
       "      <th>Niveau d'étude</th>\n",
       "      <th>Etablissement d'études</th>\n",
       "      <th>Situation professionnelle</th>\n",
       "      <th>Région</th>\n",
       "      <th>Domaine d'études</th>\n",
       "      <th>Q1 : Qu'est-ce qui vous ferait rester en Tunisie ?</th>\n",
       "      <th>Q2 : Quel salaire vous fera rester en Tunisie ?</th>\n",
       "      <th>Q3 : Qu'est-ce qui encouragerait les étrangers à venir en Tunisie ?</th>\n",
       "      <th>Q4 : Qu'est-ce qui vous ferait partir à l'étranger ?</th>\n",
       "      <th>Q5 : Quelle est la différence au point de vue social entre la Tunisie et l'étranger ?</th>\n",
       "      <th>Q6 : Quelle est la différence au point de vue professionnel entre la Tunisie et l'étranger ?</th>\n",
       "    </tr>\n",
       "  </thead>\n",
       "  <tbody>\n",
       "    <tr>\n",
       "      <th>0</th>\n",
       "      <td>20-25</td>\n",
       "      <td>Femme</td>\n",
       "      <td>Célibataire</td>\n",
       "      <td>Ingénieur</td>\n",
       "      <td>INSAT</td>\n",
       "      <td>Etudiant</td>\n",
       "      <td>Grand Tunis</td>\n",
       "      <td>Sciences de l'Ingénieur</td>\n",
       "      <td>mes études, ma famille et mon entourage</td>\n",
       "      <td>2000</td>\n",
       "      <td>le tourisme</td>\n",
       "      <td>la volonté de faire de l’expérience et de fair...</td>\n",
       "      <td>A l'étranger on trouve plus de respect.</td>\n",
       "      <td>A l'étranger ils payent plus et ils sont plus ...</td>\n",
       "    </tr>\n",
       "    <tr>\n",
       "      <th>1</th>\n",
       "      <td>20-25</td>\n",
       "      <td>Homme</td>\n",
       "      <td>Célibataire</td>\n",
       "      <td>Ingénieur</td>\n",
       "      <td>ENIT</td>\n",
       "      <td>Etudiant</td>\n",
       "      <td>Grand Tunis</td>\n",
       "      <td>Sciences de l'Ingénieur</td>\n",
       "      <td>Rien</td>\n",
       "      <td>2000</td>\n",
       "      <td>Réputation</td>\n",
       "      <td>Niveau de conscience populaire</td>\n",
       "      <td>La valeur d homme</td>\n",
       "      <td>Recherche</td>\n",
       "    </tr>\n",
       "    <tr>\n",
       "      <th>2</th>\n",
       "      <td>26-30</td>\n",
       "      <td>Femme</td>\n",
       "      <td>Célibataire</td>\n",
       "      <td>Mastère</td>\n",
       "      <td>ESAD</td>\n",
       "      <td>Fonctionnaire</td>\n",
       "      <td>Grand Tunis</td>\n",
       "      <td>Artistique</td>\n",
       "      <td>La mentalité</td>\n",
       "      <td>2000 dinars</td>\n",
       "      <td>la sécurité</td>\n",
       "      <td>l'argent</td>\n",
       "      <td>la tolérance</td>\n",
       "      <td>la motivation</td>\n",
       "    </tr>\n",
       "    <tr>\n",
       "      <th>3</th>\n",
       "      <td>31 et plus</td>\n",
       "      <td>Homme</td>\n",
       "      <td>Marié</td>\n",
       "      <td>Licence</td>\n",
       "      <td>FST</td>\n",
       "      <td>Fonctionnaire</td>\n",
       "      <td>Grand Tunis</td>\n",
       "      <td>Sciences de l'Ingénieur</td>\n",
       "      <td>Qualité de vie</td>\n",
       "      <td>3500</td>\n",
       "      <td>Pour un investisseur, la rémunération des empl...</td>\n",
       "      <td>L'expérience + le salaire</td>\n",
       "      <td>La mentalité sur le niveau professionnel et so...</td>\n",
       "      <td>À l'étranger, les expériences sont plus intere...</td>\n",
       "    </tr>\n",
       "    <tr>\n",
       "      <th>4</th>\n",
       "      <td>20-25</td>\n",
       "      <td>Femme</td>\n",
       "      <td>Célibataire</td>\n",
       "      <td>Mastère</td>\n",
       "      <td>Faculté des Sciences Humaines et Sociales de T...</td>\n",
       "      <td>Fonctionnaire</td>\n",
       "      <td>Grand Tunis</td>\n",
       "      <td>Sciences humaines et sociales</td>\n",
       "      <td>Une bonne ambiance de travail</td>\n",
       "      <td>2000 dinars</td>\n",
       "      <td>Les bonnes conditions climatiques, la convivia...</td>\n",
       "      <td>Des fourchettes salariales plus importantes et...</td>\n",
       "      <td>Une meilleure parité en matière de compétence</td>\n",
       "      <td>T es payé pour ta compétence, les plafonds de ...</td>\n",
       "    </tr>\n",
       "  </tbody>\n",
       "</table>\n",
       "</div>"
      ],
      "text/plain": [
       "    Votre âge   Sexe   Etat civil Niveau d'étude  \\\n",
       "0       20-25  Femme  Célibataire      Ingénieur   \n",
       "1       20-25  Homme  Célibataire      Ingénieur   \n",
       "2       26-30  Femme  Célibataire        Mastère   \n",
       "3  31 et plus  Homme        Marié        Licence   \n",
       "4       20-25  Femme  Célibataire        Mastère   \n",
       "\n",
       "                              Etablissement d'études  \\\n",
       "0                                              INSAT   \n",
       "1                                               ENIT   \n",
       "2                                               ESAD   \n",
       "3                                                FST   \n",
       "4  Faculté des Sciences Humaines et Sociales de T...   \n",
       "\n",
       "  Situation professionnelle       Région               Domaine d'études  \\\n",
       "0                  Etudiant  Grand Tunis        Sciences de l'Ingénieur   \n",
       "1                  Etudiant  Grand Tunis        Sciences de l'Ingénieur   \n",
       "2             Fonctionnaire  Grand Tunis                     Artistique   \n",
       "3             Fonctionnaire  Grand Tunis        Sciences de l'Ingénieur   \n",
       "4             Fonctionnaire  Grand Tunis  Sciences humaines et sociales   \n",
       "\n",
       "  Q1 : Qu'est-ce qui vous ferait rester en Tunisie ?  \\\n",
       "0            mes études, ma famille et mon entourage   \n",
       "1                                               Rien   \n",
       "2                                       La mentalité   \n",
       "3                                     Qualité de vie   \n",
       "4                     Une bonne ambiance de travail    \n",
       "\n",
       "  Q2 : Quel salaire vous fera rester en Tunisie ?  \\\n",
       "0                                            2000   \n",
       "1                                            2000   \n",
       "2                                     2000 dinars   \n",
       "3                                            3500   \n",
       "4                                    2000 dinars    \n",
       "\n",
       "  Q3 : Qu'est-ce qui encouragerait les étrangers à venir en Tunisie ?  \\\n",
       "0                                       le tourisme                     \n",
       "1                                         Réputation                    \n",
       "2                                        la sécurité                    \n",
       "3  Pour un investisseur, la rémunération des empl...                    \n",
       "4  Les bonnes conditions climatiques, la convivia...                    \n",
       "\n",
       "  Q4 : Qu'est-ce qui vous ferait partir à l'étranger ?   \\\n",
       "0  la volonté de faire de l’expérience et de fair...      \n",
       "1                    Niveau de conscience populaire       \n",
       "2                                           l'argent      \n",
       "3                          L'expérience + le salaire      \n",
       "4  Des fourchettes salariales plus importantes et...      \n",
       "\n",
       "  Q5 : Quelle est la différence au point de vue social entre la Tunisie et l'étranger ?  \\\n",
       "0            A l'étranger on trouve plus de respect.                                      \n",
       "1                                  La valeur d homme                                      \n",
       "2                                      la tolérance                                       \n",
       "3  La mentalité sur le niveau professionnel et so...                                      \n",
       "4      Une meilleure parité en matière de compétence                                      \n",
       "\n",
       "  Q6 : Quelle est la différence au point de vue professionnel entre la Tunisie et l'étranger ?   \n",
       "0  A l'étranger ils payent plus et ils sont plus ...                                             \n",
       "1                                          Recherche                                             \n",
       "2                                      la motivation                                             \n",
       "3  À l'étranger, les expériences sont plus intere...                                             \n",
       "4  T es payé pour ta compétence, les plafonds de ...                                             "
      ]
     },
     "execution_count": 13,
     "metadata": {},
     "output_type": "execute_result"
    }
   ],
   "source": [
    "data_df.head()"
   ]
  },
  {
   "cell_type": "code",
   "execution_count": 14,
   "metadata": {},
   "outputs": [
    {
     "data": {
      "text/plain": [
       "0                                             Votre âge\n",
       "1                                                  Sexe\n",
       "2                                            Etat civil\n",
       "3                                        Niveau d'étude\n",
       "4                                Etablissement d'études\n",
       "5                             Situation professionnelle\n",
       "6                                                Région\n",
       "7                                      Domaine d'études\n",
       "8     Q1 : Qu'est-ce qui vous ferait rester en Tunis...\n",
       "9       Q2 : Quel salaire vous fera rester en Tunisie ?\n",
       "10    Q3 : Qu'est-ce qui encouragerait les étrangers...\n",
       "11    Q4 : Qu'est-ce qui vous ferait partir à l'étra...\n",
       "12    Q5 : Quelle est la différence au point de vue ...\n",
       "13    Q6 : Quelle est la différence au point de vue ...\n",
       "dtype: object"
      ]
     },
     "execution_count": 14,
     "metadata": {},
     "output_type": "execute_result"
    }
   ],
   "source": [
    "pd.Series(data_df.columns)"
   ]
  },
  {
   "cell_type": "code",
   "execution_count": 15,
   "metadata": {},
   "outputs": [],
   "source": [
    "corpus_docs = []\n",
    "corpus_labels = []\n",
    "n = len(data_df)\n",
    "for i in range(8,14):\n",
    "    if i != 9:\n",
    "        corpus_docs = corpus_docs + data_df.iloc[:,i].tolist()\n",
    "        corpus_labels = corpus_labels + [(i-7)]*n"
   ]
  },
  {
   "cell_type": "code",
   "execution_count": 16,
   "metadata": {},
   "outputs": [],
   "source": [
    "assert(len(corpus_docs) == 5*n and len(corpus_labels) == len(corpus_docs))"
   ]
  },
  {
   "cell_type": "code",
   "execution_count": 17,
   "metadata": {},
   "outputs": [
    {
     "data": {
      "text/plain": [
       "(268, 1340)"
      ]
     },
     "execution_count": 17,
     "metadata": {},
     "output_type": "execute_result"
    }
   ],
   "source": [
    "n,len(corpus_docs)"
   ]
  },
  {
   "cell_type": "code",
   "execution_count": 18,
   "metadata": {},
   "outputs": [
    {
     "data": {
      "text/plain": [
       "([1, 1, 1, 1, 1],\n",
       " ['mes études, ma famille et mon entourage',\n",
       "  'Rien',\n",
       "  'La mentalité',\n",
       "  'Qualité de vie',\n",
       "  'Une bonne ambiance de travail '])"
      ]
     },
     "execution_count": 18,
     "metadata": {},
     "output_type": "execute_result"
    }
   ],
   "source": [
    "corpus_labels[0:5],corpus_docs[0:5]"
   ]
  },
  {
   "cell_type": "code",
   "execution_count": 19,
   "metadata": {},
   "outputs": [],
   "source": [
    "corpus_df = pd.DataFrame({'document':corpus_docs,'qlabel':corpus_labels})"
   ]
  },
  {
   "cell_type": "code",
   "execution_count": 20,
   "metadata": {},
   "outputs": [
    {
     "data": {
      "text/html": [
       "<div>\n",
       "<style scoped>\n",
       "    .dataframe tbody tr th:only-of-type {\n",
       "        vertical-align: middle;\n",
       "    }\n",
       "\n",
       "    .dataframe tbody tr th {\n",
       "        vertical-align: top;\n",
       "    }\n",
       "\n",
       "    .dataframe thead th {\n",
       "        text-align: right;\n",
       "    }\n",
       "</style>\n",
       "<table border=\"1\" class=\"dataframe\">\n",
       "  <thead>\n",
       "    <tr style=\"text-align: right;\">\n",
       "      <th></th>\n",
       "      <th>document</th>\n",
       "      <th>qlabel</th>\n",
       "    </tr>\n",
       "  </thead>\n",
       "  <tbody>\n",
       "    <tr>\n",
       "      <th>0</th>\n",
       "      <td>mes études, ma famille et mon entourage</td>\n",
       "      <td>1</td>\n",
       "    </tr>\n",
       "    <tr>\n",
       "      <th>1</th>\n",
       "      <td>Rien</td>\n",
       "      <td>1</td>\n",
       "    </tr>\n",
       "    <tr>\n",
       "      <th>2</th>\n",
       "      <td>La mentalité</td>\n",
       "      <td>1</td>\n",
       "    </tr>\n",
       "    <tr>\n",
       "      <th>3</th>\n",
       "      <td>Qualité de vie</td>\n",
       "      <td>1</td>\n",
       "    </tr>\n",
       "    <tr>\n",
       "      <th>4</th>\n",
       "      <td>Une bonne ambiance de travail</td>\n",
       "      <td>1</td>\n",
       "    </tr>\n",
       "  </tbody>\n",
       "</table>\n",
       "</div>"
      ],
      "text/plain": [
       "                                  document  qlabel\n",
       "0  mes études, ma famille et mon entourage       1\n",
       "1                                     Rien       1\n",
       "2                             La mentalité       1\n",
       "3                           Qualité de vie       1\n",
       "4           Une bonne ambiance de travail        1"
      ]
     },
     "execution_count": 20,
     "metadata": {},
     "output_type": "execute_result"
    }
   ],
   "source": [
    "corpus_df.head()"
   ]
  },
  {
   "cell_type": "code",
   "execution_count": 21,
   "metadata": {},
   "outputs": [
    {
     "data": {
      "text/plain": [
       "6    268\n",
       "5    268\n",
       "4    268\n",
       "3    268\n",
       "1    268\n",
       "Name: qlabel, dtype: int64"
      ]
     },
     "execution_count": 21,
     "metadata": {},
     "output_type": "execute_result"
    }
   ],
   "source": [
    "corpus_df.qlabel.value_counts()"
   ]
  },
  {
   "cell_type": "markdown",
   "metadata": {},
   "source": [
    "*******"
   ]
  },
  {
   "cell_type": "markdown",
   "metadata": {},
   "source": [
    "## Exploratory Analysis of Distribution of Characters\n",
    "EDA of characters before preprocessing."
   ]
  },
  {
   "cell_type": "code",
   "execution_count": 22,
   "metadata": {},
   "outputs": [],
   "source": [
    "# temporary variable\n",
    "corpus_ = corpus_df.document"
   ]
  },
  {
   "cell_type": "code",
   "execution_count": 23,
   "metadata": {},
   "outputs": [
    {
     "name": "stdout",
     "output_type": "stream",
     "text": [
      "<class 'str'> 66351\n"
     ]
    }
   ],
   "source": [
    "corpus_chars_list = \"\\n\".join(corpus_)\n",
    "print(type(corpus_chars_list),len(corpus_chars_list))"
   ]
  },
  {
   "cell_type": "code",
   "execution_count": 24,
   "metadata": {},
   "outputs": [],
   "source": [
    "fdist1 = FreqDist([c for c in corpus_chars_list])"
   ]
  },
  {
   "cell_type": "code",
   "execution_count": 25,
   "metadata": {},
   "outputs": [
    {
     "name": "stdout",
     "output_type": "stream",
     "text": [
      "number of characters:66351\n",
      "number of unique characters:96\n"
     ]
    }
   ],
   "source": [
    "print(\"number of characters:\" + str(fdist1.N()))\n",
    "print(\"number of unique characters:\" + str(fdist1.B()))"
   ]
  },
  {
   "cell_type": "code",
   "execution_count": 26,
   "metadata": {},
   "outputs": [
    {
     "name": "stdout",
     "output_type": "stream",
     "text": [
      "List of unique characters in the corpus:\n",
      "['\\n', ' ', '!', '\"', '%', '&', \"'\", '(', ')', '*', '+', ',', '-', '.', '/', '0', '1', '2', '3', '4', '5', '6', '7', '9', ':', ';', '=', '>', '?', 'A', 'B', 'C', 'D', 'E', 'F', 'G', 'H', 'I', 'J', 'L', 'M', 'N', 'O', 'P', 'Q', 'R', 'S', 'T', 'U', 'V', 'W', 'Y', '_', 'a', 'b', 'c', 'd', 'e', 'f', 'g', 'h', 'i', 'j', 'k', 'l', 'm', 'n', 'o', 'p', 'q', 'r', 's', 't', 'u', 'v', 'w', 'x', 'y', 'z', 'À', 'Ç', 'É', 'à', 'â', 'ç', 'è', 'é', 'ê', 'î', 'ï', 'ô', 'ù', 'û', 'œ', '’', '€']\n"
     ]
    }
   ],
   "source": [
    "u = list(fdist1.keys())\n",
    "u.sort()\n",
    "print('List of unique characters in the corpus:')\n",
    "print(u)"
   ]
  },
  {
   "cell_type": "code",
   "execution_count": 27,
   "metadata": {},
   "outputs": [
    {
     "data": {
      "image/png": "[encoded data removed]",
      "text/plain": [
       "<matplotlib.figure.Figure at 0x28582eff390>"
      ]
     },
     "metadata": {},
     "output_type": "display_data"
    }
   ],
   "source": [
    "fdist1.plot(20, cumulative=False)"
   ]
  },
  {
   "cell_type": "code",
   "execution_count": 28,
   "metadata": {},
   "outputs": [
    {
     "data": {
      "image/png": "[encoded data removed]",
      "text/plain": [
       "<matplotlib.figure.Figure at 0x28582f90fd0>"
      ]
     },
     "metadata": {},
     "output_type": "display_data"
    }
   ],
   "source": [
    "# the top 20 characters cover more than 95% of all character occurrences in the corpus\n",
    "fdist1.plot(20,cumulative=True)"
   ]
  },
  {
   "cell_type": "code",
   "execution_count": 29,
   "metadata": {},
   "outputs": [
    {
     "data": {
      "text/plain": [
       "[(' ', 9522), ('e', 7990), ('i', 4381), ('s', 4144), ('n', 4076)]"
      ]
     },
     "execution_count": 29,
     "metadata": {},
     "output_type": "execute_result"
    }
   ],
   "source": [
    "# the 10 most frequent characters in the corpus\n",
    "#pd.DataFrame(fdist1.most_common(20))\n",
    "fdist1.most_common(5)"
   ]
  },
  {
   "cell_type": "markdown",
   "metadata": {},
   "source": [
    "*Observations & conclusions*\n",
    "- Type of characters: french letters, digits, punctuation, and white space.\n",
    "- No special characters requiring special normalization/preprocessing (such as special encoded characters).\n",
    "- No extraneous/noisy characters that should be removed prior to language identification (such as math symbols, emoticons and urls)."
   ]
  },
  {
   "cell_type": "markdown",
   "metadata": {},
   "source": [
    "*****"
   ]
  },
  {
   "cell_type": "markdown",
   "metadata": {},
   "source": [
    "## Text Preprocessing & Cleaning\n",
    "\n",
    "Pipeline:\n",
    "1. Language identification\n",
    "2. Sentence segmentation\n",
    "3. Remove non-word characters\n",
    "4. Convert to lowercase\n",
    "5. Tokenization\n",
    "6. Stemming (simple heuristic for word normalization)\n",
    "7. Spelling correction"
   ]
  },
  {
   "cell_type": "markdown",
   "metadata": {},
   "source": [
    "### Language identification\n",
    "TO DO: use `langid` or ``lagdetect`` modules (rather than `TextCat` which is too slow!)"
   ]
  },
  {
   "cell_type": "code",
   "execution_count": 30,
   "metadata": {},
   "outputs": [],
   "source": [
    "# Load library module for language identification\n",
    "# from nltk.classify.textcat import TextCat"
   ]
  },
  {
   "cell_type": "code",
   "execution_count": 31,
   "metadata": {},
   "outputs": [],
   "source": [
    "# Remove non-french documents from corpus_df\n",
    "# corpus_df = ..."
   ]
  },
  {
   "cell_type": "markdown",
   "metadata": {},
   "source": [
    "### Sentence segmentation\n",
    "Split the documents into sentences."
   ]
  },
  {
   "cell_type": "markdown",
   "metadata": {},
   "source": [
    "#### EDA"
   ]
  },
  {
   "cell_type": "code",
   "execution_count": 32,
   "metadata": {},
   "outputs": [
    {
     "name": "stdout",
     "output_type": "stream",
     "text": [
      ". 402\n",
      "! 30\n",
      "? 5\n"
     ]
    }
   ],
   "source": [
    "for c in ['.','!','?']:\n",
    "    print(c,fdist1[c])"
   ]
  },
  {
   "cell_type": "code",
   "execution_count": 33,
   "metadata": {},
   "outputs": [
    {
     "data": {
      "text/html": [
       "<div>\n",
       "<style scoped>\n",
       "    .dataframe tbody tr th:only-of-type {\n",
       "        vertical-align: middle;\n",
       "    }\n",
       "\n",
       "    .dataframe tbody tr th {\n",
       "        vertical-align: top;\n",
       "    }\n",
       "\n",
       "    .dataframe thead th {\n",
       "        text-align: right;\n",
       "    }\n",
       "</style>\n",
       "<table border=\"1\" class=\"dataframe\">\n",
       "  <thead>\n",
       "    <tr style=\"text-align: right;\">\n",
       "      <th></th>\n",
       "      <th>n_chars</th>\n",
       "      <th>n_chars_per_sent</th>\n",
       "      <th>n_sents</th>\n",
       "    </tr>\n",
       "  </thead>\n",
       "  <tbody>\n",
       "    <tr>\n",
       "      <th>0</th>\n",
       "      <td>39</td>\n",
       "      <td>39.0</td>\n",
       "      <td>1</td>\n",
       "    </tr>\n",
       "    <tr>\n",
       "      <th>1</th>\n",
       "      <td>4</td>\n",
       "      <td>4.0</td>\n",
       "      <td>1</td>\n",
       "    </tr>\n",
       "    <tr>\n",
       "      <th>2</th>\n",
       "      <td>12</td>\n",
       "      <td>12.0</td>\n",
       "      <td>1</td>\n",
       "    </tr>\n",
       "    <tr>\n",
       "      <th>3</th>\n",
       "      <td>14</td>\n",
       "      <td>14.0</td>\n",
       "      <td>1</td>\n",
       "    </tr>\n",
       "    <tr>\n",
       "      <th>4</th>\n",
       "      <td>30</td>\n",
       "      <td>30.0</td>\n",
       "      <td>1</td>\n",
       "    </tr>\n",
       "  </tbody>\n",
       "</table>\n",
       "</div>"
      ],
      "text/plain": [
       "   n_chars  n_chars_per_sent  n_sents\n",
       "0       39              39.0        1\n",
       "1        4               4.0        1\n",
       "2       12              12.0        1\n",
       "3       14              14.0        1\n",
       "4       30              30.0        1"
      ]
     },
     "execution_count": 33,
     "metadata": {},
     "output_type": "execute_result"
    }
   ],
   "source": [
    "L1 = [len(doc) for doc in corpus_df.document]\n",
    "L2 = [len(sent_tokenize(doc)) for doc in corpus_df.document]\n",
    "doc_len_df_ = pd.DataFrame({'n_chars' : L1, 'n_sents' : L2, \\\n",
    "                            'n_chars_per_sent' : np.array(L1)/np.array(L2)})\n",
    "doc_len_df_.head()"
   ]
  },
  {
   "cell_type": "code",
   "execution_count": 34,
   "metadata": {},
   "outputs": [
    {
     "data": {
      "image/png": "[encoded data removed]",
      "text/plain": [
       "<matplotlib.figure.Figure at 0x2858303c1d0>"
      ]
     },
     "metadata": {},
     "output_type": "display_data"
    }
   ],
   "source": [
    "sns.set(style=\"ticks\", color_codes=True)\n",
    "g = sns.pairplot(doc_len_df_)"
   ]
  },
  {
   "cell_type": "markdown",
   "metadata": {},
   "source": [
    "#### Create corpus of sentences"
   ]
  },
  {
   "cell_type": "code",
   "execution_count": 35,
   "metadata": {},
   "outputs": [
    {
     "data": {
      "text/plain": [
       "(1340, ['mes études, ma famille et mon entourage'])"
      ]
     },
     "execution_count": 35,
     "metadata": {},
     "output_type": "execute_result"
    }
   ],
   "source": [
    "corpus_sentences_ = [sent_tokenize(doc) for doc in corpus_df.document]\n",
    "len(corpus_sentences_),corpus_sentences_[0]"
   ]
  },
  {
   "cell_type": "code",
   "execution_count": 36,
   "metadata": {},
   "outputs": [
    {
     "data": {
      "text/plain": [
       "(1340, 1418)"
      ]
     },
     "execution_count": 36,
     "metadata": {},
     "output_type": "execute_result"
    }
   ],
   "source": [
    "u = [(sent,corpus_df.qlabel[i]) for i,doc in enumerate(corpus_sentences_) for sent in doc]\n",
    "corpus_sent_df = pd.DataFrame(u)\n",
    "corpus_sent_df.columns = ['sentence','qlabel']\n",
    "assert(len(corpus_df)<=len(corpus_sent_df))\n",
    "len(corpus_df),len(corpus_sent_df)"
   ]
  },
  {
   "cell_type": "code",
   "execution_count": 37,
   "metadata": {},
   "outputs": [
    {
     "data": {
      "text/html": [
       "<div>\n",
       "<style scoped>\n",
       "    .dataframe tbody tr th:only-of-type {\n",
       "        vertical-align: middle;\n",
       "    }\n",
       "\n",
       "    .dataframe tbody tr th {\n",
       "        vertical-align: top;\n",
       "    }\n",
       "\n",
       "    .dataframe thead th {\n",
       "        text-align: right;\n",
       "    }\n",
       "</style>\n",
       "<table border=\"1\" class=\"dataframe\">\n",
       "  <thead>\n",
       "    <tr style=\"text-align: right;\">\n",
       "      <th></th>\n",
       "      <th>sentence</th>\n",
       "      <th>qlabel</th>\n",
       "    </tr>\n",
       "  </thead>\n",
       "  <tbody>\n",
       "    <tr>\n",
       "      <th>0</th>\n",
       "      <td>mes études, ma famille et mon entourage</td>\n",
       "      <td>1</td>\n",
       "    </tr>\n",
       "    <tr>\n",
       "      <th>1</th>\n",
       "      <td>Rien</td>\n",
       "      <td>1</td>\n",
       "    </tr>\n",
       "    <tr>\n",
       "      <th>2</th>\n",
       "      <td>La mentalité</td>\n",
       "      <td>1</td>\n",
       "    </tr>\n",
       "    <tr>\n",
       "      <th>3</th>\n",
       "      <td>Qualité de vie</td>\n",
       "      <td>1</td>\n",
       "    </tr>\n",
       "    <tr>\n",
       "      <th>4</th>\n",
       "      <td>Une bonne ambiance de travail</td>\n",
       "      <td>1</td>\n",
       "    </tr>\n",
       "  </tbody>\n",
       "</table>\n",
       "</div>"
      ],
      "text/plain": [
       "                                  sentence  qlabel\n",
       "0  mes études, ma famille et mon entourage       1\n",
       "1                                     Rien       1\n",
       "2                             La mentalité       1\n",
       "3                           Qualité de vie       1\n",
       "4            Une bonne ambiance de travail       1"
      ]
     },
     "execution_count": 37,
     "metadata": {},
     "output_type": "execute_result"
    }
   ],
   "source": [
    "corpus_sent_df.head()"
   ]
  },
  {
   "cell_type": "markdown",
   "metadata": {},
   "source": [
    "### Tokenization\n",
    "- convert to lowercase.\n",
    "- convert corpus to list of words\n",
    "- throw away all non-letter characters (in our case digits and punctuation)"
   ]
  },
  {
   "cell_type": "code",
   "execution_count": 38,
   "metadata": {},
   "outputs": [],
   "source": [
    "tokenizer = RegexpTokenizer('[^_\\W0-9]+')"
   ]
  },
  {
   "cell_type": "code",
   "execution_count": 39,
   "metadata": {},
   "outputs": [
    {
     "data": {
      "text/plain": [
       "[['mes', 'études', 'ma', 'famille', 'et', 'mon', 'entourage'],\n",
       " ['rien'],\n",
       " ['la', 'mentalité'],\n",
       " ['qualité', 'de', 'vie'],\n",
       " ['une', 'bonne', 'ambiance', 'de', 'travail']]"
      ]
     },
     "execution_count": 39,
     "metadata": {},
     "output_type": "execute_result"
    }
   ],
   "source": [
    "# convert to lowercase and tokenize\n",
    "corpus_tokens_ = [tokenizer.tokenize(doc.lower()) for doc in corpus_sent_df.sentence]\n",
    "assert(len(corpus_tokens_)==len(corpus_sent_df))\n",
    "corpus_tokens_[0:5]"
   ]
  },
  {
   "cell_type": "code",
   "execution_count": 40,
   "metadata": {},
   "outputs": [
    {
     "data": {
      "text/html": [
       "<div>\n",
       "<style scoped>\n",
       "    .dataframe tbody tr th:only-of-type {\n",
       "        vertical-align: middle;\n",
       "    }\n",
       "\n",
       "    .dataframe tbody tr th {\n",
       "        vertical-align: top;\n",
       "    }\n",
       "\n",
       "    .dataframe thead th {\n",
       "        text-align: right;\n",
       "    }\n",
       "</style>\n",
       "<table border=\"1\" class=\"dataframe\">\n",
       "  <thead>\n",
       "    <tr style=\"text-align: right;\">\n",
       "      <th></th>\n",
       "      <th>sentence</th>\n",
       "      <th>qlabel</th>\n",
       "      <th>tokenized_sent</th>\n",
       "    </tr>\n",
       "  </thead>\n",
       "  <tbody>\n",
       "    <tr>\n",
       "      <th>0</th>\n",
       "      <td>mes études, ma famille et mon entourage</td>\n",
       "      <td>1</td>\n",
       "      <td>[mes, études, ma, famille, et, mon, entourage]</td>\n",
       "    </tr>\n",
       "    <tr>\n",
       "      <th>1</th>\n",
       "      <td>Rien</td>\n",
       "      <td>1</td>\n",
       "      <td>[rien]</td>\n",
       "    </tr>\n",
       "    <tr>\n",
       "      <th>2</th>\n",
       "      <td>La mentalité</td>\n",
       "      <td>1</td>\n",
       "      <td>[la, mentalité]</td>\n",
       "    </tr>\n",
       "    <tr>\n",
       "      <th>3</th>\n",
       "      <td>Qualité de vie</td>\n",
       "      <td>1</td>\n",
       "      <td>[qualité, de, vie]</td>\n",
       "    </tr>\n",
       "    <tr>\n",
       "      <th>4</th>\n",
       "      <td>Une bonne ambiance de travail</td>\n",
       "      <td>1</td>\n",
       "      <td>[une, bonne, ambiance, de, travail]</td>\n",
       "    </tr>\n",
       "  </tbody>\n",
       "</table>\n",
       "</div>"
      ],
      "text/plain": [
       "                                  sentence  qlabel  \\\n",
       "0  mes études, ma famille et mon entourage       1   \n",
       "1                                     Rien       1   \n",
       "2                             La mentalité       1   \n",
       "3                           Qualité de vie       1   \n",
       "4            Une bonne ambiance de travail       1   \n",
       "\n",
       "                                   tokenized_sent  \n",
       "0  [mes, études, ma, famille, et, mon, entourage]  \n",
       "1                                          [rien]  \n",
       "2                                 [la, mentalité]  \n",
       "3                              [qualité, de, vie]  \n",
       "4             [une, bonne, ambiance, de, travail]  "
      ]
     },
     "execution_count": 40,
     "metadata": {},
     "output_type": "execute_result"
    }
   ],
   "source": [
    "corpus_sent_df['tokenized_sent'] = corpus_tokens_\n",
    "corpus_sent_df.head()"
   ]
  },
  {
   "cell_type": "code",
   "execution_count": 41,
   "metadata": {},
   "outputs": [
    {
     "data": {
      "text/plain": [
       "['!', '!', '-', '.', '!', '-', '!']"
      ]
     },
     "execution_count": 41,
     "metadata": {},
     "output_type": "execute_result"
    }
   ],
   "source": [
    "## Which documents are empty?\n",
    "[corpus_sent_df.sentence[i] for i,doc in enumerate(corpus_tokens_) if len(doc)==0]"
   ]
  },
  {
   "cell_type": "code",
   "execution_count": 42,
   "metadata": {},
   "outputs": [
    {
     "data": {
      "text/plain": [
       "(10904, 1977)"
      ]
     },
     "execution_count": 42,
     "metadata": {},
     "output_type": "execute_result"
    }
   ],
   "source": [
    "## Word frequency distribution\n",
    "corpus_words_ = [word for sent in corpus_sent_df.tokenized_sent for word in sent]\n",
    "fdist2 = FreqDist(corpus_words_)\n",
    "fdist2.N(),fdist2.B()"
   ]
  },
  {
   "cell_type": "code",
   "execution_count": 43,
   "metadata": {},
   "outputs": [
    {
     "data": {
      "text/plain": [
       "[('de', 579),\n",
       " ('la', 425),\n",
       " ('et', 379),\n",
       " ('le', 356),\n",
       " ('l', 322),\n",
       " ('les', 274),\n",
       " ('un', 173),\n",
       " ('des', 167),\n",
       " ('plus', 164),\n",
       " ('d', 162)]"
      ]
     },
     "execution_count": 43,
     "metadata": {},
     "output_type": "execute_result"
    }
   ],
   "source": [
    "fdist2.most_common(10)"
   ]
  },
  {
   "cell_type": "markdown",
   "metadata": {},
   "source": [
    "### Fix common orthographic errors\n",
    "- 'œ' --> 'oe'\n",
    "\n",
    "**TO BE FINISHED ...**"
   ]
  },
  {
   "cell_type": "code",
   "execution_count": 44,
   "metadata": {},
   "outputs": [],
   "source": [
    "# strange characters\n",
    "#for c in ['ù', 'û', 'ô', 'â', 'î', 'ù', '5', '1', '3']:\n",
    "#    print(c,fdist1[c])"
   ]
  },
  {
   "cell_type": "code",
   "execution_count": 45,
   "metadata": {},
   "outputs": [
    {
     "data": {
      "text/plain": [
       "(3, 1)"
      ]
     },
     "execution_count": 45,
     "metadata": {},
     "output_type": "execute_result"
    }
   ],
   "source": [
    "fdist1['œ'],len('œ')"
   ]
  },
  {
   "cell_type": "code",
   "execution_count": 46,
   "metadata": {},
   "outputs": [
    {
     "data": {
      "text/plain": [
       "(147, 4070)"
      ]
     },
     "execution_count": 46,
     "metadata": {},
     "output_type": "execute_result"
    }
   ],
   "source": [
    "fdist1['à'],fdist1['a']"
   ]
  },
  {
   "cell_type": "code",
   "execution_count": 47,
   "metadata": {},
   "outputs": [
    {
     "data": {
      "text/plain": [
       "(150, 59)"
      ]
     },
     "execution_count": 47,
     "metadata": {},
     "output_type": "execute_result"
    }
   ],
   "source": [
    "fdist2['à'],fdist2['a']"
   ]
  },
  {
   "cell_type": "code",
   "execution_count": null,
   "metadata": {},
   "outputs": [],
   "source": []
  },
  {
   "cell_type": "code",
   "execution_count": null,
   "metadata": {},
   "outputs": [],
   "source": []
  },
  {
   "cell_type": "markdown",
   "metadata": {},
   "source": [
    "### Remove stopwords\n",
    "We will use NLTK's default list of stop worsd for the French language."
   ]
  },
  {
   "cell_type": "markdown",
   "metadata": {},
   "source": [
    "#### Load standard list of stop words"
   ]
  },
  {
   "cell_type": "code",
   "execution_count": 48,
   "metadata": {},
   "outputs": [
    {
     "data": {
      "text/plain": [
       "155"
      ]
     },
     "execution_count": 48,
     "metadata": {},
     "output_type": "execute_result"
    }
   ],
   "source": [
    "# Load NLTK stop words\n",
    "stop_words_fr = stopwords.words('french')\n",
    "stop_words_fr = set(stop_words_fr)\n",
    "len(stop_words_fr)"
   ]
  },
  {
   "cell_type": "code",
   "execution_count": 49,
   "metadata": {},
   "outputs": [
    {
     "data": {
      "text/plain": [
       "178"
      ]
     },
     "execution_count": 49,
     "metadata": {},
     "output_type": "execute_result"
    }
   ],
   "source": [
    "#we can also add an entire list of words\n",
    "stop_words_fr = stop_words_fr |  {'celle', 'celles', 'certain', 'certains', 'les','ils', 'elles', 'avoir', 'être', 'parce','où','si','chaque','donc','dont','encore','faut','quand','tant','tel','va','ici', 'ça'}\n",
    "len(stop_words_fr)"
   ]
  },
  {
   "cell_type": "code",
   "execution_count": 50,
   "metadata": {},
   "outputs": [
    {
     "data": {
      "text/plain": [
       "176"
      ]
     },
     "execution_count": 50,
     "metadata": {},
     "output_type": "execute_result"
    }
   ],
   "source": [
    "stop_words_fr = stop_words_fr - {'ne', 'pas'}\n",
    "len(stop_words_fr)"
   ]
  },
  {
   "cell_type": "markdown",
   "metadata": {},
   "source": [
    "#### EDA - Customize stop words to current corpus"
   ]
  },
  {
   "cell_type": "code",
   "execution_count": 51,
   "metadata": {},
   "outputs": [
    {
     "data": {
      "text/plain": [
       "60"
      ]
     },
     "execution_count": 51,
     "metadata": {},
     "output_type": "execute_result"
    }
   ],
   "source": [
    "# Visually inspect words that are common in the corpus but are not in our stopwords list\n",
    "u1 = pd.DataFrame([(word,freq) for word,freq in fdist2.most_common(100) if word not in stop_words_fr])\n",
    "u1.columns = ['word', 'frequency']\n",
    "len(u1)"
   ]
  },
  {
   "cell_type": "code",
   "execution_count": 52,
   "metadata": {},
   "outputs": [
    {
     "data": {
      "text/html": [
       "<div>\n",
       "<style scoped>\n",
       "    .dataframe tbody tr th:only-of-type {\n",
       "        vertical-align: middle;\n",
       "    }\n",
       "\n",
       "    .dataframe tbody tr th {\n",
       "        vertical-align: top;\n",
       "    }\n",
       "\n",
       "    .dataframe thead th {\n",
       "        text-align: right;\n",
       "    }\n",
       "</style>\n",
       "<table border=\"1\" class=\"dataframe\">\n",
       "  <thead>\n",
       "    <tr style=\"text-align: right;\">\n",
       "      <th></th>\n",
       "      <th>word</th>\n",
       "      <th>frequency</th>\n",
       "    </tr>\n",
       "  </thead>\n",
       "  <tbody>\n",
       "    <tr>\n",
       "      <th>0</th>\n",
       "      <td>plus</td>\n",
       "      <td>164</td>\n",
       "    </tr>\n",
       "    <tr>\n",
       "      <th>1</th>\n",
       "      <td>travail</td>\n",
       "      <td>156</td>\n",
       "    </tr>\n",
       "    <tr>\n",
       "      <th>2</th>\n",
       "      <td>vie</td>\n",
       "      <td>149</td>\n",
       "    </tr>\n",
       "    <tr>\n",
       "      <th>3</th>\n",
       "      <td>salaire</td>\n",
       "      <td>124</td>\n",
       "    </tr>\n",
       "    <tr>\n",
       "      <th>4</th>\n",
       "      <td>tunisie</td>\n",
       "      <td>114</td>\n",
       "    </tr>\n",
       "    <tr>\n",
       "      <th>5</th>\n",
       "      <td>pas</td>\n",
       "      <td>102</td>\n",
       "    </tr>\n",
       "    <tr>\n",
       "      <th>6</th>\n",
       "      <td>étranger</td>\n",
       "      <td>102</td>\n",
       "    </tr>\n",
       "    <tr>\n",
       "      <th>7</th>\n",
       "      <td>famille</td>\n",
       "      <td>97</td>\n",
       "    </tr>\n",
       "    <tr>\n",
       "      <th>8</th>\n",
       "      <td>respect</td>\n",
       "      <td>91</td>\n",
       "    </tr>\n",
       "    <tr>\n",
       "      <th>9</th>\n",
       "      <td>niveau</td>\n",
       "      <td>71</td>\n",
       "    </tr>\n",
       "    <tr>\n",
       "      <th>10</th>\n",
       "      <td>mentalité</td>\n",
       "      <td>63</td>\n",
       "    </tr>\n",
       "    <tr>\n",
       "      <th>11</th>\n",
       "      <td>rien</td>\n",
       "      <td>61</td>\n",
       "    </tr>\n",
       "    <tr>\n",
       "      <th>12</th>\n",
       "      <td>a</td>\n",
       "      <td>59</td>\n",
       "    </tr>\n",
       "    <tr>\n",
       "      <th>13</th>\n",
       "      <td>pays</td>\n",
       "      <td>55</td>\n",
       "    </tr>\n",
       "    <tr>\n",
       "      <th>14</th>\n",
       "      <td>conditions</td>\n",
       "      <td>55</td>\n",
       "    </tr>\n",
       "    <tr>\n",
       "      <th>15</th>\n",
       "      <td>bon</td>\n",
       "      <td>48</td>\n",
       "    </tr>\n",
       "    <tr>\n",
       "      <th>16</th>\n",
       "      <td>gens</td>\n",
       "      <td>43</td>\n",
       "    </tr>\n",
       "    <tr>\n",
       "      <th>17</th>\n",
       "      <td>opportunités</td>\n",
       "      <td>39</td>\n",
       "    </tr>\n",
       "    <tr>\n",
       "      <th>18</th>\n",
       "      <td>qualité</td>\n",
       "      <td>36</td>\n",
       "    </tr>\n",
       "    <tr>\n",
       "      <th>19</th>\n",
       "      <td>tout</td>\n",
       "      <td>36</td>\n",
       "    </tr>\n",
       "    <tr>\n",
       "      <th>20</th>\n",
       "      <td>tourisme</td>\n",
       "      <td>34</td>\n",
       "    </tr>\n",
       "    <tr>\n",
       "      <th>21</th>\n",
       "      <td>ne</td>\n",
       "      <td>32</td>\n",
       "    </tr>\n",
       "    <tr>\n",
       "      <th>22</th>\n",
       "      <td>climat</td>\n",
       "      <td>31</td>\n",
       "    </tr>\n",
       "    <tr>\n",
       "      <th>23</th>\n",
       "      <td>environnement</td>\n",
       "      <td>30</td>\n",
       "    </tr>\n",
       "    <tr>\n",
       "      <th>24</th>\n",
       "      <td>bien</td>\n",
       "      <td>30</td>\n",
       "    </tr>\n",
       "    <tr>\n",
       "      <th>25</th>\n",
       "      <td>manque</td>\n",
       "      <td>29</td>\n",
       "    </tr>\n",
       "    <tr>\n",
       "      <th>26</th>\n",
       "      <td>opportunité</td>\n",
       "      <td>27</td>\n",
       "    </tr>\n",
       "    <tr>\n",
       "      <th>27</th>\n",
       "      <td>expérience</td>\n",
       "      <td>26</td>\n",
       "    </tr>\n",
       "    <tr>\n",
       "      <th>28</th>\n",
       "      <td>peut</td>\n",
       "      <td>25</td>\n",
       "    </tr>\n",
       "    <tr>\n",
       "      <th>29</th>\n",
       "      <td>meilleur</td>\n",
       "      <td>25</td>\n",
       "    </tr>\n",
       "  </tbody>\n",
       "</table>\n",
       "</div>"
      ],
      "text/plain": [
       "             word  frequency\n",
       "0            plus        164\n",
       "1         travail        156\n",
       "2             vie        149\n",
       "3         salaire        124\n",
       "4         tunisie        114\n",
       "5             pas        102\n",
       "6        étranger        102\n",
       "7         famille         97\n",
       "8         respect         91\n",
       "9          niveau         71\n",
       "10      mentalité         63\n",
       "11           rien         61\n",
       "12              a         59\n",
       "13           pays         55\n",
       "14     conditions         55\n",
       "15            bon         48\n",
       "16           gens         43\n",
       "17   opportunités         39\n",
       "18        qualité         36\n",
       "19           tout         36\n",
       "20       tourisme         34\n",
       "21             ne         32\n",
       "22         climat         31\n",
       "23  environnement         30\n",
       "24           bien         30\n",
       "25         manque         29\n",
       "26    opportunité         27\n",
       "27     expérience         26\n",
       "28           peut         25\n",
       "29       meilleur         25"
      ]
     },
     "execution_count": 52,
     "metadata": {},
     "output_type": "execute_result"
    }
   ],
   "source": [
    "u1.sort_values('frequency', ascending=False).head(30)"
   ]
  },
  {
   "cell_type": "code",
   "execution_count": 53,
   "metadata": {},
   "outputs": [
    {
     "data": {
      "text/plain": [
       "177"
      ]
     },
     "execution_count": 53,
     "metadata": {},
     "output_type": "execute_result"
    }
   ],
   "source": [
    "## Add those words to our list of stopwords\n",
    "stop_words_fr = stop_words_fr | {'a'}\n",
    "len(stop_words_fr)"
   ]
  },
  {
   "cell_type": "code",
   "execution_count": 54,
   "metadata": {},
   "outputs": [
    {
     "data": {
      "text/plain": [
       "74"
      ]
     },
     "execution_count": 54,
     "metadata": {},
     "output_type": "execute_result"
    }
   ],
   "source": [
    "# Visually inspect words that are stopwords and are sufficiently common in this corpus\n",
    "u2 = pd.DataFrame([(word,fdist2[word]) for word in stop_words_fr if fdist2[word]>=3])\n",
    "u2.columns = ['word', 'frequency']\n",
    "len(u2)"
   ]
  },
  {
   "cell_type": "code",
   "execution_count": 55,
   "metadata": {},
   "outputs": [
    {
     "data": {
      "text/html": [
       "<div>\n",
       "<style scoped>\n",
       "    .dataframe tbody tr th:only-of-type {\n",
       "        vertical-align: middle;\n",
       "    }\n",
       "\n",
       "    .dataframe tbody tr th {\n",
       "        vertical-align: top;\n",
       "    }\n",
       "\n",
       "    .dataframe thead th {\n",
       "        text-align: right;\n",
       "    }\n",
       "</style>\n",
       "<table border=\"1\" class=\"dataframe\">\n",
       "  <thead>\n",
       "    <tr style=\"text-align: right;\">\n",
       "      <th></th>\n",
       "      <th>word</th>\n",
       "      <th>frequency</th>\n",
       "    </tr>\n",
       "  </thead>\n",
       "  <tbody>\n",
       "    <tr>\n",
       "      <th>53</th>\n",
       "      <td>de</td>\n",
       "      <td>579</td>\n",
       "    </tr>\n",
       "    <tr>\n",
       "      <th>21</th>\n",
       "      <td>la</td>\n",
       "      <td>425</td>\n",
       "    </tr>\n",
       "    <tr>\n",
       "      <th>42</th>\n",
       "      <td>et</td>\n",
       "      <td>379</td>\n",
       "    </tr>\n",
       "    <tr>\n",
       "      <th>34</th>\n",
       "      <td>le</td>\n",
       "      <td>356</td>\n",
       "    </tr>\n",
       "    <tr>\n",
       "      <th>49</th>\n",
       "      <td>l</td>\n",
       "      <td>322</td>\n",
       "    </tr>\n",
       "    <tr>\n",
       "      <th>63</th>\n",
       "      <td>les</td>\n",
       "      <td>274</td>\n",
       "    </tr>\n",
       "    <tr>\n",
       "      <th>35</th>\n",
       "      <td>un</td>\n",
       "      <td>173</td>\n",
       "    </tr>\n",
       "    <tr>\n",
       "      <th>48</th>\n",
       "      <td>des</td>\n",
       "      <td>167</td>\n",
       "    </tr>\n",
       "    <tr>\n",
       "      <th>41</th>\n",
       "      <td>d</td>\n",
       "      <td>162</td>\n",
       "    </tr>\n",
       "    <tr>\n",
       "      <th>19</th>\n",
       "      <td>à</td>\n",
       "      <td>150</td>\n",
       "    </tr>\n",
       "    <tr>\n",
       "      <th>70</th>\n",
       "      <td>en</td>\n",
       "      <td>125</td>\n",
       "    </tr>\n",
       "    <tr>\n",
       "      <th>58</th>\n",
       "      <td>est</td>\n",
       "      <td>120</td>\n",
       "    </tr>\n",
       "    <tr>\n",
       "      <th>36</th>\n",
       "      <td>une</td>\n",
       "      <td>108</td>\n",
       "    </tr>\n",
       "    <tr>\n",
       "      <th>4</th>\n",
       "      <td>on</td>\n",
       "      <td>79</td>\n",
       "    </tr>\n",
       "    <tr>\n",
       "      <th>28</th>\n",
       "      <td>pour</td>\n",
       "      <td>74</td>\n",
       "    </tr>\n",
       "    <tr>\n",
       "      <th>44</th>\n",
       "      <td>du</td>\n",
       "      <td>70</td>\n",
       "    </tr>\n",
       "    <tr>\n",
       "      <th>29</th>\n",
       "      <td>dans</td>\n",
       "      <td>66</td>\n",
       "    </tr>\n",
       "    <tr>\n",
       "      <th>50</th>\n",
       "      <td>sont</td>\n",
       "      <td>65</td>\n",
       "    </tr>\n",
       "    <tr>\n",
       "      <th>66</th>\n",
       "      <td>qui</td>\n",
       "      <td>61</td>\n",
       "    </tr>\n",
       "    <tr>\n",
       "      <th>46</th>\n",
       "      <td>je</td>\n",
       "      <td>61</td>\n",
       "    </tr>\n",
       "    <tr>\n",
       "      <th>23</th>\n",
       "      <td>a</td>\n",
       "      <td>59</td>\n",
       "    </tr>\n",
       "    <tr>\n",
       "      <th>11</th>\n",
       "      <td>que</td>\n",
       "      <td>49</td>\n",
       "    </tr>\n",
       "    <tr>\n",
       "      <th>62</th>\n",
       "      <td>il</td>\n",
       "      <td>43</td>\n",
       "    </tr>\n",
       "    <tr>\n",
       "      <th>47</th>\n",
       "      <td>au</td>\n",
       "      <td>40</td>\n",
       "    </tr>\n",
       "    <tr>\n",
       "      <th>52</th>\n",
       "      <td>qu</td>\n",
       "      <td>39</td>\n",
       "    </tr>\n",
       "    <tr>\n",
       "      <th>20</th>\n",
       "      <td>avec</td>\n",
       "      <td>38</td>\n",
       "    </tr>\n",
       "    <tr>\n",
       "      <th>38</th>\n",
       "      <td>ma</td>\n",
       "      <td>38</td>\n",
       "    </tr>\n",
       "    <tr>\n",
       "      <th>68</th>\n",
       "      <td>ils</td>\n",
       "      <td>30</td>\n",
       "    </tr>\n",
       "    <tr>\n",
       "      <th>18</th>\n",
       "      <td>mes</td>\n",
       "      <td>29</td>\n",
       "    </tr>\n",
       "    <tr>\n",
       "      <th>51</th>\n",
       "      <td>être</td>\n",
       "      <td>29</td>\n",
       "    </tr>\n",
       "    <tr>\n",
       "      <th>32</th>\n",
       "      <td>y</td>\n",
       "      <td>27</td>\n",
       "    </tr>\n",
       "    <tr>\n",
       "      <th>10</th>\n",
       "      <td>par</td>\n",
       "      <td>26</td>\n",
       "    </tr>\n",
       "    <tr>\n",
       "      <th>45</th>\n",
       "      <td>n</td>\n",
       "      <td>25</td>\n",
       "    </tr>\n",
       "    <tr>\n",
       "      <th>43</th>\n",
       "      <td>mon</td>\n",
       "      <td>25</td>\n",
       "    </tr>\n",
       "    <tr>\n",
       "      <th>55</th>\n",
       "      <td>ou</td>\n",
       "      <td>22</td>\n",
       "    </tr>\n",
       "  </tbody>\n",
       "</table>\n",
       "</div>"
      ],
      "text/plain": [
       "    word  frequency\n",
       "53    de        579\n",
       "21    la        425\n",
       "42    et        379\n",
       "34    le        356\n",
       "49     l        322\n",
       "63   les        274\n",
       "35    un        173\n",
       "48   des        167\n",
       "41     d        162\n",
       "19     à        150\n",
       "70    en        125\n",
       "58   est        120\n",
       "36   une        108\n",
       "4     on         79\n",
       "28  pour         74\n",
       "44    du         70\n",
       "29  dans         66\n",
       "50  sont         65\n",
       "66   qui         61\n",
       "46    je         61\n",
       "23     a         59\n",
       "11   que         49\n",
       "62    il         43\n",
       "47    au         40\n",
       "52    qu         39\n",
       "20  avec         38\n",
       "38    ma         38\n",
       "68   ils         30\n",
       "18   mes         29\n",
       "51  être         29\n",
       "32     y         27\n",
       "10   par         26\n",
       "45     n         25\n",
       "43   mon         25\n",
       "55    ou         22"
      ]
     },
     "execution_count": 55,
     "metadata": {},
     "output_type": "execute_result"
    }
   ],
   "source": [
    "u2.sort_values('frequency', ascending=False).head(35)"
   ]
  },
  {
   "cell_type": "code",
   "execution_count": 56,
   "metadata": {},
   "outputs": [],
   "source": [
    "## No words to remove from stopwords!\n"
   ]
  },
  {
   "cell_type": "markdown",
   "metadata": {},
   "source": [
    "#### Remove stopwords from corpus"
   ]
  },
  {
   "cell_type": "code",
   "execution_count": 57,
   "metadata": {},
   "outputs": [
    {
     "data": {
      "text/html": [
       "<div>\n",
       "<style scoped>\n",
       "    .dataframe tbody tr th:only-of-type {\n",
       "        vertical-align: middle;\n",
       "    }\n",
       "\n",
       "    .dataframe tbody tr th {\n",
       "        vertical-align: top;\n",
       "    }\n",
       "\n",
       "    .dataframe thead th {\n",
       "        text-align: right;\n",
       "    }\n",
       "</style>\n",
       "<table border=\"1\" class=\"dataframe\">\n",
       "  <thead>\n",
       "    <tr style=\"text-align: right;\">\n",
       "      <th></th>\n",
       "      <th>sentence</th>\n",
       "      <th>qlabel</th>\n",
       "      <th>tokenized_sent</th>\n",
       "    </tr>\n",
       "  </thead>\n",
       "  <tbody>\n",
       "    <tr>\n",
       "      <th>0</th>\n",
       "      <td>mes études, ma famille et mon entourage</td>\n",
       "      <td>1</td>\n",
       "      <td>[études, famille, entourage]</td>\n",
       "    </tr>\n",
       "    <tr>\n",
       "      <th>1</th>\n",
       "      <td>Rien</td>\n",
       "      <td>1</td>\n",
       "      <td>[rien]</td>\n",
       "    </tr>\n",
       "    <tr>\n",
       "      <th>2</th>\n",
       "      <td>La mentalité</td>\n",
       "      <td>1</td>\n",
       "      <td>[mentalité]</td>\n",
       "    </tr>\n",
       "    <tr>\n",
       "      <th>3</th>\n",
       "      <td>Qualité de vie</td>\n",
       "      <td>1</td>\n",
       "      <td>[qualité, vie]</td>\n",
       "    </tr>\n",
       "    <tr>\n",
       "      <th>4</th>\n",
       "      <td>Une bonne ambiance de travail</td>\n",
       "      <td>1</td>\n",
       "      <td>[bonne, ambiance, travail]</td>\n",
       "    </tr>\n",
       "  </tbody>\n",
       "</table>\n",
       "</div>"
      ],
      "text/plain": [
       "                                  sentence  qlabel  \\\n",
       "0  mes études, ma famille et mon entourage       1   \n",
       "1                                     Rien       1   \n",
       "2                             La mentalité       1   \n",
       "3                           Qualité de vie       1   \n",
       "4            Une bonne ambiance de travail       1   \n",
       "\n",
       "                 tokenized_sent  \n",
       "0  [études, famille, entourage]  \n",
       "1                        [rien]  \n",
       "2                   [mentalité]  \n",
       "3                [qualité, vie]  \n",
       "4    [bonne, ambiance, travail]  "
      ]
     },
     "execution_count": 57,
     "metadata": {},
     "output_type": "execute_result"
    }
   ],
   "source": [
    "# Finally remove stop words from our corpus\n",
    "u = [[word for word in sent if word not in stop_words_fr] for sent in corpus_sent_df.tokenized_sent]\n",
    "assert(len(u) == len(corpus_sent_df))\n",
    "corpus_sent_df.tokenized_sent = pd.Series(u)\n",
    "corpus_sent_df.head()"
   ]
  },
  {
   "cell_type": "code",
   "execution_count": 58,
   "metadata": {},
   "outputs": [
    {
     "data": {
      "text/plain": [
       "[(367, '!'),\n",
       " (836, '!'),\n",
       " (911, 'A'),\n",
       " (922, '-'),\n",
       " (1206, '.'),\n",
       " (1215, '!'),\n",
       " (1219, '-'),\n",
       " (1236, '!')]"
      ]
     },
     "execution_count": 58,
     "metadata": {},
     "output_type": "execute_result"
    }
   ],
   "source": [
    "# Which documents became empty after removing stopwords?\n",
    "[(i,row.sentence) for i,row in corpus_sent_df.iterrows() if len(row.tokenized_sent)==0]"
   ]
  },
  {
   "cell_type": "code",
   "execution_count": 59,
   "metadata": {},
   "outputs": [
    {
     "data": {
      "text/plain": [
       "sentence          1€=3dt\n",
       "qlabel                 3\n",
       "tokenized_sent      [dt]\n",
       "Name: 390, dtype: object"
      ]
     },
     "execution_count": 59,
     "metadata": {},
     "output_type": "execute_result"
    }
   ],
   "source": [
    "corpus_sent_df.iloc[390,:]"
   ]
  },
  {
   "cell_type": "markdown",
   "metadata": {},
   "source": [
    "### Clean up words based on word length\n",
    "- will first get an idea about which words are unusually short or long.\n",
    "- Very short words are usually not very meaningful; might be stopwords or abbreviations of some sort --> usually should be removed.\n",
    "- Very long words are rare or meaningless or concatenations of multiple words, elongated words --> usually should be removed or normalized/stemmed."
   ]
  },
  {
   "cell_type": "code",
   "execution_count": 60,
   "metadata": {},
   "outputs": [
    {
     "data": {
      "text/plain": [
       "(list, 6145)"
      ]
     },
     "execution_count": 60,
     "metadata": {},
     "output_type": "execute_result"
    }
   ],
   "source": [
    "# create list of all words in corpus\n",
    "corpus_words_ = [word for sent in corpus_sent_df.tokenized_sent for word in sent]\n",
    "type(corpus_words_),len(corpus_words_)"
   ]
  },
  {
   "cell_type": "code",
   "execution_count": 61,
   "metadata": {},
   "outputs": [
    {
     "data": {
      "text/plain": [
       "études       6\n",
       "famille      7\n",
       "entourage    9\n",
       "rien         4\n",
       "mentalité    9\n",
       "dtype: int64"
      ]
     },
     "execution_count": 61,
     "metadata": {},
     "output_type": "execute_result"
    }
   ],
   "source": [
    "word_len_df_ = pd.Series([len(word) for word in corpus_words_],index=corpus_words_)\n",
    "word_len_df_.head()"
   ]
  },
  {
   "cell_type": "code",
   "execution_count": 62,
   "metadata": {},
   "outputs": [
    {
     "data": {
      "text/plain": [
       "count    6145.000000\n",
       "mean        6.986981\n",
       "std         2.802266\n",
       "min         1.000000\n",
       "25%         5.000000\n",
       "50%         7.000000\n",
       "75%         9.000000\n",
       "max        19.000000\n",
       "dtype: float64"
      ]
     },
     "execution_count": 62,
     "metadata": {},
     "output_type": "execute_result"
    }
   ],
   "source": [
    "word_len_df_.describe()"
   ]
  },
  {
   "cell_type": "code",
   "execution_count": 63,
   "metadata": {},
   "outputs": [
    {
     "data": {
      "image/png": "[encoded data removed]",
      "text/plain": [
       "<matplotlib.figure.Figure at 0x28583689550>"
      ]
     },
     "metadata": {},
     "output_type": "display_data"
    }
   ],
   "source": [
    "fig = word_len_df_.plot(kind='hist', title=\"word length\")"
   ]
  },
  {
   "cell_type": "code",
   "execution_count": 64,
   "metadata": {},
   "outputs": [
    {
     "data": {
      "text/plain": [
       "2    85\n",
       "1    24\n",
       "dtype: int64"
      ]
     },
     "execution_count": 64,
     "metadata": {},
     "output_type": "execute_result"
    }
   ],
   "source": [
    "# words with <= 2 characters\n",
    "word_len_df_[word_len_df_<=2].value_counts()"
   ]
  },
  {
   "cell_type": "code",
   "execution_count": 65,
   "metadata": {},
   "outputs": [
    {
     "data": {
      "text/plain": [
       "is    2\n",
       "i     1\n",
       "my    2\n",
       "my    2\n",
       "up    2\n",
       "dtype: int64"
      ]
     },
     "execution_count": 65,
     "metadata": {},
     "output_type": "execute_result"
    }
   ],
   "source": [
    "word_len_df_[word_len_df_<=2].head()"
   ]
  },
  {
   "cell_type": "code",
   "execution_count": 66,
   "metadata": {},
   "outputs": [
    {
     "data": {
      "text/html": [
       "<div>\n",
       "<style scoped>\n",
       "    .dataframe tbody tr th:only-of-type {\n",
       "        vertical-align: middle;\n",
       "    }\n",
       "\n",
       "    .dataframe tbody tr th {\n",
       "        vertical-align: top;\n",
       "    }\n",
       "\n",
       "    .dataframe thead th {\n",
       "        text-align: right;\n",
       "    }\n",
       "</style>\n",
       "<table border=\"1\" class=\"dataframe\">\n",
       "  <thead>\n",
       "    <tr style=\"text-align: right;\">\n",
       "      <th></th>\n",
       "      <th>sentence</th>\n",
       "      <th>qlabel</th>\n",
       "      <th>tokenized_sent</th>\n",
       "    </tr>\n",
       "  </thead>\n",
       "  <tbody>\n",
       "    <tr>\n",
       "      <th>0</th>\n",
       "      <td>mes études, ma famille et mon entourage</td>\n",
       "      <td>1</td>\n",
       "      <td>[études, famille, entourage]</td>\n",
       "    </tr>\n",
       "    <tr>\n",
       "      <th>1</th>\n",
       "      <td>Rien</td>\n",
       "      <td>1</td>\n",
       "      <td>[rien]</td>\n",
       "    </tr>\n",
       "    <tr>\n",
       "      <th>2</th>\n",
       "      <td>La mentalité</td>\n",
       "      <td>1</td>\n",
       "      <td>[mentalité]</td>\n",
       "    </tr>\n",
       "    <tr>\n",
       "      <th>3</th>\n",
       "      <td>Qualité de vie</td>\n",
       "      <td>1</td>\n",
       "      <td>[qualité, vie]</td>\n",
       "    </tr>\n",
       "    <tr>\n",
       "      <th>4</th>\n",
       "      <td>Une bonne ambiance de travail</td>\n",
       "      <td>1</td>\n",
       "      <td>[bonne, ambiance, travail]</td>\n",
       "    </tr>\n",
       "  </tbody>\n",
       "</table>\n",
       "</div>"
      ],
      "text/plain": [
       "                                  sentence  qlabel  \\\n",
       "0  mes études, ma famille et mon entourage       1   \n",
       "1                                     Rien       1   \n",
       "2                             La mentalité       1   \n",
       "3                           Qualité de vie       1   \n",
       "4            Une bonne ambiance de travail       1   \n",
       "\n",
       "                 tokenized_sent  \n",
       "0  [études, famille, entourage]  \n",
       "1                        [rien]  \n",
       "2                   [mentalité]  \n",
       "3                [qualité, vie]  \n",
       "4    [bonne, ambiance, travail]  "
      ]
     },
     "execution_count": 66,
     "metadata": {},
     "output_type": "execute_result"
    }
   ],
   "source": [
    "# Remove words with <= 2 characters\n",
    "u = [[word for word in sent if len(word)>2] for sent in corpus_sent_df.tokenized_sent]\n",
    "assert(len(u) == len(corpus_sent_df))\n",
    "corpus_sent_df.tokenized_sent = pd.Series(u)\n",
    "corpus_sent_df.head()"
   ]
  },
  {
   "cell_type": "code",
   "execution_count": 67,
   "metadata": {},
   "outputs": [
    {
     "data": {
      "text/plain": [
       "[(367, '!'),\n",
       " (390, '1€=3dt'),\n",
       " (836, '!'),\n",
       " (911, 'A'),\n",
       " (922, '-'),\n",
       " (1206, '.'),\n",
       " (1215, '!'),\n",
       " (1219, '-'),\n",
       " (1236, '!')]"
      ]
     },
     "execution_count": 67,
     "metadata": {},
     "output_type": "execute_result"
    }
   ],
   "source": [
    "# Which documents became empty after removing short words?\n",
    "[(i,row.sentence) for i,row in corpus_sent_df.iterrows() if len(row.tokenized_sent)==0]"
   ]
  },
  {
   "cell_type": "code",
   "execution_count": 68,
   "metadata": {},
   "outputs": [
    {
     "name": "stdout",
     "output_type": "stream",
     "text": [
      "10904 1977\n",
      "6036 1843\n"
     ]
    }
   ],
   "source": [
    "## Word frequency distribution\n",
    "corpus_words_ = [word for sent in corpus_sent_df.tokenized_sent for word in sent]\n",
    "fdist3 = FreqDist(corpus_words_)\n",
    "assert(fdist3.N()<fdist2.N() and fdist3.B()<=fdist3.B())\n",
    "print(fdist2.N(),fdist2.B())\n",
    "print(fdist3.N(),fdist3.B())"
   ]
  },
  {
   "cell_type": "markdown",
   "metadata": {},
   "source": [
    "*Observations & conclusions*\n",
    "- Most short words are either stopwords or non-french words (english or tunisian dialect)."
   ]
  },
  {
   "cell_type": "markdown",
   "metadata": {},
   "source": [
    "### Spell Checking of words\n",
    "Merge (conflate) orthographically similar words.\n",
    "\n",
    "Algorithm: \n",
    "- build undirected graph of words (nodes);\n",
    "- put edge between words with edit/Levenshtein distance <= Threshold (currently using Threshold = 1); \n",
    "- find groups of words as the connected components of this graph."
   ]
  },
  {
   "cell_type": "code",
   "execution_count": 69,
   "metadata": {},
   "outputs": [
    {
     "data": {
      "text/plain": [
       "(3, 16)"
      ]
     },
     "execution_count": 69,
     "metadata": {},
     "output_type": "execute_result"
    }
   ],
   "source": [
    "fdist3['œuvre'],fdist3['oeuvre']"
   ]
  },
  {
   "cell_type": "markdown",
   "metadata": {},
   "source": [
    "#### Build graph of orthographically similar words"
   ]
  },
  {
   "cell_type": "code",
   "execution_count": 70,
   "metadata": {},
   "outputs": [],
   "source": [
    "import networkx as nx"
   ]
  },
  {
   "cell_type": "code",
   "execution_count": 71,
   "metadata": {},
   "outputs": [],
   "source": [
    "from nltk import edit_distance"
   ]
  },
  {
   "cell_type": "code",
   "execution_count": 72,
   "metadata": {},
   "outputs": [],
   "source": [
    "#?nx.Graph"
   ]
  },
  {
   "cell_type": "code",
   "execution_count": 73,
   "metadata": {},
   "outputs": [],
   "source": [
    "#?edit_distance"
   ]
  },
  {
   "cell_type": "code",
   "execution_count": 74,
   "metadata": {},
   "outputs": [
    {
     "data": {
      "text/plain": [
       "1415"
      ]
     },
     "execution_count": 74,
     "metadata": {},
     "output_type": "execute_result"
    }
   ],
   "source": [
    "long_words_ = list({word for sent in corpus_sent_df.tokenized_sent for word in sent if len(word)>=6})\n",
    "len(long_words_)"
   ]
  },
  {
   "cell_type": "code",
   "execution_count": 75,
   "metadata": {},
   "outputs": [
    {
     "name": "stdout",
     "output_type": "stream",
     "text": [
      "367 550\n"
     ]
    }
   ],
   "source": [
    "#n = len(long_words)\n",
    "#M = np.zeros((n,n))\n",
    "#d = defaultdict(list)\n",
    "g = nx.Graph() # empty UNDIRECTED graph\n",
    "for i,word1 in enumerate(long_words_):\n",
    "    for j in range(i+1,len(long_words_)):\n",
    "        word2 = long_words_[j]\n",
    "        if abs(len(word1)-len(word2)) <= 1:\n",
    "            e = edit_distance(word1,word2)\n",
    "            #M[i,j] = e\n",
    "            if e == 1:\n",
    "                g.add_edge(i,j)\n",
    "                #M[i,j] = 1\n",
    "                #M[j,i] = 1\n",
    "                #print(word1,word2)\n",
    "                #d[word1].append(word2)\n",
    "\n",
    "#len(d),np.sum(M==1)\n",
    "#[(k,v) for k,v in d.items() if len(v)>0]\n",
    "#M2 = np.asmatrix(M)\n",
    "#sns.heatmap(M2, annot=False)\n",
    "\n",
    "print(len(g.edges()),len(g.nodes()))   ## g.is_directed(),,g.size()"
   ]
  },
  {
   "cell_type": "markdown",
   "metadata": {},
   "source": [
    "#### Find connected components of words\n",
    "**TO DO**: remove CCs with low cohesion ..."
   ]
  },
  {
   "cell_type": "code",
   "execution_count": 76,
   "metadata": {},
   "outputs": [],
   "source": [
    "#largest_cc = max(nx.connected_components(g), key=len)\n",
    "#[long_words_[i] for i in largest_cc]"
   ]
  },
  {
   "cell_type": "code",
   "execution_count": 77,
   "metadata": {},
   "outputs": [
    {
     "data": {
      "text/plain": [
       "217"
      ]
     },
     "execution_count": 77,
     "metadata": {},
     "output_type": "execute_result"
    }
   ],
   "source": [
    "CCs = [c for c in sorted(nx.connected_components(g), key=len, reverse=True)]\n",
    "len(CCs)"
   ]
  },
  {
   "cell_type": "code",
   "execution_count": 78,
   "metadata": {},
   "outputs": [
    {
     "data": {
      "text/plain": [
       "2    161\n",
       "3     26\n",
       "4     19\n",
       "7      3\n",
       "5      3\n",
       "9      2\n",
       "6      2\n",
       "8      1\n",
       "dtype: int64"
      ]
     },
     "execution_count": 78,
     "metadata": {},
     "output_type": "execute_result"
    }
   ],
   "source": [
    "u = [len(cc) for cc in CCs]\n",
    "assert(min(u) >= 2)\n",
    "pd.Series(u).value_counts()"
   ]
  },
  {
   "cell_type": "code",
   "execution_count": 79,
   "metadata": {},
   "outputs": [
    {
     "data": {
      "text/plain": [
       "[['différent',\n",
       "  'difference',\n",
       "  'différant',\n",
       "  'différences',\n",
       "  'différents',\n",
       "  'différente',\n",
       "  'different',\n",
       "  'diffèrent',\n",
       "  'différence'],\n",
       " ['etrangere',\n",
       "  'étranger',\n",
       "  'letranger',\n",
       "  'etrangers',\n",
       "  'étanger',\n",
       "  'etranger',\n",
       "  'entranger',\n",
       "  'étrangers',\n",
       "  'etrangeres'],\n",
       " ['développe',\n",
       "  'développera',\n",
       "  'développées',\n",
       "  'développer',\n",
       "  'développé',\n",
       "  'développés',\n",
       "  'développée',\n",
       "  'developper'],\n",
       " ['change', 'échange', 'charge', 'charges', 'chance', 'chances', 'changer'],\n",
       " ['respecte',\n",
       "  'respecté',\n",
       "  'respect',\n",
       "  'respected',\n",
       "  'respet',\n",
       "  'respecter',\n",
       "  'respcet'],\n",
       " ['mentality',\n",
       "  'mentalité',\n",
       "  'montalité',\n",
       "  'mentalit',\n",
       "  'mortalité',\n",
       "  'mentalités',\n",
       "  'mentalite'],\n",
       " ['avancés', 'avancé', 'avancer', 'avancéée', 'avance', 'avancée'],\n",
       " ['aiment', 'payment', 'paiement', 'paiment', 'payent', 'aident'],\n",
       " ['diplome', 'diplomes', 'diplômés', 'diplôme', 'diplômes'],\n",
       " ['financière', 'financiers', 'financieres', 'financières', 'financier'],\n",
       " ['trouve', 'trouveras', 'trouvera', 'trouvé', 'trouver'],\n",
       " ['civilisme', 'civilisés', 'civilisée', 'civilisé'],\n",
       " ['ingénieurs', 'ingenieurs', 'ingenieur', 'ingénieur'],\n",
       " ['faciliter', 'facilité', 'facilités', 'facilite'],\n",
       " ['valorisés', 'valorise', 'valoriser', 'valorisé'],\n",
       " ['économique', 'economiques', 'économiques', 'economique'],\n",
       " ['tunisia', 'tunisien', 'tunisiens', 'tunisie'],\n",
       " ['meilleures', 'meilleurs', 'meilleure', 'meilleur'],\n",
       " ['entourage', 'encourages', 'encourage', 'encourager'],\n",
       " ['personnes', 'oersonne', 'personnel', 'personne'],\n",
       " ['humaines', 'humaine', 'humain', 'humains'],\n",
       " ['carrière', 'carrières', 'carriere', 'carière'],\n",
       " ['motivent', 'motivants', 'motivant', 'motivante'],\n",
       " ['opportunity', 'opportunités', 'opprtunités', 'opportunité'],\n",
       " ['tolérants', 'tolérante', 'tolerance', 'tolérance'],\n",
       " ['présente', 'présence', 'presence', 'présentes'],\n",
       " ['experiences', 'experience', 'expériences', 'expérience'],\n",
       " ['ouvrir', 'ouvriers', 'ouvrier', 'couvrir'],\n",
       " ['éthiques', 'étiques', 'éthique', 'ethique'],\n",
       " ['innovant', 'innovantes', 'innovante', 'innovants'],\n",
       " ['professionnel', 'professionnels', 'professionel'],\n",
       " ['compétence', 'competences', 'compétences'],\n",
       " ['professionnalisme', 'professionalisme', 'profesionnalisme'],\n",
       " ['limitée', 'limité', 'limités'],\n",
       " ['quitte', 'quitter', 'quiter'],\n",
       " ['people', 'peuple', 'peuples'],\n",
       " ['salariés', 'salaries', 'salariées'],\n",
       " ['inverstissements', 'investissements', 'investissement'],\n",
       " ['décentes', 'récente', 'décente'],\n",
       " ['comfortable', 'confortable', 'confortables'],\n",
       " ['compliquée', 'compliqué', 'compliquee'],\n",
       " ['comparé', 'comparer', 'compare'],\n",
       " ['motivés', 'motivée', 'motive'],\n",
       " ['culturel', 'cultures', 'culture'],\n",
       " ['satisfaisante', 'satisfaisantes', 'satisfaisant'],\n",
       " ['volonté', 'volontée', 'volontés'],\n",
       " ['domine', 'domaine', 'domaines'],\n",
       " ['grands', 'grande', 'grandes'],\n",
       " ['profiter', 'profit', 'profite'],\n",
       " ['systèmes', 'système', 'systemes'],\n",
       " ['sociales', 'social', 'sociale'],\n",
       " ['mauvaises', 'mauvais', 'mauvaise'],\n",
       " ['metier', 'métiers', 'métier'],\n",
       " ['internationales', 'internationale', 'international'],\n",
       " ['travaille', 'travailler', 'travaillé'],\n",
       " ['liberté', 'liberte', 'libertés'],\n",
       " ['accepter', 'accepte'],\n",
       " ['reconnaissance', 'reconaissance'],\n",
       " ['societes', 'societe'],\n",
       " ['dominante', 'dominance'],\n",
       " ['population', 'popularion'],\n",
       " ['capable', 'capables'],\n",
       " ['individuelles', 'individuelle'],\n",
       " ['connais', 'connait'],\n",
       " ['religieuses', 'religieuse'],\n",
       " ['sécurité', 'sécurisé'],\n",
       " ['dabbegh', 'dabegh'],\n",
       " ['stresse', 'stress'],\n",
       " ['existance', 'existence'],\n",
       " ['culturelles', 'culturelle'],\n",
       " ['activités', 'activité'],\n",
       " ['decouverte', 'découverte'],\n",
       " ['nation', 'notion'],\n",
       " ['étrangère', 'étrangères'],\n",
       " ['developpement', 'développement'],\n",
       " ['encouragent', 'encourageant'],\n",
       " ['société', 'sociétés'],\n",
       " ['faible', 'faibles'],\n",
       " ['expertise', 'expertises'],\n",
       " ['valeur', 'valeurs'],\n",
       " ['professionnelle', 'professionnelles'],\n",
       " ['pourriez', 'pourries'],\n",
       " ['arriver', 'arrive'],\n",
       " ['acceuillants', 'aceuillants'],\n",
       " ['quelques', 'quelque'],\n",
       " ['nouvelle', 'nouvelles'],\n",
       " ['épanouit', 'épanouie'],\n",
       " ['éspoir', 'espoir'],\n",
       " ['etudes', 'études'],\n",
       " ['dépend', 'depend'],\n",
       " ['avantage', 'avantages'],\n",
       " ['institution', 'institutions'],\n",
       " ['rapport', 'apport'],\n",
       " ['naturelle', 'naturelles'],\n",
       " ['continu', 'continue'],\n",
       " ['objectifs', 'objectif'],\n",
       " ['matériels', 'matériel'],\n",
       " ['adéquat', 'adéquate'],\n",
       " ['devises', 'devise'],\n",
       " ['dinars', 'dinard'],\n",
       " ['techniciens', 'technicien'],\n",
       " ['rémunèré', 'rémunéré'],\n",
       " ['industrie', 'industries'],\n",
       " ['education', 'éducation'],\n",
       " ['spécialité', 'spésialité'],\n",
       " ['pointe', 'points'],\n",
       " ['employeur', 'employeurs'],\n",
       " ['administratives', 'administrative'],\n",
       " ['employé', 'employés'],\n",
       " ['sacrifices', 'sacrifice'],\n",
       " ['général', 'générale'],\n",
       " ['personnelle', 'personnelles'],\n",
       " ['engagement', 'engagements'],\n",
       " ['partir', 'partie'],\n",
       " ['organisés', 'organisé'],\n",
       " ['confort', 'comfort'],\n",
       " ['argebt', 'argent'],\n",
       " ['marché', 'marchés'],\n",
       " ['réussir', 'reussir'],\n",
       " ['discipliné', 'discipline'],\n",
       " ['manquent', 'manquant'],\n",
       " ['fainéant', 'fainéants'],\n",
       " ['ecosystème', 'écosystème'],\n",
       " ['partage', 'partager'],\n",
       " ['perspectives', 'perspective'],\n",
       " ['tunisienne', 'tunisiennes'],\n",
       " ['possibilités', 'possibilité'],\n",
       " ['ouvert', 'ouverte'],\n",
       " ['mettent', 'jettent'],\n",
       " ['technique', 'techniques'],\n",
       " ['besoin', 'besoins'],\n",
       " ['effort', 'efforts'],\n",
       " ['difficile', 'difficie'],\n",
       " ['stable', 'stables'],\n",
       " ['connaissances', 'connaissance'],\n",
       " ['reconnu', 'reconnue'],\n",
       " ['rémunération', 'rémunérations'],\n",
       " ['encouragement', 'encouragements'],\n",
       " ['salaire', 'salaires'],\n",
       " ['condition', 'conditions'],\n",
       " ['niveau', 'niveaux'],\n",
       " ['horaires', 'horaire'],\n",
       " ['mériter', 'mérite'],\n",
       " ['paysages', 'paysage'],\n",
       " ['administration', 'administrations'],\n",
       " ['technologique', 'technologiques'],\n",
       " ['hierarchie', 'hiérarchie'],\n",
       " ['salariales', 'salariale'],\n",
       " ['équivalente', 'équivalent'],\n",
       " ['evolution', 'évolution'],\n",
       " ['civilization', 'civilisation'],\n",
       " ['projets', 'projet'],\n",
       " ['secteurs', 'secteur'],\n",
       " ['enorme', 'énorme'],\n",
       " ['langue', 'langues'],\n",
       " ['étatique', 'etatique'],\n",
       " ['nouveau', 'nouveaux'],\n",
       " ['étudiante', 'étudiant'],\n",
       " ['famille', 'familles'],\n",
       " ['fournir', 'fourni'],\n",
       " ['ponctuelles', 'ponctuelle'],\n",
       " ['médecine', 'médecin'],\n",
       " ['instabilite', 'instabilité'],\n",
       " ['sciences', 'science'],\n",
       " ['ponctualité', 'ponctualite'],\n",
       " ['filles', 'villes'],\n",
       " ['collègues', 'collégues'],\n",
       " ['excellente', 'excellents'],\n",
       " ['relations', 'relation'],\n",
       " ['beacoup', 'beaucoup'],\n",
       " ['commun', 'communs'],\n",
       " ['intéressantes', 'interessantes'],\n",
       " ['favorable', 'favorables'],\n",
       " ['facile', 'faciles'],\n",
       " ['emplois', 'emploi'],\n",
       " ['nature', 'mature'],\n",
       " ['étudie', 'étudier'],\n",
       " ['proposés', 'proposées'],\n",
       " ['incomparables', 'incomparable'],\n",
       " ['impots', 'impôts'],\n",
       " ['volorisent', 'valorisent'],\n",
       " ['quitterai', 'quitterais'],\n",
       " ['bienvenue', 'bienvenu'],\n",
       " ['tradition', 'traditions'],\n",
       " ['savoir', 'savoirs'],\n",
       " ['atmosphère', 'atmosphere'],\n",
       " ['investis', 'investir'],\n",
       " ['ambitions', 'ambition'],\n",
       " ['rencontres', 'rencontre'],\n",
       " ['évoluer', 'évolue'],\n",
       " ['certaine', 'certaines'],\n",
       " ['claires', 'claire'],\n",
       " ['richesses', 'richesse'],\n",
       " ['startup', 'startups'],\n",
       " ['serieux', 'sérieux'],\n",
       " ['plages', 'places'],\n",
       " ['chômage', 'chomage'],\n",
       " ['torisme', 'tourisme'],\n",
       " ['responsabilité', 'responsabilités'],\n",
       " ['technologie', 'technologies'],\n",
       " ['entreprise', 'entreprises'],\n",
       " ['qualite', 'qualité'],\n",
       " ['poubelles', 'poubelle'],\n",
       " ['information', 'informations'],\n",
       " ['absents', 'absent'],\n",
       " ['raison', 'raisons'],\n",
       " ['comportements', 'comportement'],\n",
       " ['progrès', 'prgrès'],\n",
       " ['chercher', 'cherche'],\n",
       " ['respectant', 'respectent'],\n",
       " ['ajoutée', 'ajouté'],\n",
       " ['voyage', 'voyager'],\n",
       " ['procédure', 'procédures'],\n",
       " ['boulots', 'boulot'],\n",
       " ['terrain', 'terrains'],\n",
       " ['esprits', 'esprit'],\n",
       " ['adaptés', 'adapté']]"
      ]
     },
     "execution_count": 79,
     "metadata": {},
     "output_type": "execute_result"
    }
   ],
   "source": [
    "## Visually inspect and validate similar words\n",
    "[[long_words_[i] for i in cc]  for cc in CCs]"
   ]
  },
  {
   "cell_type": "code",
   "execution_count": 80,
   "metadata": {},
   "outputs": [
    {
     "name": "stdout",
     "output_type": "stream",
     "text": [
      "aident aiment 1\n",
      "aident paiement 3\n",
      "aident paiment 2\n",
      "aident payent 3\n",
      "aident payment 3\n",
      "aiment paiement 2\n",
      "aiment paiment 1\n",
      "aiment payent 3\n",
      "aiment payment 2\n",
      "paiement paiment 1\n",
      "paiement payent 3\n",
      "paiement payment 2\n",
      "paiment payent 2\n",
      "paiment payment 1\n",
      "payent payment 1\n"
     ]
    }
   ],
   "source": [
    "L = ['aident', 'payment', 'paiment', 'aiment', 'paiement', 'payent']\n",
    "L.sort()\n",
    "\n",
    "for word1 in L:\n",
    "    for word2 in L:\n",
    "        if word1<word2:\n",
    "            print(word1,word2,edit_distance(word1,word2))"
   ]
  },
  {
   "cell_type": "markdown",
   "metadata": {},
   "source": [
    "#### Merge (conflate) orthographically similar words in the corpus\n",
    "Finally, merge similar words. Keep the most frequent word as the group representative."
   ]
  },
  {
   "cell_type": "code",
   "execution_count": 81,
   "metadata": {},
   "outputs": [
    {
     "data": {
      "text/plain": [
       "333"
      ]
     },
     "execution_count": 81,
     "metadata": {},
     "output_type": "execute_result"
    }
   ],
   "source": [
    "# Create dictionary of groups of similar/related words\n",
    "word_map1_dict_ = defaultdict(str)\n",
    "\n",
    "for cc in CCs:\n",
    "    #elements of cc are integer indices of words in the long_words_ list\n",
    "    assert(len(cc) >= 2)\n",
    "    word_group_ = [long_words_[i] for i in cc]  #group of 2 or more orthographically similar words\n",
    "    word_freq_ = [fdist3[word] for word in word_group_]  #their frequencies\n",
    "    word_len_ = [len(word) for word in word_group_]  #their lengths\n",
    "\n",
    "    ## Select best word in this group\n",
    "    #new method: select most frequent word; break ties by selecting shorter word\n",
    "    word_freq_df_ = pd.DataFrame({'freq':word_freq_, 'length': word_len_}, index = word_group_)\n",
    "    word_freq_df_.sort_values(by=['freq','length'], ascending=[False,True], inplace=True)\n",
    "    best_word = word_freq_df_.index[0]\n",
    "\n",
    "    #old method: select the most frequent word\n",
    "    #best_word = word_group_[np.argmax(word_freq_)]\n",
    "\n",
    "    ## map all words in this group to best_word\n",
    "    for word in word_group_:\n",
    "        if word != best_word:\n",
    "            word_map1_dict_[word] = best_word  #map all words to the most frequent word in the group\n",
    "\n",
    "assert(len(word_map1_dict_)>=len(CCs))\n",
    "\n",
    "#number of words that will be conflated to another word\n",
    "len(word_map1_dict_)"
   ]
  },
  {
   "cell_type": "code",
   "execution_count": 82,
   "metadata": {},
   "outputs": [
    {
     "data": {
      "text/html": [
       "<div>\n",
       "<style scoped>\n",
       "    .dataframe tbody tr th:only-of-type {\n",
       "        vertical-align: middle;\n",
       "    }\n",
       "\n",
       "    .dataframe tbody tr th {\n",
       "        vertical-align: top;\n",
       "    }\n",
       "\n",
       "    .dataframe thead th {\n",
       "        text-align: right;\n",
       "    }\n",
       "</style>\n",
       "<table border=\"1\" class=\"dataframe\">\n",
       "  <thead>\n",
       "    <tr style=\"text-align: right;\">\n",
       "      <th></th>\n",
       "      <th>sentence</th>\n",
       "      <th>qlabel</th>\n",
       "      <th>tokenized_sent</th>\n",
       "    </tr>\n",
       "  </thead>\n",
       "  <tbody>\n",
       "    <tr>\n",
       "      <th>0</th>\n",
       "      <td>mes études, ma famille et mon entourage</td>\n",
       "      <td>1</td>\n",
       "      <td>[études, famille, entourage]</td>\n",
       "    </tr>\n",
       "    <tr>\n",
       "      <th>1</th>\n",
       "      <td>Rien</td>\n",
       "      <td>1</td>\n",
       "      <td>[rien]</td>\n",
       "    </tr>\n",
       "    <tr>\n",
       "      <th>2</th>\n",
       "      <td>La mentalité</td>\n",
       "      <td>1</td>\n",
       "      <td>[mentalité]</td>\n",
       "    </tr>\n",
       "    <tr>\n",
       "      <th>3</th>\n",
       "      <td>Qualité de vie</td>\n",
       "      <td>1</td>\n",
       "      <td>[qualité, vie]</td>\n",
       "    </tr>\n",
       "    <tr>\n",
       "      <th>4</th>\n",
       "      <td>Une bonne ambiance de travail</td>\n",
       "      <td>1</td>\n",
       "      <td>[bonne, ambiance, travail]</td>\n",
       "    </tr>\n",
       "  </tbody>\n",
       "</table>\n",
       "</div>"
      ],
      "text/plain": [
       "                                  sentence  qlabel  \\\n",
       "0  mes études, ma famille et mon entourage       1   \n",
       "1                                     Rien       1   \n",
       "2                             La mentalité       1   \n",
       "3                           Qualité de vie       1   \n",
       "4            Une bonne ambiance de travail       1   \n",
       "\n",
       "                 tokenized_sent  \n",
       "0  [études, famille, entourage]  \n",
       "1                        [rien]  \n",
       "2                   [mentalité]  \n",
       "3                [qualité, vie]  \n",
       "4    [bonne, ambiance, travail]  "
      ]
     },
     "execution_count": 82,
     "metadata": {},
     "output_type": "execute_result"
    }
   ],
   "source": [
    "u = [[word_map1_dict_[word] if word in word_map1_dict_ else word for word in sent] for sent in corpus_sent_df.tokenized_sent]\n",
    "assert(len(u) == len(corpus_sent_df))\n",
    "corpus_sent_df.tokenized_sent = pd.Series(u)\n",
    "corpus_sent_df.head()"
   ]
  },
  {
   "cell_type": "code",
   "execution_count": 83,
   "metadata": {},
   "outputs": [
    {
     "name": "stdout",
     "output_type": "stream",
     "text": [
      "6036 1843\n",
      "6036 1510\n"
     ]
    }
   ],
   "source": [
    "corpus_words_after_spellcorr_ = [word for sent in corpus_sent_df.tokenized_sent for word in sent]\n",
    "fdist4 = FreqDist(corpus_words_after_spellcorr_)\n",
    "assert(fdist4.N()==fdist3.N() and (fdist3.B()-len(word_map1_dict_)) == fdist4.B())\n",
    "print(fdist3.N(),fdist3.B())\n",
    "print(fdist4.N(),fdist4.B())"
   ]
  },
  {
   "cell_type": "markdown",
   "metadata": {},
   "source": [
    "*Observations & conclusions*\n",
    "\n",
    "**TO DO**: \n",
    "- use LCS of consonant skeleton instead of edit distance ???\n",
    "- should not conflate 2 frequent words ???\n",
    "- combine information from stemming and orthographic similarity ???\n",
    "\n",
    "Spelling errors undetected by this heuristic:\n",
    "- oeuvre and œuvr  (this is because threshold edit distance is 1)\n",
    "\n",
    "Some conflation errors:\n",
    "- jettent, mettent\n",
    "- 'mentalité', 'mortalité'\n",
    "- nation, notion\n",
    "- 'mature', 'nature'\n",
    "- 'pourriez', 'pourries'\n",
    "- 'récente', 'décentes'\n",
    "- filles, villes\n",
    "- apport, rapport\n",
    "- place, plage\n",
    "- 'charge', 'échange', 'chance'\n",
    "- 'ouvrir', 'ouvriers', 'couvrir', 'ouvrier'\n",
    "- 'domaine', 'domine'\n",
    "- 'entourage', 'encourage'\n",
    "- 'aident', 'payment', 'paiment', 'aiment', 'paiement', 'payent'"
   ]
  },
  {
   "cell_type": "markdown",
   "metadata": {},
   "source": [
    "### Word normalization via stemming"
   ]
  },
  {
   "cell_type": "markdown",
   "metadata": {},
   "source": [
    "#### Implement stemming algorithm\n",
    "Apply Snowball stemming method from NLTK on words with 5 characters or more."
   ]
  },
  {
   "cell_type": "code",
   "execution_count": 84,
   "metadata": {},
   "outputs": [],
   "source": [
    "stemmer = FrenchStemmer()"
   ]
  },
  {
   "cell_type": "code",
   "execution_count": 85,
   "metadata": {},
   "outputs": [],
   "source": [
    "def my_stemmer(word):\n",
    "    if len(word)>4:\n",
    "        stem1 = stemmer.stem(word)\n",
    "        return stem1[0:8]\n",
    "    else:\n",
    "        return word"
   ]
  },
  {
   "cell_type": "markdown",
   "metadata": {},
   "source": [
    "#### Visualize stemming results\n",
    "Look for percent reduction in number of distinct words ..."
   ]
  },
  {
   "cell_type": "code",
   "execution_count": 86,
   "metadata": {},
   "outputs": [
    {
     "name": "stdout",
     "output_type": "stream",
     "text": [
      "(1510, 3)\n"
     ]
    },
    {
     "data": {
      "text/html": [
       "<div>\n",
       "<style scoped>\n",
       "    .dataframe tbody tr th:only-of-type {\n",
       "        vertical-align: middle;\n",
       "    }\n",
       "\n",
       "    .dataframe tbody tr th {\n",
       "        vertical-align: top;\n",
       "    }\n",
       "\n",
       "    .dataframe thead th {\n",
       "        text-align: right;\n",
       "    }\n",
       "</style>\n",
       "<table border=\"1\" class=\"dataframe\">\n",
       "  <thead>\n",
       "    <tr style=\"text-align: right;\">\n",
       "      <th></th>\n",
       "      <th>word_length</th>\n",
       "      <th>stem_length</th>\n",
       "      <th>length_reduction</th>\n",
       "    </tr>\n",
       "  </thead>\n",
       "  <tbody>\n",
       "    <tr>\n",
       "      <th>devoirs</th>\n",
       "      <td>7</td>\n",
       "      <td>6</td>\n",
       "      <td>1</td>\n",
       "    </tr>\n",
       "    <tr>\n",
       "      <th>corruption</th>\n",
       "      <td>10</td>\n",
       "      <td>7</td>\n",
       "      <td>3</td>\n",
       "    </tr>\n",
       "    <tr>\n",
       "      <th>perfection</th>\n",
       "      <td>10</td>\n",
       "      <td>7</td>\n",
       "      <td>3</td>\n",
       "    </tr>\n",
       "    <tr>\n",
       "      <th>selectif</th>\n",
       "      <td>8</td>\n",
       "      <td>6</td>\n",
       "      <td>2</td>\n",
       "    </tr>\n",
       "    <tr>\n",
       "      <th>payée</th>\n",
       "      <td>5</td>\n",
       "      <td>3</td>\n",
       "      <td>2</td>\n",
       "    </tr>\n",
       "  </tbody>\n",
       "</table>\n",
       "</div>"
      ],
      "text/plain": [
       "            word_length  stem_length  length_reduction\n",
       "devoirs               7            6                 1\n",
       "corruption           10            7                 3\n",
       "perfection           10            7                 3\n",
       "selectif              8            6                 2\n",
       "payée                 5            3                 2"
      ]
     },
     "execution_count": 86,
     "metadata": {},
     "output_type": "execute_result"
    }
   ],
   "source": [
    "# put stemming results in a data frame\n",
    "distinct_corpus_words_ = set([word for sent in corpus_sent_df.tokenized_sent for word in sent]) # set of all words in corpus\n",
    "\n",
    "u = [(len(word),len(my_stemmer(word))) for word in distinct_corpus_words_]\n",
    "u = [(x,y,x-y) for x,y in u]\n",
    "word_stemming_df_ = pd.DataFrame(u,index=distinct_corpus_words_)\n",
    "word_stemming_df_.columns = ['word_length', 'stem_length', 'length_reduction']\n",
    "print(word_stemming_df_.shape)\n",
    "word_stemming_df_.head()"
   ]
  },
  {
   "cell_type": "code",
   "execution_count": 87,
   "metadata": {},
   "outputs": [],
   "source": [
    "# Visually inspect words that we did not stem\n",
    "# word_stemming_df_[word_stemming_df_.word_length<=4]"
   ]
  },
  {
   "cell_type": "code",
   "execution_count": 88,
   "metadata": {},
   "outputs": [
    {
     "data": {
      "text/html": [
       "<div>\n",
       "<style scoped>\n",
       "    .dataframe tbody tr th:only-of-type {\n",
       "        vertical-align: middle;\n",
       "    }\n",
       "\n",
       "    .dataframe tbody tr th {\n",
       "        vertical-align: top;\n",
       "    }\n",
       "\n",
       "    .dataframe thead th {\n",
       "        text-align: right;\n",
       "    }\n",
       "</style>\n",
       "<table border=\"1\" class=\"dataframe\">\n",
       "  <thead>\n",
       "    <tr style=\"text-align: right;\">\n",
       "      <th></th>\n",
       "      <th>word_length</th>\n",
       "      <th>stem_length</th>\n",
       "      <th>length_reduction</th>\n",
       "    </tr>\n",
       "  </thead>\n",
       "  <tbody>\n",
       "    <tr>\n",
       "      <th>professionnellement</th>\n",
       "      <td>19</td>\n",
       "      <td>8</td>\n",
       "      <td>11</td>\n",
       "    </tr>\n",
       "    <tr>\n",
       "      <th>kinésithérapeutes</th>\n",
       "      <td>17</td>\n",
       "      <td>8</td>\n",
       "      <td>9</td>\n",
       "    </tr>\n",
       "    <tr>\n",
       "      <th>interpersonnelles</th>\n",
       "      <td>17</td>\n",
       "      <td>8</td>\n",
       "      <td>9</td>\n",
       "    </tr>\n",
       "    <tr>\n",
       "      <th>technologiquement</th>\n",
       "      <td>17</td>\n",
       "      <td>8</td>\n",
       "      <td>9</td>\n",
       "    </tr>\n",
       "    <tr>\n",
       "      <th>professionnalisme</th>\n",
       "      <td>17</td>\n",
       "      <td>8</td>\n",
       "      <td>9</td>\n",
       "    </tr>\n",
       "  </tbody>\n",
       "</table>\n",
       "</div>"
      ],
      "text/plain": [
       "                     word_length  stem_length  length_reduction\n",
       "professionnellement           19            8                11\n",
       "kinésithérapeutes             17            8                 9\n",
       "interpersonnelles             17            8                 9\n",
       "technologiquement             17            8                 9\n",
       "professionnalisme             17            8                 9"
      ]
     },
     "execution_count": 88,
     "metadata": {},
     "output_type": "execute_result"
    }
   ],
   "source": [
    "# Largest word length reduction\n",
    "word_stemming_df_.sort_values('length_reduction', ascending=False).head()"
   ]
  },
  {
   "cell_type": "code",
   "execution_count": 89,
   "metadata": {},
   "outputs": [
    {
     "data": {
      "text/html": [
       "<div>\n",
       "<style scoped>\n",
       "    .dataframe tbody tr th:only-of-type {\n",
       "        vertical-align: middle;\n",
       "    }\n",
       "\n",
       "    .dataframe tbody tr th {\n",
       "        vertical-align: top;\n",
       "    }\n",
       "\n",
       "    .dataframe thead th {\n",
       "        text-align: right;\n",
       "    }\n",
       "</style>\n",
       "<table border=\"1\" class=\"dataframe\">\n",
       "  <thead>\n",
       "    <tr style=\"text-align: right;\">\n",
       "      <th></th>\n",
       "      <th>word_length</th>\n",
       "      <th>stem_length</th>\n",
       "      <th>length_reduction</th>\n",
       "    </tr>\n",
       "  </thead>\n",
       "  <tbody>\n",
       "    <tr>\n",
       "      <th>considérer</th>\n",
       "      <td>10</td>\n",
       "      <td>8</td>\n",
       "      <td>2</td>\n",
       "    </tr>\n",
       "    <tr>\n",
       "      <th>froideur</th>\n",
       "      <td>8</td>\n",
       "      <td>8</td>\n",
       "      <td>0</td>\n",
       "    </tr>\n",
       "    <tr>\n",
       "      <th>dérisoire</th>\n",
       "      <td>9</td>\n",
       "      <td>8</td>\n",
       "      <td>1</td>\n",
       "    </tr>\n",
       "    <tr>\n",
       "      <th>supérieur</th>\n",
       "      <td>9</td>\n",
       "      <td>8</td>\n",
       "      <td>1</td>\n",
       "    </tr>\n",
       "    <tr>\n",
       "      <th>ressources</th>\n",
       "      <td>10</td>\n",
       "      <td>8</td>\n",
       "      <td>2</td>\n",
       "    </tr>\n",
       "  </tbody>\n",
       "</table>\n",
       "</div>"
      ],
      "text/plain": [
       "            word_length  stem_length  length_reduction\n",
       "considérer           10            8                 2\n",
       "froideur              8            8                 0\n",
       "dérisoire             9            8                 1\n",
       "supérieur             9            8                 1\n",
       "ressources           10            8                 2"
      ]
     },
     "execution_count": 89,
     "metadata": {},
     "output_type": "execute_result"
    }
   ],
   "source": [
    "# Longest words after stemming\n",
    "word_stemming_df_.sort_values('stem_length', ascending=False).head()"
   ]
  },
  {
   "cell_type": "code",
   "execution_count": 90,
   "metadata": {},
   "outputs": [
    {
     "data": {
      "text/html": [
       "<div>\n",
       "<style scoped>\n",
       "    .dataframe tbody tr th:only-of-type {\n",
       "        vertical-align: middle;\n",
       "    }\n",
       "\n",
       "    .dataframe tbody tr th {\n",
       "        vertical-align: top;\n",
       "    }\n",
       "\n",
       "    .dataframe thead th {\n",
       "        text-align: right;\n",
       "    }\n",
       "</style>\n",
       "<table border=\"1\" class=\"dataframe\">\n",
       "  <thead>\n",
       "    <tr style=\"text-align: right;\">\n",
       "      <th></th>\n",
       "      <th>word_length</th>\n",
       "      <th>stem_length</th>\n",
       "      <th>length_reduction</th>\n",
       "    </tr>\n",
       "  </thead>\n",
       "  <tbody>\n",
       "    <tr>\n",
       "      <th>belle</th>\n",
       "      <td>5</td>\n",
       "      <td>3</td>\n",
       "      <td>2</td>\n",
       "    </tr>\n",
       "    <tr>\n",
       "      <th>image</th>\n",
       "      <td>5</td>\n",
       "      <td>4</td>\n",
       "      <td>1</td>\n",
       "    </tr>\n",
       "    <tr>\n",
       "      <th>aussi</th>\n",
       "      <td>5</td>\n",
       "      <td>4</td>\n",
       "      <td>1</td>\n",
       "    </tr>\n",
       "    <tr>\n",
       "      <th>howwa</th>\n",
       "      <td>5</td>\n",
       "      <td>4</td>\n",
       "      <td>1</td>\n",
       "    </tr>\n",
       "    <tr>\n",
       "      <th>coute</th>\n",
       "      <td>5</td>\n",
       "      <td>4</td>\n",
       "      <td>1</td>\n",
       "    </tr>\n",
       "  </tbody>\n",
       "</table>\n",
       "</div>"
      ],
      "text/plain": [
       "       word_length  stem_length  length_reduction\n",
       "belle            5            3                 2\n",
       "image            5            4                 1\n",
       "aussi            5            4                 1\n",
       "howwa            5            4                 1\n",
       "coute            5            4                 1"
      ]
     },
     "execution_count": 90,
     "metadata": {},
     "output_type": "execute_result"
    }
   ],
   "source": [
    "# Shortest words after stemming\n",
    "word_stemming_df_[word_stemming_df_.length_reduction>0].sort_values('word_length', ascending=True).head()"
   ]
  },
  {
   "cell_type": "code",
   "execution_count": 91,
   "metadata": {},
   "outputs": [
    {
     "data": {
      "image/png": "[encoded data removed]",
      "text/plain": [
       "<matplotlib.figure.Figure at 0x28584c9ac18>"
      ]
     },
     "metadata": {},
     "output_type": "display_data"
    }
   ],
   "source": [
    "sns.set(style=\"ticks\", color_codes=True)\n",
    "g = sns.pairplot(word_stemming_df_)"
   ]
  },
  {
   "cell_type": "markdown",
   "metadata": {},
   "source": [
    "#### Analyze word conflation errors\n",
    "Word conflation errors: non-related words that are mapped to the same stem."
   ]
  },
  {
   "cell_type": "code",
   "execution_count": 92,
   "metadata": {},
   "outputs": [
    {
     "name": "stdout",
     "output_type": "stream",
     "text": [
      "1510 1303 1061\n",
      "{'divers', 'continue', 'étranger', 'quelques', 'petit'}\n"
     ]
    }
   ],
   "source": [
    "# Create dictionary of conflated words\n",
    "\n",
    "word_map2_dict_ = defaultdict(str)      #dictionary of words that will be replaced/conflated with a (different) word stem\n",
    "inverse_word_map2_dict_ = defaultdict(list)   #dictionary of word stems and list of all their corresponding words\n",
    "\n",
    "for w in distinct_corpus_words_:\n",
    "    w_stem = my_stemmer(w)\n",
    "    if w_stem in word_map1_dict_:\n",
    "        w_stem = my_stemmer(word_map1_dict_[w_stem])\n",
    "    if w_stem != w:\n",
    "        word_map2_dict_[w] = w_stem\n",
    "    inverse_word_map2_dict_[w_stem].append(w)\n",
    "\n",
    "assert(len(distinct_corpus_words_) >= len(inverse_word_map2_dict_))\n",
    "assert(len(distinct_corpus_words_) >= len(word_map2_dict_))\n",
    "#assert(set(list(inverse_word_map2_dict_.keys())) & set(list(word_map2_dict_.keys())) == set())\n",
    "\n",
    "print(len(distinct_corpus_words_),len(inverse_word_map2_dict_),len(word_map2_dict_))\n",
    "print(set(list(inverse_word_map2_dict_.keys())) & set(list(word_map2_dict_.keys())))"
   ]
  },
  {
   "cell_type": "code",
   "execution_count": 93,
   "metadata": {},
   "outputs": [
    {
     "data": {
      "text/plain": [
       "['aider', 'aid']"
      ]
     },
     "execution_count": 93,
     "metadata": {},
     "output_type": "execute_result"
    }
   ],
   "source": [
    "'aid' in inverse_word_map2_dict_\n",
    "inverse_word_map2_dict_['aid']"
   ]
  },
  {
   "cell_type": "code",
   "execution_count": 94,
   "metadata": {},
   "outputs": [
    {
     "data": {
      "text/plain": [
       "(1303, 160)"
      ]
     },
     "execution_count": 94,
     "metadata": {},
     "output_type": "execute_result"
    }
   ],
   "source": [
    "# Number of word stems with more than one mapped word\n",
    "L = [1 for k,v in inverse_word_map2_dict_.items() if len(v)>1]\n",
    "len(inverse_word_map2_dict_),len(L)"
   ]
  },
  {
   "cell_type": "code",
   "execution_count": 95,
   "metadata": {},
   "outputs": [
    {
     "name": "stdout",
     "output_type": "stream",
     "text": [
      "pai ['payée', 'payés', 'payer']\n",
      "homm ['homme', 'hommes']\n",
      "civilis ['civilisés', 'civilisation']\n",
      "individu ['individuelles', 'individus']\n",
      "fort ['forts', 'forte']\n",
      "integr ['intégré', 'intégrité', 'intégrer', 'intégration']\n",
      "autr ['autres', 'autre']\n",
      "état ['états', 'état', 'étatique']\n",
      "cultur ['culturelle', 'culture', 'culturellement']\n",
      "social ['socialement', 'sociale', 'sociaux']\n",
      "reconnai ['reconnaissant', 'reconnaissance']\n",
      "principa ['principale', 'principalement']\n",
      "cher ['cher', 'chères', 'chère']\n",
      "équip ['équipés', 'équipe']\n",
      "tranquil ['tranquillité', 'tranquille']\n",
      "fiscal ['fiscal', 'fiscalité', 'fiscaux']\n",
      "rejet ['rejette', 'rejet']\n",
      "main ['mains', 'main']\n",
      "problem ['problème', 'problemes']\n",
      "élev ['élèvé', 'élevé']\n",
      "aid ['aider', 'aid']\n",
      "don ['don', 'donne', 'donner']\n",
      "professi ['professionnelle', 'professionnellement', 'professionnel', 'professionnalisme']\n",
      "human ['humaniste', 'human']\n",
      "posit ['positivement', 'positif']\n",
      "quitt ['quitter', 'quitterai']\n",
      "tunis ['tunisie', 'tunisienne']\n",
      "garant ['garantira', 'garanti']\n",
      "pourr ['pourriez', 'pourrait']\n",
      "motiv ['motivation', 'motive', 'motivant']\n",
      "estim ['estimés', 'estimation']\n",
      "lent ['lente', 'lentement']\n",
      "pens ['pensé', 'penser', 'pense']\n",
      "chaleur ['chaleur', 'chaleureux', 'chaleureuse']\n",
      "entrepre ['entrepreneurs', 'entrepreunariat']\n",
      "invest ['investissement', 'investir', 'investisseur', 'investissent']\n",
      "avantag ['avantages', 'avantageuse']\n",
      "économ ['économique', 'économiquement', 'économie']\n",
      "embauch ['embauchement', 'embauche']\n",
      "seul ['seul', 'seule', 'seulement']\n",
      "épanou ['épanouissement', 'épanouissant', 'épanouit']\n",
      "fait ['faits', 'faite', 'fait', 'faites']\n",
      "post ['post', 'postes', 'poste']\n",
      "chang ['changement', 'changer']\n",
      "internat ['internationaux', 'internationale']\n",
      "réalis ['réalisés', 'réaliser']\n",
      "rémuner ['rémunèré', 'rémunération']\n",
      "facil ['facilité', 'facile', 'facilement']\n",
      "rapport ['apporter', 'rapport']\n",
      "moin ['moin', 'moins']\n",
      "spécial ['spécialité', 'spéciales']\n",
      "person ['personnelles', 'personnes', 'personnellement']\n",
      "début ['débutant', 'début']\n",
      "jour ['jours', 'jour']\n",
      "maltrait ['maltraités', 'maltraite']\n",
      "concept ['conception', 'concept']\n",
      "organis ['organisé', 'organisation']\n",
      "bel ['belles', 'bel', 'belle']\n",
      "trait ['traitement', 'traite']\n",
      "administ ['administratifs', 'administration', 'administrative']\n",
      "confort ['confort', 'comfortable']\n",
      "const ['constamment', 'constant']\n",
      "quas ['quasi', 'quasiment']\n",
      "exploit ['exploitation', 'exploités', 'exploitables']\n",
      "opportun ['opportunités', 'opportunies', 'opportunities']\n",
      "moyen ['moyen', 'moyens']\n",
      "comport ['comporte', 'comportements']\n",
      "dur ['durera', 'dur']\n",
      "dinar ['dinar', 'dinars']\n",
      "indiffér ['indifférence', 'indifférents']\n",
      "emploi ['employés', 'emploi', 'employabilité']\n",
      "accueil ['accueillants', 'accueillir']\n",
      "étud ['étude', 'études', 'étudie']\n",
      "mental ['mentalité', 'mentale']\n",
      "offre ['offres', 'offre']\n",
      "satisfai ['satisfaisant', 'satisfaire']\n",
      "stabl ['stable', 'stabilité']\n",
      "aucun ['aucun', 'aucune']\n",
      "simpl ['simples', 'simplement']\n",
      "term ['terms', 'termes', 'term', 'terme']\n",
      "part ['parts', 'partir', 'part']\n",
      "coût ['coût', 'coûts']\n",
      "chos ['chose', 'choses']\n",
      "challeng ['challenging', 'challenge']\n",
      "tand ['tandis', 'tand']\n",
      "norm ['normes', 'norme']\n",
      "paye ['payees', 'paye']\n",
      "grand ['grande', 'grand']\n",
      "relat ['relationnel', 'relativement', 'relations']\n",
      "encourag ['encouragement', 'encouragent']\n",
      "stress ['stressante', 'stress']\n",
      "voir ['voir', 'voire']\n",
      "import ['importance', 'important', 'importantes']\n",
      "point ['point', 'pointe']\n",
      "consider ['considéré', 'considérer']\n",
      "dégrad ['dégradation', 'dégrade']\n",
      "travaill ['travaillons', 'travailleux', 'travailler']\n",
      "évolu ['évolution', 'évoluer']\n",
      "droit ['droits', 'droit']\n",
      "évident ['évident', 'évidemment']\n",
      "respectu ['respectueuse', 'respectueux']\n",
      "bon ['bonne', 'bonnes', 'bon']\n",
      "rich ['riche', 'rich']\n",
      "ven ['venant', 'venir']\n",
      "tout ['tout', 'toutes']\n",
      "méditerr ['méditerranéen', 'méditerrané']\n",
      "rentabl ['rentabilité', 'rentable']\n",
      "futur ['futur', 'futurs']\n",
      "rapid ['rapidement', 'rapide']\n",
      "réel ['réellement', 'réelle']\n",
      "ponctuel ['ponctuel', 'ponctuelle']\n",
      "peur ['peurs', 'peur']\n",
      "regl ['règles', 'règlements']\n",
      "collabor ['collaborer', 'collaborateurs', 'collaboratif']\n",
      "technolo ['technologique', 'technologiquement', 'technologies']\n",
      "développ ['développent', 'développement', 'développé']\n",
      "sent ['sent', 'sentir', 'sentiment']\n",
      "attach ['attachement', 'attachée']\n",
      "amélior ['améliorer', 'amélioration']\n",
      "rest ['rester', 'reste']\n",
      "pass ['passe', 'passant']\n",
      "moral ['morale', 'moral']\n",
      "compétit ['compétitive', 'compétitivité']\n",
      "gouvern ['gouvernement', 'gouvernance']\n",
      "permet ['permettera', 'permet']\n",
      "parl ['parler', 'parlant', 'parle']\n",
      "respect ['respect', 'respectable', 'respectent']\n",
      "étrang ['étrangé', 'étranger']\n",
      "égal ['égalité', 'également']\n",
      "fourn ['fournissent', 'fourni']\n",
      "plan ['plan', 'plans']\n",
      "vrai ['vrai', 'vraie', 'vraiment']\n",
      "climat ['climat', 'climatiques']\n",
      "appréci ['appréciation', 'apprécié']\n",
      "beau ['beau', 'beaux']\n",
      "valoris ['valorisent', 'valorisation', 'valorisé']\n",
      "certain ['certainement', 'certaines']\n",
      "plag ['plage', 'plages']\n",
      "franc ['francs', 'français']\n",
      "accept ['accepte', 'acceptables', 'acceptation']\n",
      "innov ['innovation', 'innovant', 'innover']\n",
      "national ['nationalisme', 'nationale']\n",
      "enver ['envers', 'enver']\n",
      "quotidie ['quotidien', 'quotidienne']\n",
      "clair ['clair', 'claire']\n",
      "cout ['cout', 'coute']\n",
      "plein ['plein', 'pleinement']\n",
      "sérieux ['sérieux', 'sérieuse']\n",
      "appliqu ['application', 'applique']\n",
      "général ['généralement', 'général']\n",
      "préjug ['préjugés', 'préjuger']\n",
      "contrair ['contrairement', 'contraire']\n",
      "cooper ['coopération', 'coopératifs']\n",
      "compar ['comparable', 'compare']\n",
      "societ ['société', 'societes']\n",
      "propos ['propose', 'proposés']\n",
      "product ['productivité', 'production']\n",
      "adapt ['adaptation', 'adapté']\n",
      "familial ['familiales', 'familial']\n",
      "avanc ['avancer', 'avancement']\n"
     ]
    }
   ],
   "source": [
    "# Visually inspect conflated words (multiple words mapped to same word)\n",
    "for k,v in inverse_word_map2_dict_.items():\n",
    "    if len(v)>1:\n",
    "        print(k,v)"
   ]
  },
  {
   "cell_type": "markdown",
   "metadata": {},
   "source": [
    "#### Apply stemming on corpus"
   ]
  },
  {
   "cell_type": "code",
   "execution_count": 96,
   "metadata": {},
   "outputs": [
    {
     "data": {
      "text/html": [
       "<div>\n",
       "<style scoped>\n",
       "    .dataframe tbody tr th:only-of-type {\n",
       "        vertical-align: middle;\n",
       "    }\n",
       "\n",
       "    .dataframe tbody tr th {\n",
       "        vertical-align: top;\n",
       "    }\n",
       "\n",
       "    .dataframe thead th {\n",
       "        text-align: right;\n",
       "    }\n",
       "</style>\n",
       "<table border=\"1\" class=\"dataframe\">\n",
       "  <thead>\n",
       "    <tr style=\"text-align: right;\">\n",
       "      <th></th>\n",
       "      <th>sentence</th>\n",
       "      <th>qlabel</th>\n",
       "      <th>tokenized_sent</th>\n",
       "    </tr>\n",
       "  </thead>\n",
       "  <tbody>\n",
       "    <tr>\n",
       "      <th>0</th>\n",
       "      <td>mes études, ma famille et mon entourage</td>\n",
       "      <td>1</td>\n",
       "      <td>[étud, famill, entourag]</td>\n",
       "    </tr>\n",
       "    <tr>\n",
       "      <th>1</th>\n",
       "      <td>Rien</td>\n",
       "      <td>1</td>\n",
       "      <td>[rien]</td>\n",
       "    </tr>\n",
       "    <tr>\n",
       "      <th>2</th>\n",
       "      <td>La mentalité</td>\n",
       "      <td>1</td>\n",
       "      <td>[mental]</td>\n",
       "    </tr>\n",
       "    <tr>\n",
       "      <th>3</th>\n",
       "      <td>Qualité de vie</td>\n",
       "      <td>1</td>\n",
       "      <td>[qualit, vie]</td>\n",
       "    </tr>\n",
       "    <tr>\n",
       "      <th>4</th>\n",
       "      <td>Une bonne ambiance de travail</td>\n",
       "      <td>1</td>\n",
       "      <td>[bon, ambianc, travail]</td>\n",
       "    </tr>\n",
       "  </tbody>\n",
       "</table>\n",
       "</div>"
      ],
      "text/plain": [
       "                                  sentence  qlabel            tokenized_sent\n",
       "0  mes études, ma famille et mon entourage       1  [étud, famill, entourag]\n",
       "1                                     Rien       1                    [rien]\n",
       "2                             La mentalité       1                  [mental]\n",
       "3                           Qualité de vie       1             [qualit, vie]\n",
       "4            Une bonne ambiance de travail       1   [bon, ambianc, travail]"
      ]
     },
     "execution_count": 96,
     "metadata": {},
     "output_type": "execute_result"
    }
   ],
   "source": [
    "u = [[word_map2_dict_[word] if word in word_map2_dict_ else word for word in sent] for sent in corpus_sent_df.tokenized_sent]\n",
    "assert(len(u) == len(corpus_sent_df))\n",
    "corpus_sent_df.tokenized_sent = pd.Series(u)\n",
    "\n",
    "corpus_sent_df.head()"
   ]
  },
  {
   "cell_type": "code",
   "execution_count": 97,
   "metadata": {},
   "outputs": [
    {
     "name": "stdout",
     "output_type": "stream",
     "text": [
      "6036 1510\n",
      "6036 1303\n"
     ]
    }
   ],
   "source": [
    "corpus_words_after_stemming_ = [word for sent in corpus_sent_df.tokenized_sent for word in sent]\n",
    "fdist5 = FreqDist(corpus_words_after_stemming_)\n",
    "assert(fdist5.N()==fdist4.N() and fdist4.B()>=fdist5.B())\n",
    "print(fdist4.N(),fdist4.B())\n",
    "print(fdist5.N(),fdist5.B())"
   ]
  },
  {
   "cell_type": "code",
   "execution_count": 98,
   "metadata": {},
   "outputs": [
    {
     "name": "stdout",
     "output_type": "stream",
     "text": [
      "divers diver ['diversité'] 1 1\n",
      "continue continu ['continuellement'] 3 4\n",
      "étranger étrang ['étrangère'] 102 130\n",
      "quelques quelqu ['quelquesoit'] 3 4\n",
      "petit pet ['petites'] 2 2\n"
     ]
    }
   ],
   "source": [
    "for c in (set(list(word_map2_dict_.keys())) & set(corpus_words_after_stemming_)):\n",
    "    print(c,word_map2_dict_[c],inverse_word_map2_dict_[c],fdist3[c],fdist4[c])"
   ]
  },
  {
   "cell_type": "code",
   "execution_count": 99,
   "metadata": {},
   "outputs": [
    {
     "name": "stdout",
     "output_type": "stream",
     "text": [
      "comfort 1 0 0\n",
      "confort 1 2 5\n",
      "confortables 1 0 0\n",
      "confortable 1 0 0\n",
      "comfortable 1 3 0\n"
     ]
    }
   ],
   "source": [
    "for c in ['comfort', 'confort', 'confortables', 'confortable', 'comfortable']:\n",
    "    print(c,fdist3[c],fdist4[c],fdist5[c])"
   ]
  },
  {
   "cell_type": "code",
   "execution_count": 100,
   "metadata": {},
   "outputs": [
    {
     "name": "stdout",
     "output_type": "stream",
     "text": [
      "œuvre 3 3 0\n",
      "œuvr 0 0 3\n",
      "oeuvre 16 16 0\n",
      "oeuvr 0 0 16\n"
     ]
    }
   ],
   "source": [
    "for c in ['œuvre', 'œuvr', 'oeuvre', 'oeuvr']:\n",
    "    print(c,fdist3[c],fdist4[c],fdist5[c])"
   ]
  },
  {
   "cell_type": "code",
   "execution_count": 101,
   "metadata": {},
   "outputs": [
    {
     "name": "stdout",
     "output_type": "stream",
     "text": [
      "besoins 2 3 0\n",
      "besoin 1 0 3\n",
      "aid 1 1 2\n",
      "aider 1 1 0\n"
     ]
    }
   ],
   "source": [
    "for c in ['besoins', 'besoin', 'aid', 'aider']:\n",
    "    print(c,fdist3[c],fdist4[c],fdist5[c])"
   ]
  },
  {
   "cell_type": "markdown",
   "metadata": {},
   "source": [
    "*Observations & conclusions*\n",
    "- Word reduction ratio: 1847 distinct words --> 1411 distinct words.\n",
    "- **Precision** errors: 2 or more unrelated words mapped/conflated to the same stem: {'mentalité', 'mentale', 'mentalités', 'mentalit'}, {'certains', 'certainement'}\n",
    "- **Recall** errors: words that should have been mapped to the same word but weren't. TO DO ...\n",
    "\n",
    "- Some errors I noticed:\n",
    "\n",
    "'œuvre' --> 'œuvr' \n",
    "\n",
    "'oeuvre' --> 'oeuvre'"
   ]
  },
  {
   "cell_type": "markdown",
   "metadata": {},
   "source": [
    "### Remove empty documents"
   ]
  },
  {
   "cell_type": "code",
   "execution_count": 102,
   "metadata": {},
   "outputs": [
    {
     "data": {
      "text/plain": [
       "1418"
      ]
     },
     "execution_count": 102,
     "metadata": {},
     "output_type": "execute_result"
    }
   ],
   "source": [
    "len(corpus_sent_df)"
   ]
  },
  {
   "cell_type": "code",
   "execution_count": 103,
   "metadata": {},
   "outputs": [
    {
     "data": {
      "text/html": [
       "<div>\n",
       "<style scoped>\n",
       "    .dataframe tbody tr th:only-of-type {\n",
       "        vertical-align: middle;\n",
       "    }\n",
       "\n",
       "    .dataframe tbody tr th {\n",
       "        vertical-align: top;\n",
       "    }\n",
       "\n",
       "    .dataframe thead th {\n",
       "        text-align: right;\n",
       "    }\n",
       "</style>\n",
       "<table border=\"1\" class=\"dataframe\">\n",
       "  <thead>\n",
       "    <tr style=\"text-align: right;\">\n",
       "      <th></th>\n",
       "      <th>sentence</th>\n",
       "      <th>qlabel</th>\n",
       "      <th>tokenized_sent</th>\n",
       "    </tr>\n",
       "  </thead>\n",
       "  <tbody>\n",
       "    <tr>\n",
       "      <th>367</th>\n",
       "      <td>!</td>\n",
       "      <td>3</td>\n",
       "      <td>[]</td>\n",
       "    </tr>\n",
       "    <tr>\n",
       "      <th>390</th>\n",
       "      <td>1€=3dt</td>\n",
       "      <td>3</td>\n",
       "      <td>[]</td>\n",
       "    </tr>\n",
       "    <tr>\n",
       "      <th>836</th>\n",
       "      <td>!</td>\n",
       "      <td>5</td>\n",
       "      <td>[]</td>\n",
       "    </tr>\n",
       "    <tr>\n",
       "      <th>911</th>\n",
       "      <td>A</td>\n",
       "      <td>5</td>\n",
       "      <td>[]</td>\n",
       "    </tr>\n",
       "    <tr>\n",
       "      <th>922</th>\n",
       "      <td>-</td>\n",
       "      <td>5</td>\n",
       "      <td>[]</td>\n",
       "    </tr>\n",
       "    <tr>\n",
       "      <th>1206</th>\n",
       "      <td>.</td>\n",
       "      <td>6</td>\n",
       "      <td>[]</td>\n",
       "    </tr>\n",
       "    <tr>\n",
       "      <th>1215</th>\n",
       "      <td>!</td>\n",
       "      <td>6</td>\n",
       "      <td>[]</td>\n",
       "    </tr>\n",
       "    <tr>\n",
       "      <th>1219</th>\n",
       "      <td>-</td>\n",
       "      <td>6</td>\n",
       "      <td>[]</td>\n",
       "    </tr>\n",
       "    <tr>\n",
       "      <th>1236</th>\n",
       "      <td>!</td>\n",
       "      <td>6</td>\n",
       "      <td>[]</td>\n",
       "    </tr>\n",
       "  </tbody>\n",
       "</table>\n",
       "</div>"
      ],
      "text/plain": [
       "     sentence  qlabel tokenized_sent\n",
       "367         !       3             []\n",
       "390    1€=3dt       3             []\n",
       "836         !       5             []\n",
       "911         A       5             []\n",
       "922         -       5             []\n",
       "1206        .       6             []\n",
       "1215        !       6             []\n",
       "1219        -       6             []\n",
       "1236        !       6             []"
      ]
     },
     "execution_count": 103,
     "metadata": {},
     "output_type": "execute_result"
    }
   ],
   "source": [
    "# which documents are empty\n",
    "idx = [i for i,row in corpus_sent_df.iterrows() if len(row.tokenized_sent)==0]\n",
    "#len(idx),len(corpus_sent_df)\n",
    "corpus_sent_df.iloc[idx,:]"
   ]
  },
  {
   "cell_type": "code",
   "execution_count": 104,
   "metadata": {},
   "outputs": [
    {
     "data": {
      "text/plain": [
       "1409"
      ]
     },
     "execution_count": 104,
     "metadata": {},
     "output_type": "execute_result"
    }
   ],
   "source": [
    "corpus_sent_df = corpus_sent_df[corpus_sent_df.apply(lambda row: len(row['tokenized_sent'])>0,axis=1)]\n",
    "len(corpus_sent_df)"
   ]
  },
  {
   "cell_type": "markdown",
   "metadata": {},
   "source": [
    "***"
   ]
  },
  {
   "cell_type": "markdown",
   "metadata": {},
   "source": [
    "## Exploratory Analysis of document length distribution\n",
    "Get a general idea about corpus content. Things to look for:\n",
    "- Are documents homogeneous in terms of size?\n",
    "- Are there any outliers that should be removed from corpus?"
   ]
  },
  {
   "cell_type": "code",
   "execution_count": 105,
   "metadata": {},
   "outputs": [
    {
     "data": {
      "text/html": [
       "<div>\n",
       "<style scoped>\n",
       "    .dataframe tbody tr th:only-of-type {\n",
       "        vertical-align: middle;\n",
       "    }\n",
       "\n",
       "    .dataframe tbody tr th {\n",
       "        vertical-align: top;\n",
       "    }\n",
       "\n",
       "    .dataframe thead th {\n",
       "        text-align: right;\n",
       "    }\n",
       "</style>\n",
       "<table border=\"1\" class=\"dataframe\">\n",
       "  <thead>\n",
       "    <tr style=\"text-align: right;\">\n",
       "      <th></th>\n",
       "      <th>n_chars</th>\n",
       "      <th>n_chars_per_word</th>\n",
       "      <th>n_words</th>\n",
       "    </tr>\n",
       "  </thead>\n",
       "  <tbody>\n",
       "    <tr>\n",
       "      <th>0</th>\n",
       "      <td>20</td>\n",
       "      <td>6.666667</td>\n",
       "      <td>3</td>\n",
       "    </tr>\n",
       "    <tr>\n",
       "      <th>1</th>\n",
       "      <td>4</td>\n",
       "      <td>4.000000</td>\n",
       "      <td>1</td>\n",
       "    </tr>\n",
       "    <tr>\n",
       "      <th>2</th>\n",
       "      <td>6</td>\n",
       "      <td>6.000000</td>\n",
       "      <td>1</td>\n",
       "    </tr>\n",
       "    <tr>\n",
       "      <th>3</th>\n",
       "      <td>10</td>\n",
       "      <td>5.000000</td>\n",
       "      <td>2</td>\n",
       "    </tr>\n",
       "    <tr>\n",
       "      <th>4</th>\n",
       "      <td>19</td>\n",
       "      <td>6.333333</td>\n",
       "      <td>3</td>\n",
       "    </tr>\n",
       "  </tbody>\n",
       "</table>\n",
       "</div>"
      ],
      "text/plain": [
       "   n_chars  n_chars_per_word  n_words\n",
       "0       20          6.666667        3\n",
       "1        4          4.000000        1\n",
       "2        6          6.000000        1\n",
       "3       10          5.000000        2\n",
       "4       19          6.333333        3"
      ]
     },
     "execution_count": 105,
     "metadata": {},
     "output_type": "execute_result"
    }
   ],
   "source": [
    "L1 = [len(doc) for doc in corpus_sent_df.tokenized_sent]\n",
    "L2 = [len(' '.join(doc)) for doc in corpus_sent_df.tokenized_sent]\n",
    "doc_len_df_ = pd.DataFrame({'n_words' : L1, \\\n",
    "                           'n_chars' : L2, \\\n",
    "                           'n_chars_per_word' : np.array(L2)/np.array(L1)})\n",
    "doc_len_df_.head()"
   ]
  },
  {
   "cell_type": "code",
   "execution_count": 106,
   "metadata": {},
   "outputs": [
    {
     "data": {
      "text/html": [
       "<div>\n",
       "<style scoped>\n",
       "    .dataframe tbody tr th:only-of-type {\n",
       "        vertical-align: middle;\n",
       "    }\n",
       "\n",
       "    .dataframe tbody tr th {\n",
       "        vertical-align: top;\n",
       "    }\n",
       "\n",
       "    .dataframe thead th {\n",
       "        text-align: right;\n",
       "    }\n",
       "</style>\n",
       "<table border=\"1\" class=\"dataframe\">\n",
       "  <thead>\n",
       "    <tr style=\"text-align: right;\">\n",
       "      <th></th>\n",
       "      <th>n_chars</th>\n",
       "      <th>n_chars_per_word</th>\n",
       "      <th>n_words</th>\n",
       "    </tr>\n",
       "  </thead>\n",
       "  <tbody>\n",
       "    <tr>\n",
       "      <th>count</th>\n",
       "      <td>1409.000000</td>\n",
       "      <td>1409.000000</td>\n",
       "      <td>1409.000000</td>\n",
       "    </tr>\n",
       "    <tr>\n",
       "      <th>mean</th>\n",
       "      <td>27.171043</td>\n",
       "      <td>6.211744</td>\n",
       "      <td>4.283889</td>\n",
       "    </tr>\n",
       "    <tr>\n",
       "      <th>std</th>\n",
       "      <td>27.542629</td>\n",
       "      <td>1.034898</td>\n",
       "      <td>4.296904</td>\n",
       "    </tr>\n",
       "    <tr>\n",
       "      <th>min</th>\n",
       "      <td>3.000000</td>\n",
       "      <td>3.000000</td>\n",
       "      <td>1.000000</td>\n",
       "    </tr>\n",
       "    <tr>\n",
       "      <th>25%</th>\n",
       "      <td>8.000000</td>\n",
       "      <td>5.666667</td>\n",
       "      <td>2.000000</td>\n",
       "    </tr>\n",
       "    <tr>\n",
       "      <th>50%</th>\n",
       "      <td>19.000000</td>\n",
       "      <td>6.238095</td>\n",
       "      <td>3.000000</td>\n",
       "    </tr>\n",
       "    <tr>\n",
       "      <th>75%</th>\n",
       "      <td>35.000000</td>\n",
       "      <td>7.000000</td>\n",
       "      <td>5.000000</td>\n",
       "    </tr>\n",
       "    <tr>\n",
       "      <th>max</th>\n",
       "      <td>407.000000</td>\n",
       "      <td>8.666667</td>\n",
       "      <td>71.000000</td>\n",
       "    </tr>\n",
       "  </tbody>\n",
       "</table>\n",
       "</div>"
      ],
      "text/plain": [
       "           n_chars  n_chars_per_word      n_words\n",
       "count  1409.000000       1409.000000  1409.000000\n",
       "mean     27.171043          6.211744     4.283889\n",
       "std      27.542629          1.034898     4.296904\n",
       "min       3.000000          3.000000     1.000000\n",
       "25%       8.000000          5.666667     2.000000\n",
       "50%      19.000000          6.238095     3.000000\n",
       "75%      35.000000          7.000000     5.000000\n",
       "max     407.000000          8.666667    71.000000"
      ]
     },
     "execution_count": 106,
     "metadata": {},
     "output_type": "execute_result"
    }
   ],
   "source": [
    "doc_len_df_.describe()"
   ]
  },
  {
   "cell_type": "code",
   "execution_count": 107,
   "metadata": {},
   "outputs": [],
   "source": [
    "#doc_len_df_.corr()"
   ]
  },
  {
   "cell_type": "code",
   "execution_count": 108,
   "metadata": {
    "scrolled": true
   },
   "outputs": [
    {
     "data": {
      "image/png": "[encoded data removed]",
      "text/plain": [
       "<matplotlib.figure.Figure at 0x285850ee5c0>"
      ]
     },
     "metadata": {},
     "output_type": "display_data"
    }
   ],
   "source": [
    "g = sns.pairplot(doc_len_df_)"
   ]
  },
  {
   "cell_type": "code",
   "execution_count": 109,
   "metadata": {},
   "outputs": [
    {
     "data": {
      "text/plain": [
       "famill      65\n",
       "rien        47\n",
       "tourism     26\n",
       "mental      23\n",
       "respect     15\n",
       "salair      13\n",
       "travail      8\n",
       "tout         7\n",
       "professi     7\n",
       "travaill     7\n",
       "dtype: int64"
      ]
     },
     "execution_count": 109,
     "metadata": {},
     "output_type": "execute_result"
    }
   ],
   "source": [
    "# documents that contain only one word\n",
    "#corpus_sent_df.tokenized_sent[doc_len_df_.n_words==1]\n",
    "pd.Series([' '.join(doc) for doc in corpus_sent_df.tokenized_sent if len(doc)==1]).value_counts().head(10)"
   ]
  },
  {
   "cell_type": "code",
   "execution_count": 110,
   "metadata": {},
   "outputs": [
    {
     "data": {
      "text/plain": [
       "sais pas             16\n",
       "qualit vie           10\n",
       "bon salair           10\n",
       "niveau vie            9\n",
       "mode vie              4\n",
       "famill amis           4\n",
       "meilleur opportun     3\n",
       "condit travail        3\n",
       "condit vie            3\n",
       "opportun travail      3\n",
       "dtype: int64"
      ]
     },
     "execution_count": 110,
     "metadata": {},
     "output_type": "execute_result"
    }
   ],
   "source": [
    "# documents that contain 2 words\n",
    "pd.Series([' '.join(doc) for doc in corpus_sent_df.tokenized_sent if len(doc)==2]).value_counts().head(10)"
   ]
  },
  {
   "cell_type": "code",
   "execution_count": 111,
   "metadata": {},
   "outputs": [
    {
     "data": {
      "text/plain": [
       "salair mode vie           2\n",
       "qualit vie exist          2\n",
       "bon condit travail        2\n",
       "mental niveau vie         2\n",
       "salair condit travail     2\n",
       "question trop vagu        2\n",
       "plus opportun étrang      2\n",
       "salair environ travail    2\n",
       "mental mode vie           2\n",
       "particip reconstr pays    1\n",
       "dtype: int64"
      ]
     },
     "execution_count": 111,
     "metadata": {},
     "output_type": "execute_result"
    }
   ],
   "source": [
    "# documents that contain 3 words\n",
    "pd.Series([' '.join(doc) for doc in corpus_sent_df.tokenized_sent if len(doc)==3]).value_counts().head(10)"
   ]
  },
  {
   "cell_type": "code",
   "execution_count": 112,
   "metadata": {},
   "outputs": [
    {
     "data": {
      "text/plain": [
       "0     gens font lieux lieux font pas gens prend pays...\n",
       "1     fait veux fair bien pays grâc connaiss train a...\n",
       "2     pays plus stabl strateg bien défin vision réal...\n",
       "3     histoir ancien récent pays peut incit gens ven...\n",
       "4     climat devis continue chut ingénieu bien quali...\n",
       "5     augment salair chang mental employeu chang men...\n",
       "6     reconnaî valeur ajout jugé travail object clai...\n",
       "7     curios explor nouvel coutum nouvel cultur nouv...\n",
       "8     entre famill amis langu maternel travail oubl ...\n",
       "9     étrang plus ouvert gens cultiv cest conscien g...\n",
       "10    tunis shaabh mokho mlahhim msattik tastik bagr...\n",
       "11    compar niveau professi difficil car peuvent ra...\n",
       "12    plus grand motiv sein entrepri étrang encadr m...\n",
       "13    travail plus appréci conscien gens plus fort c...\n",
       "14    conséque ingénieu épanou professi rend plus im...\n",
       "dtype: object"
      ]
     },
     "execution_count": 112,
     "metadata": {},
     "output_type": "execute_result"
    }
   ],
   "source": [
    "pd.Series([' '.join(doc) for doc in corpus_sent_df.tokenized_sent if len(doc)>20])"
   ]
  },
  {
   "cell_type": "markdown",
   "metadata": {},
   "source": [
    "*Observations & conclusions*\n",
    "- overall very short documents; 75% contain 5 words or less. Only 2% contain 20 words or more.\n",
    "- **TO DO**: should maybe remove documents that are longer than 20 words (outliers). ???"
   ]
  },
  {
   "cell_type": "markdown",
   "metadata": {},
   "source": [
    "******"
   ]
  },
  {
   "cell_type": "markdown",
   "metadata": {},
   "source": [
    "## Exploratory Analysis of Word Frequency Distribution\n",
    "\n",
    "- Analyze and visualize frequency distribution of words across entire corpus and across indivudal documents.\n",
    "- Are there stopwords among most frequent words?\n",
    "- might help us determine how to represent documents (using TF or TF\\*IDF)."
   ]
  },
  {
   "cell_type": "code",
   "execution_count": 113,
   "metadata": {},
   "outputs": [
    {
     "data": {
      "text/plain": [
       "(6036, 1303)"
      ]
     },
     "execution_count": 113,
     "metadata": {},
     "output_type": "execute_result"
    }
   ],
   "source": [
    "fdist5.N(),fdist5.B()"
   ]
  },
  {
   "cell_type": "code",
   "execution_count": 114,
   "metadata": {},
   "outputs": [
    {
     "data": {
      "text/plain": [
       "0.5410590943975442"
      ]
     },
     "execution_count": 114,
     "metadata": {},
     "output_type": "execute_result"
    }
   ],
   "source": [
    "## fraction of hapaxes\n",
    "len(fdist5.hapaxes())/fdist5.B()"
   ]
  },
  {
   "cell_type": "code",
   "execution_count": 115,
   "metadata": {},
   "outputs": [
    {
     "data": {
      "text/plain": [
       "[('plus', 164),\n",
       " ('tunis', 160),\n",
       " ('travail', 156),\n",
       " ('vie', 149),\n",
       " ('salair', 144),\n",
       " ('étrang', 131),\n",
       " ('respect', 108),\n",
       " ('pas', 102),\n",
       " ('famill', 100),\n",
       " ('bon', 87)]"
      ]
     },
     "execution_count": 115,
     "metadata": {},
     "output_type": "execute_result"
    }
   ],
   "source": [
    "fdist5.most_common(10)"
   ]
  },
  {
   "cell_type": "code",
   "execution_count": 116,
   "metadata": {},
   "outputs": [
    {
     "data": {
      "image/png": "[encoded data removed]",
      "text/plain": [
       "<matplotlib.figure.Figure at 0x285853f6940>"
      ]
     },
     "metadata": {},
     "output_type": "display_data"
    }
   ],
   "source": [
    "fdist5.plot(20,cumulative=False)"
   ]
  },
  {
   "cell_type": "code",
   "execution_count": 117,
   "metadata": {},
   "outputs": [
    {
     "data": {
      "image/png": "[encoded data removed]",
      "text/plain": [
       "<matplotlib.figure.Figure at 0x285835b53c8>"
      ]
     },
     "metadata": {},
     "output_type": "display_data"
    }
   ],
   "source": [
    "# cumulative frequency distribution of top 30 words in this corpus\n",
    "fdist5.plot(30,cumulative=True)"
   ]
  },
  {
   "cell_type": "markdown",
   "metadata": {},
   "source": [
    "*Observations & conclusions*\n",
    "- corpus contains 1311 unique/distinct words.\n",
    "- 52% of words are *hapaxes* (words that occur only once in entire corpus).\n",
    "- 30 most common words account for ~30% of all word occurrences.\n",
    "- Word distribution seems to follow the typical Zipf distribution."
   ]
  },
  {
   "cell_type": "markdown",
   "metadata": {},
   "source": [
    "****"
   ]
  },
  {
   "cell_type": "markdown",
   "metadata": {},
   "source": [
    "## Collocation Detection\n",
    "- Distribution of Word Bigrams and Trigrams.\n",
    "- Are there any frequent bigrams or trigrams?\n",
    "- Should we use Bag-of-ngrams model with n>1 ?\n",
    "\n",
    "**To be finished ...**"
   ]
  },
  {
   "cell_type": "markdown",
   "metadata": {},
   "source": [
    "Collocations I have noticed in this corpus:\n",
    "- Main d'oeuvre\n",
    "- Je ne sais pas\n",
    "- Dinar tunisien"
   ]
  },
  {
   "cell_type": "code",
   "execution_count": 118,
   "metadata": {},
   "outputs": [
    {
     "data": {
      "text/plain": [
       "[(192, 'Je sais pas encore'),\n",
       " (323, 'Je sais pas'),\n",
       " (463, 'Je sais pas'),\n",
       " (496, 'Je sais pas je peux pas penser à rien'),\n",
       " (504, 'Je ne sais pas'),\n",
       " (507, 'Je sais pas'),\n",
       " (874, 'Je ne sais pas'),\n",
       " (911, 'Je ne sais pas'),\n",
       " (982, 'Je sais pas'),\n",
       " (1041,\n",
       "  \"Je ne sais pas, mais j'imagine qu'il y aurait une différente mentalité\"),\n",
       " (1053, 'je ne sais pas'),\n",
       " (1107, 'je sais pas'),\n",
       " (1201, 'je ne sais pas'),\n",
       " (1202, 'je ne sais pas'),\n",
       " (1249, 'Je ne sais pas jai pas encore intégré le milieu professionnel'),\n",
       " (1294, 'Je ne sais pas'),\n",
       " (1353, 'je ne sais pas'),\n",
       " (1371, 'Je sais pas'),\n",
       " (1405, 'je sais pas')]"
      ]
     },
     "execution_count": 118,
     "metadata": {},
     "output_type": "execute_result"
    }
   ],
   "source": [
    "[(i,doc) for i,doc in enumerate(corpus_sent_df.sentence) if 'sais pas' in doc]"
   ]
  },
  {
   "cell_type": "code",
   "execution_count": 119,
   "metadata": {},
   "outputs": [],
   "source": [
    "from nltk import collocations"
   ]
  },
  {
   "cell_type": "code",
   "execution_count": 120,
   "metadata": {},
   "outputs": [
    {
     "data": {
      "text/plain": [
       "[['étud', 'famill', 'entourag', '.'], ['rien', '.'], ['mental', '.']]"
      ]
     },
     "execution_count": 120,
     "metadata": {},
     "output_type": "execute_result"
    }
   ],
   "source": [
    "u = [[word for word in doc] + ['.'] for doc in corpus_sent_df.tokenized_sent]\n",
    "u[0:3]"
   ]
  },
  {
   "cell_type": "code",
   "execution_count": 121,
   "metadata": {},
   "outputs": [],
   "source": [
    "corpus_words_list_with_separator = [word for doc in u for word in doc]\n",
    "# corpus_words_list_with_separator[0:10]"
   ]
  },
  {
   "cell_type": "code",
   "execution_count": 122,
   "metadata": {},
   "outputs": [],
   "source": [
    "bigram_measures = collocations.BigramAssocMeasures()\n",
    "bigram_finder = collocations.BigramCollocationFinder.from_words(corpus_words_list_with_separator)"
   ]
  },
  {
   "cell_type": "code",
   "execution_count": 123,
   "metadata": {},
   "outputs": [
    {
     "data": {
      "text/plain": [
       "4436"
      ]
     },
     "execution_count": 123,
     "metadata": {},
     "output_type": "execute_result"
    }
   ],
   "source": [
    "# number of unique bigrams\n",
    "len(bigram_finder.score_ngrams(bigram_measures.raw_freq))"
   ]
  },
  {
   "cell_type": "code",
   "execution_count": 124,
   "metadata": {},
   "outputs": [
    {
     "data": {
      "text/plain": [
       "[('.', 'famill'),\n",
       " ('famill', '.'),\n",
       " ('vie', '.'),\n",
       " ('.', 'bon'),\n",
       " ('tunis', '.'),\n",
       " ('travail', '.'),\n",
       " ('.', 'rien'),\n",
       " ('rien', '.'),\n",
       " ('.', 'salair'),\n",
       " ('.', 'mental')]"
      ]
     },
     "execution_count": 124,
     "metadata": {},
     "output_type": "execute_result"
    }
   ],
   "source": [
    "# most frequent bigrams\n",
    "bigram_finder.nbest(bigram_measures.raw_freq, 10)"
   ]
  },
  {
   "cell_type": "code",
   "execution_count": 125,
   "metadata": {},
   "outputs": [
    {
     "data": {
      "text/plain": [
       "[('niveau', 'vie'),\n",
       " ('main', 'oeuvr'),\n",
       " ('.', 'famill'),\n",
       " ('sais', 'pas'),\n",
       " ('condit', 'travail'),\n",
       " ('famill', '.'),\n",
       " ('qualit', 'vie'),\n",
       " ('.', 'rien'),\n",
       " ('rien', '.'),\n",
       " ('mode', 'vie')]"
      ]
     },
     "execution_count": 125,
     "metadata": {},
     "output_type": "execute_result"
    }
   ],
   "source": [
    "bigram_finder.nbest(bigram_measures.likelihood_ratio, 10)"
   ]
  },
  {
   "cell_type": "code",
   "execution_count": 126,
   "metadata": {},
   "outputs": [
    {
     "data": {
      "text/plain": [
       "[('accessib', 'efficac'),\n",
       " ('alcool', 'vendred'),\n",
       " ('alin', 'irawho'),\n",
       " ('allemagn', 'japan'),\n",
       " ('arabo', 'musulman'),\n",
       " ('arrog', 'impun'),\n",
       " ('attent', 'puis'),\n",
       " ('ayy', 'rajel'),\n",
       " ('bagr', 'felhin'),\n",
       " ('bou', 'said')]"
      ]
     },
     "execution_count": 126,
     "metadata": {},
     "output_type": "execute_result"
    }
   ],
   "source": [
    "bigram_finder.nbest(bigram_measures.pmi, 10)"
   ]
  },
  {
   "cell_type": "code",
   "execution_count": 127,
   "metadata": {},
   "outputs": [
    {
     "data": {
      "text/plain": [
       "[('accessib', 'efficac'),\n",
       " ('alcool', 'vendred'),\n",
       " ('alin', 'irawho'),\n",
       " ('allemagn', 'japan'),\n",
       " ('arabo', 'musulman'),\n",
       " ('arrog', 'impun'),\n",
       " ('attent', 'puis'),\n",
       " ('ayy', 'rajel'),\n",
       " ('bagr', 'felhin'),\n",
       " ('bou', 'said')]"
      ]
     },
     "execution_count": 127,
     "metadata": {},
     "output_type": "execute_result"
    }
   ],
   "source": [
    "bigram_finder.nbest(bigram_measures.chi_sq, 10)"
   ]
  },
  {
   "cell_type": "code",
   "execution_count": 128,
   "metadata": {},
   "outputs": [
    {
     "data": {
      "text/plain": [
       "[('accessib', 'efficac'),\n",
       " ('alcool', 'vendred'),\n",
       " ('alin', 'irawho'),\n",
       " ('allemagn', 'japan'),\n",
       " ('arabo', 'musulman'),\n",
       " ('arrog', 'impun'),\n",
       " ('attent', 'puis'),\n",
       " ('ayy', 'rajel'),\n",
       " ('bagr', 'felhin'),\n",
       " ('bou', 'said')]"
      ]
     },
     "execution_count": 128,
     "metadata": {},
     "output_type": "execute_result"
    }
   ],
   "source": [
    "bigram_finder.nbest(bigram_measures.dice, 10)"
   ]
  },
  {
   "cell_type": "code",
   "execution_count": 129,
   "metadata": {},
   "outputs": [
    {
     "data": {
      "text/plain": [
       "[('accessib', 'efficac'),\n",
       " ('alcool', 'vendred'),\n",
       " ('alin', 'irawho'),\n",
       " ('allemagn', 'japan'),\n",
       " ('arabo', 'musulman'),\n",
       " ('arrog', 'impun'),\n",
       " ('attent', 'puis'),\n",
       " ('ayy', 'rajel'),\n",
       " ('bagr', 'felhin'),\n",
       " ('bou', 'said')]"
      ]
     },
     "execution_count": 129,
     "metadata": {},
     "output_type": "execute_result"
    }
   ],
   "source": [
    "bigram_finder.nbest(bigram_measures.jaccard, 10)"
   ]
  },
  {
   "cell_type": "code",
   "execution_count": 130,
   "metadata": {},
   "outputs": [
    {
     "data": {
      "text/plain": [
       "[('main', 'oeuvr'),\n",
       " ('niveau', 'vie'),\n",
       " ('point', 'vue'),\n",
       " ('.', 'famill'),\n",
       " ('sais', 'pas'),\n",
       " ('condit', 'travail'),\n",
       " ('famill', '.'),\n",
       " ('veut', 'dire'),\n",
       " ('qualit', 'vie'),\n",
       " ('shaab', 'ton')]"
      ]
     },
     "execution_count": 130,
     "metadata": {},
     "output_type": "execute_result"
    }
   ],
   "source": [
    "bigram_finder.nbest(bigram_measures.mi_like, 10)"
   ]
  },
  {
   "cell_type": "code",
   "execution_count": 131,
   "metadata": {},
   "outputs": [
    {
     "data": {
      "text/plain": [
       "356"
      ]
     },
     "execution_count": 131,
     "metadata": {},
     "output_type": "execute_result"
    }
   ],
   "source": [
    "# Remove bigrams that occur less than 3 times\n",
    "bigram_finder.apply_freq_filter(3)\n",
    "len(bigram_finder.score_ngrams(bigram_measures.raw_freq))"
   ]
  },
  {
   "cell_type": "code",
   "execution_count": 132,
   "metadata": {},
   "outputs": [],
   "source": [
    "trigram_measures = collocations.TrigramAssocMeasures()\n",
    "trigram_finder = collocations.TrigramCollocationFinder.from_words(corpus_words_list_with_separator)"
   ]
  },
  {
   "cell_type": "code",
   "execution_count": 133,
   "metadata": {},
   "outputs": [
    {
     "data": {
      "text/plain": [
       "6370"
      ]
     },
     "execution_count": 133,
     "metadata": {},
     "output_type": "execute_result"
    }
   ],
   "source": [
    "# number of unique trigrams\n",
    "len(trigram_finder.score_ngrams(trigram_measures.raw_freq))"
   ]
  },
  {
   "cell_type": "code",
   "execution_count": 134,
   "metadata": {},
   "outputs": [],
   "source": [
    "trigram_finder.apply_freq_filter(3)"
   ]
  },
  {
   "cell_type": "code",
   "execution_count": 135,
   "metadata": {},
   "outputs": [
    {
     "data": {
      "text/plain": [
       "153"
      ]
     },
     "execution_count": 135,
     "metadata": {},
     "output_type": "execute_result"
    }
   ],
   "source": [
    "len(trigram_finder.score_ngrams(trigram_measures.raw_freq))"
   ]
  },
  {
   "cell_type": "code",
   "execution_count": 136,
   "metadata": {},
   "outputs": [
    {
     "data": {
      "text/plain": [
       "[('.', 'famill', '.'),\n",
       " ('.', 'rien', '.'),\n",
       " ('.', 'tourism', '.'),\n",
       " ('.', 'niveau', 'vie'),\n",
       " ('.', 'mental', '.'),\n",
       " ('famill', '.', 'famill'),\n",
       " ('.', 'sais', 'pas'),\n",
       " ('niveau', 'vie', '.'),\n",
       " ('qualit', 'vie', '.'),\n",
       " ('sais', 'pas', '.')]"
      ]
     },
     "execution_count": 136,
     "metadata": {},
     "output_type": "execute_result"
    }
   ],
   "source": [
    "# most frequent trigrams\n",
    "trigram_finder.nbest(trigram_measures.raw_freq, 10)"
   ]
  },
  {
   "cell_type": "markdown",
   "metadata": {},
   "source": [
    "*Observations & Conclusions*\n",
    "- A few bigrams but no trigrams within the same document.\n",
    "- Hence Bag-of-ngrams model with n=2 seems adequate."
   ]
  },
  {
   "cell_type": "markdown",
   "metadata": {},
   "source": [
    "******"
   ]
  },
  {
   "cell_type": "markdown",
   "metadata": {},
   "source": [
    "##  Text Representation with BOW\n",
    "1. Extract important vocabulary terms\n",
    "2. Construct various DTMs of corpus"
   ]
  },
  {
   "cell_type": "markdown",
   "metadata": {},
   "source": [
    "### Construct Vocabulary"
   ]
  },
  {
   "cell_type": "code",
   "execution_count": 137,
   "metadata": {},
   "outputs": [],
   "source": [
    "# Configuration parameters of the BOW model\n",
    "maxdf = 1.0   #because no stopwords (see previous section)\n",
    "mindf = 3     #eliminate rare words\n",
    "ngram_range=(1, 2)   #because corpus contains a few frequent bigrams (see previous section)"
   ]
  },
  {
   "cell_type": "code",
   "execution_count": 138,
   "metadata": {},
   "outputs": [],
   "source": [
    "tf_bow_model = CountVectorizer(max_df=maxdf, min_df=mindf, stop_words=None, ngram_range=ngram_range)  ## max_features=100"
   ]
  },
  {
   "cell_type": "code",
   "execution_count": 139,
   "metadata": {},
   "outputs": [],
   "source": [
    "# Convert documents from word lists to strings\n",
    "corpus_docs_clean_ = [' '.join(doc) for doc in corpus_sent_df.tokenized_sent]\n",
    "assert(len(corpus_docs_clean_) == len(corpus_sent_df))"
   ]
  },
  {
   "cell_type": "code",
   "execution_count": 140,
   "metadata": {},
   "outputs": [
    {
     "data": {
      "text/plain": [
       "CountVectorizer(analyzer='word', binary=False, decode_error='strict',\n",
       "        dtype=<class 'numpy.int64'>, encoding='utf-8', input='content',\n",
       "        lowercase=True, max_df=1.0, max_features=None, min_df=3,\n",
       "        ngram_range=(1, 2), preprocessor=None, stop_words=None,\n",
       "        strip_accents=None, token_pattern='(?u)\\\\b\\\\w\\\\w+\\\\b',\n",
       "        tokenizer=None, vocabulary=None)"
      ]
     },
     "execution_count": 140,
     "metadata": {},
     "output_type": "execute_result"
    }
   ],
   "source": [
    "tf_bow_model.fit(corpus_docs_clean_)"
   ]
  },
  {
   "cell_type": "code",
   "execution_count": 141,
   "metadata": {},
   "outputs": [
    {
     "data": {
      "text/plain": [
       "(list, 543)"
      ]
     },
     "execution_count": 141,
     "metadata": {},
     "output_type": "execute_result"
    }
   ],
   "source": [
    "## verify the vocabulary -- each element of vocabulary is a single word or bigram\n",
    "tf_bow_vocab = tf_bow_model.get_feature_names()\n",
    "type(tf_bow_vocab),len(tf_bow_vocab)"
   ]
  },
  {
   "cell_type": "code",
   "execution_count": 142,
   "metadata": {},
   "outputs": [
    {
     "data": {
      "text/plain": [
       "4392"
      ]
     },
     "execution_count": 142,
     "metadata": {},
     "output_type": "execute_result"
    }
   ],
   "source": [
    "# Terms that were ignored because they either:\n",
    "#      - occurred in too many documents (`max_df`)\n",
    "#      - occurred in too few documents (`min_df`)\n",
    "#      - were cut off by feature selection (`max_features`).\n",
    "\n",
    "# Notice that this is much larger than fdist5.B() because of the bigrams ...\n",
    "len(tf_bow_model.stop_words_)"
   ]
  },
  {
   "cell_type": "markdown",
   "metadata": {},
   "source": [
    "### Raw Counts DTM\n",
    "Calculate DTM of our corpus."
   ]
  },
  {
   "cell_type": "code",
   "execution_count": 143,
   "metadata": {},
   "outputs": [
    {
     "data": {
      "text/plain": [
       "(scipy.sparse.csr.csr_matrix, (1409, 543))"
      ]
     },
     "execution_count": 143,
     "metadata": {},
     "output_type": "execute_result"
    }
   ],
   "source": [
    "tf_bow_dtm = tf_bow_model.transform(corpus_docs_clean_)\n",
    "type(tf_bow_dtm),tf_bow_dtm.shape"
   ]
  },
  {
   "cell_type": "markdown",
   "metadata": {},
   "source": [
    "### TFIDF DTM"
   ]
  },
  {
   "cell_type": "code",
   "execution_count": 144,
   "metadata": {},
   "outputs": [],
   "source": [
    "tfidf_transformer = TfidfTransformer(use_idf=True, smooth_idf=True, norm = None, sublinear_tf=False).fit(tf_bow_dtm)   ##norm = 'l1'"
   ]
  },
  {
   "cell_type": "code",
   "execution_count": 145,
   "metadata": {},
   "outputs": [
    {
     "data": {
      "text/plain": [
       "(scipy.sparse.csr.csr_matrix, (1409, 543))"
      ]
     },
     "execution_count": 145,
     "metadata": {},
     "output_type": "execute_result"
    }
   ],
   "source": [
    "tfidf_bow_dtm = tfidf_transformer.transform(tf_bow_dtm)\n",
    "type(tfidf_bow_dtm),tfidf_bow_dtm.shape"
   ]
  },
  {
   "cell_type": "markdown",
   "metadata": {},
   "source": [
    "### Visualize DTM"
   ]
  },
  {
   "cell_type": "code",
   "execution_count": 146,
   "metadata": {},
   "outputs": [
    {
     "data": {
      "text/plain": [
       "(0, 5)"
      ]
     },
     "execution_count": 146,
     "metadata": {},
     "output_type": "execute_result"
    }
   ],
   "source": [
    "# range of values in this matrix\n",
    "tf_bow_dtm.min(),tf_bow_dtm.max()"
   ]
  },
  {
   "cell_type": "code",
   "execution_count": 147,
   "metadata": {},
   "outputs": [
    {
     "data": {
      "text/plain": [
       "0.9714540588760036"
      ]
     },
     "execution_count": 147,
     "metadata": {},
     "output_type": "execute_result"
    }
   ],
   "source": [
    "# Fraction of non-zero elements that are equal to 1\n",
    "(tf_bow_dtm==1).sum() / tf_bow_dtm.nnz"
   ]
  },
  {
   "cell_type": "code",
   "execution_count": 148,
   "metadata": {},
   "outputs": [
    {
     "data": {
      "text/plain": [
       "<matplotlib.lines.Line2D at 0x28585727208>"
      ]
     },
     "execution_count": 148,
     "metadata": {},
     "output_type": "execute_result"
    },
    {
     "data": {
      "image/png": "[encoded data removed]",
      "text/plain": [
       "<matplotlib.figure.Figure at 0x28584cce5c0>"
      ]
     },
     "metadata": {},
     "output_type": "display_data"
    }
   ],
   "source": [
    "plt.spy(tf_bow_dtm,precision=0, markersize=3, aspect='auto')"
   ]
  },
  {
   "cell_type": "code",
   "execution_count": 149,
   "metadata": {},
   "outputs": [
    {
     "data": {
      "image/png": "[encoded data removed]",
      "text/plain": [
       "<matplotlib.figure.Figure at 0x285832d6710>"
      ]
     },
     "metadata": {},
     "output_type": "display_data"
    }
   ],
   "source": [
    "visualizer = FreqDistVisualizer(features=tf_bow_vocab)\n",
    "visualizer.fit(tf_bow_dtm)\n",
    "visualizer.poof()"
   ]
  },
  {
   "cell_type": "code",
   "execution_count": 150,
   "metadata": {},
   "outputs": [
    {
     "data": {
      "text/plain": [
       "(numpy.ndarray, 5605)"
      ]
     },
     "execution_count": 150,
     "metadata": {},
     "output_type": "execute_result"
    }
   ],
   "source": [
    "# Distribution of non-zero TFIDF values\n",
    "u = tfidf_bow_dtm.data\n",
    "assert(len(u)==tfidf_bow_dtm.nnz)\n",
    "type(u),len(u)"
   ]
  },
  {
   "cell_type": "code",
   "execution_count": 151,
   "metadata": {},
   "outputs": [
    {
     "data": {
      "text/plain": [
       "count    5605.000000\n",
       "mean        5.264627\n",
       "std         1.437035\n",
       "min         3.214392\n",
       "25%         4.002850\n",
       "50%         5.255613\n",
       "75%         6.305435\n",
       "max        16.804979\n",
       "dtype: float64"
      ]
     },
     "execution_count": 151,
     "metadata": {},
     "output_type": "execute_result"
    }
   ],
   "source": [
    "pd.Series(u).describe()"
   ]
  },
  {
   "cell_type": "code",
   "execution_count": 152,
   "metadata": {},
   "outputs": [
    {
     "data": {
      "text/plain": [
       "<matplotlib.axes._subplots.AxesSubplot at 0x285831d3e80>"
      ]
     },
     "execution_count": 152,
     "metadata": {},
     "output_type": "execute_result"
    },
    {
     "data": {
      "image/png": "[encoded data removed]",
      "text/plain": [
       "<matplotlib.figure.Figure at 0x28584c840b8>"
      ]
     },
     "metadata": {},
     "output_type": "display_data"
    }
   ],
   "source": [
    "pd.Series(u).plot(kind='hist')"
   ]
  },
  {
   "cell_type": "markdown",
   "metadata": {},
   "source": [
    "****"
   ]
  },
  {
   "cell_type": "markdown",
   "metadata": {},
   "source": [
    "## Remove documents that contain NO vocabulary terms"
   ]
  },
  {
   "cell_type": "code",
   "execution_count": 153,
   "metadata": {},
   "outputs": [],
   "source": [
    "nb_terms_per_doc_ = np.array((tf_bow_dtm>0).sum(axis=1)).ravel()\n",
    "nb_terms_per_doc__ = np.array((tfidf_bow_dtm!=0).sum(axis=1)).ravel()\n",
    "assert(np.all(nb_terms_per_doc__==nb_terms_per_doc_))"
   ]
  },
  {
   "cell_type": "code",
   "execution_count": 154,
   "metadata": {},
   "outputs": [
    {
     "name": "stdout",
     "output_type": "stream",
     "text": [
      "28\n"
     ]
    },
    {
     "data": {
      "text/html": [
       "<div>\n",
       "<style scoped>\n",
       "    .dataframe tbody tr th:only-of-type {\n",
       "        vertical-align: middle;\n",
       "    }\n",
       "\n",
       "    .dataframe tbody tr th {\n",
       "        vertical-align: top;\n",
       "    }\n",
       "\n",
       "    .dataframe thead th {\n",
       "        text-align: right;\n",
       "    }\n",
       "</style>\n",
       "<table border=\"1\" class=\"dataframe\">\n",
       "  <thead>\n",
       "    <tr style=\"text-align: right;\">\n",
       "      <th></th>\n",
       "      <th>sentence</th>\n",
       "      <th>qlabel</th>\n",
       "      <th>tokenized_sent</th>\n",
       "    </tr>\n",
       "  </thead>\n",
       "  <tbody>\n",
       "    <tr>\n",
       "      <th>25</th>\n",
       "      <td>Jimie hendrix... rhcp .. Nick johnston...</td>\n",
       "      <td>1</td>\n",
       "      <td>[jim, hendrix, rhcp, nick, johnston]</td>\n",
       "    </tr>\n",
       "    <tr>\n",
       "      <th>152</th>\n",
       "      <td>idk</td>\n",
       "      <td>1</td>\n",
       "      <td>[idk]</td>\n",
       "    </tr>\n",
       "    <tr>\n",
       "      <th>164</th>\n",
       "      <td>Paix</td>\n",
       "      <td>1</td>\n",
       "      <td>[paix]</td>\n",
       "    </tr>\n",
       "    <tr>\n",
       "      <th>176</th>\n",
       "      <td>l'attachement émotionnel</td>\n",
       "      <td>1</td>\n",
       "      <td>[attach, émotionn]</td>\n",
       "    </tr>\n",
       "    <tr>\n",
       "      <th>181</th>\n",
       "      <td>omi wo baba</td>\n",
       "      <td>1</td>\n",
       "      <td>[omi, baba]</td>\n",
       "    </tr>\n",
       "    <tr>\n",
       "      <th>220</th>\n",
       "      <td>mon mari</td>\n",
       "      <td>1</td>\n",
       "      <td>[mari]</td>\n",
       "    </tr>\n",
       "    <tr>\n",
       "      <th>300</th>\n",
       "      <td>Famma hatta sabab ijiw yitfarjo w yidhahko ali...</td>\n",
       "      <td>3</td>\n",
       "      <td>[famm, hatt, sabab, ijiw, yitfarjo, yidhahko, ...</td>\n",
       "    </tr>\n",
       "    <tr>\n",
       "      <th>368</th>\n",
       "      <td>Amitié</td>\n",
       "      <td>3</td>\n",
       "      <td>[amiti]</td>\n",
       "    </tr>\n",
       "    <tr>\n",
       "      <th>374</th>\n",
       "      <td>Logement nourriture</td>\n",
       "      <td>3</td>\n",
       "      <td>[log, nourritu]</td>\n",
       "    </tr>\n",
       "    <tr>\n",
       "      <th>403</th>\n",
       "      <td>sidi bou said</td>\n",
       "      <td>3</td>\n",
       "      <td>[sidi, bou, said]</td>\n",
       "    </tr>\n",
       "    <tr>\n",
       "      <th>436</th>\n",
       "      <td>La tranquillité</td>\n",
       "      <td>3</td>\n",
       "      <td>[tranquil]</td>\n",
       "    </tr>\n",
       "    <tr>\n",
       "      <th>454</th>\n",
       "      <td>chay</td>\n",
       "      <td>3</td>\n",
       "      <td>[chay]</td>\n",
       "    </tr>\n",
       "    <tr>\n",
       "      <th>546</th>\n",
       "      <td>Oui</td>\n",
       "      <td>3</td>\n",
       "      <td>[oui]</td>\n",
       "    </tr>\n",
       "    <tr>\n",
       "      <th>643</th>\n",
       "      <td>Etude Master</td>\n",
       "      <td>4</td>\n",
       "      <td>[etud, mast]</td>\n",
       "    </tr>\n",
       "    <tr>\n",
       "      <th>653</th>\n",
       "      <td>Iife standards</td>\n",
       "      <td>4</td>\n",
       "      <td>[iife, standard]</td>\n",
       "    </tr>\n",
       "    <tr>\n",
       "      <th>667</th>\n",
       "      <td>Every thing</td>\n",
       "      <td>4</td>\n",
       "      <td>[every, thing]</td>\n",
       "    </tr>\n",
       "    <tr>\n",
       "      <th>697</th>\n",
       "      <td>life</td>\n",
       "      <td>4</td>\n",
       "      <td>[life]</td>\n",
       "    </tr>\n",
       "    <tr>\n",
       "      <th>721</th>\n",
       "      <td>Vacances</td>\n",
       "      <td>4</td>\n",
       "      <td>[vacanc]</td>\n",
       "    </tr>\n",
       "    <tr>\n",
       "      <th>727</th>\n",
       "      <td>leflous</td>\n",
       "      <td>4</td>\n",
       "      <td>[leflous]</td>\n",
       "    </tr>\n",
       "    <tr>\n",
       "      <th>800</th>\n",
       "      <td>L'aventure</td>\n",
       "      <td>4</td>\n",
       "      <td>[aventur]</td>\n",
       "    </tr>\n",
       "    <tr>\n",
       "      <th>848</th>\n",
       "      <td>L nes taarf kife t3ish</td>\n",
       "      <td>5</td>\n",
       "      <td>[nes, taarf, kife, ish]</td>\n",
       "    </tr>\n",
       "    <tr>\n",
       "      <th>1159</th>\n",
       "      <td>La méritocratie</td>\n",
       "      <td>6</td>\n",
       "      <td>[méritocr]</td>\n",
       "    </tr>\n",
       "    <tr>\n",
       "      <th>1171</th>\n",
       "      <td>commitment</td>\n",
       "      <td>6</td>\n",
       "      <td>[commitme]</td>\n",
       "    </tr>\n",
       "    <tr>\n",
       "      <th>1183</th>\n",
       "      <td>la rentabilité</td>\n",
       "      <td>6</td>\n",
       "      <td>[rentabl]</td>\n",
       "    </tr>\n",
       "    <tr>\n",
       "      <th>1214</th>\n",
       "      <td>quoi!!</td>\n",
       "      <td>6</td>\n",
       "      <td>[quoi]</td>\n",
       "    </tr>\n",
       "    <tr>\n",
       "      <th>1220</th>\n",
       "      <td>La rigueur</td>\n",
       "      <td>6</td>\n",
       "      <td>[rigueur]</td>\n",
       "    </tr>\n",
       "    <tr>\n",
       "      <th>1387</th>\n",
       "      <td>la perfection</td>\n",
       "      <td>6</td>\n",
       "      <td>[perfect]</td>\n",
       "    </tr>\n",
       "    <tr>\n",
       "      <th>1396</th>\n",
       "      <td>Same as above</td>\n",
       "      <td>6</td>\n",
       "      <td>[same, abov]</td>\n",
       "    </tr>\n",
       "  </tbody>\n",
       "</table>\n",
       "</div>"
      ],
      "text/plain": [
       "                                               sentence  qlabel  \\\n",
       "25            Jimie hendrix... rhcp .. Nick johnston...       1   \n",
       "152                                                 idk       1   \n",
       "164                                                Paix       1   \n",
       "176                            l'attachement émotionnel       1   \n",
       "181                                         omi wo baba       1   \n",
       "220                                            mon mari       1   \n",
       "300   Famma hatta sabab ijiw yitfarjo w yidhahko ali...       3   \n",
       "368                                              Amitié       3   \n",
       "374                                 Logement nourriture       3   \n",
       "403                                       sidi bou said       3   \n",
       "436                                     La tranquillité       3   \n",
       "454                                                chay       3   \n",
       "546                                                 Oui       3   \n",
       "643                                        Etude Master       4   \n",
       "653                                      Iife standards       4   \n",
       "667                                         Every thing       4   \n",
       "697                                                life       4   \n",
       "721                                            Vacances       4   \n",
       "727                                             leflous       4   \n",
       "800                                          L'aventure       4   \n",
       "848                              L nes taarf kife t3ish       5   \n",
       "1159                                    La méritocratie       6   \n",
       "1171                                         commitment       6   \n",
       "1183                                     la rentabilité       6   \n",
       "1214                                             quoi!!       6   \n",
       "1220                                         La rigueur       6   \n",
       "1387                                      la perfection       6   \n",
       "1396                                      Same as above       6   \n",
       "\n",
       "                                         tokenized_sent  \n",
       "25                 [jim, hendrix, rhcp, nick, johnston]  \n",
       "152                                               [idk]  \n",
       "164                                              [paix]  \n",
       "176                                  [attach, émotionn]  \n",
       "181                                         [omi, baba]  \n",
       "220                                              [mari]  \n",
       "300   [famm, hatt, sabab, ijiw, yitfarjo, yidhahko, ...  \n",
       "368                                             [amiti]  \n",
       "374                                     [log, nourritu]  \n",
       "403                                   [sidi, bou, said]  \n",
       "436                                          [tranquil]  \n",
       "454                                              [chay]  \n",
       "546                                               [oui]  \n",
       "643                                        [etud, mast]  \n",
       "653                                    [iife, standard]  \n",
       "667                                      [every, thing]  \n",
       "697                                              [life]  \n",
       "721                                            [vacanc]  \n",
       "727                                           [leflous]  \n",
       "800                                           [aventur]  \n",
       "848                             [nes, taarf, kife, ish]  \n",
       "1159                                         [méritocr]  \n",
       "1171                                         [commitme]  \n",
       "1183                                          [rentabl]  \n",
       "1214                                             [quoi]  \n",
       "1220                                          [rigueur]  \n",
       "1387                                          [perfect]  \n",
       "1396                                       [same, abov]  "
      ]
     },
     "execution_count": 154,
     "metadata": {},
     "output_type": "execute_result"
    }
   ],
   "source": [
    "# Which documents do NOT contain any vocabulary terms\n",
    "assert(nb_terms_per_doc_.shape[0]==len(corpus_sent_df))\n",
    "print(np.sum(nb_terms_per_doc_==0))\n",
    "corpus_sent_df.iloc[nb_terms_per_doc_==0,:]"
   ]
  },
  {
   "cell_type": "code",
   "execution_count": 155,
   "metadata": {},
   "outputs": [
    {
     "name": "stdout",
     "output_type": "stream",
     "text": [
      "1409\n",
      "1381\n"
     ]
    }
   ],
   "source": [
    "print(len(corpus_sent_df))\n",
    "corpus_sent_df = corpus_sent_df.iloc[nb_terms_per_doc_>0,:]\n",
    "print(len(corpus_sent_df))"
   ]
  },
  {
   "cell_type": "code",
   "execution_count": 156,
   "metadata": {},
   "outputs": [
    {
     "data": {
      "text/plain": [
       "(1381, 3)"
      ]
     },
     "execution_count": 156,
     "metadata": {},
     "output_type": "execute_result"
    }
   ],
   "source": [
    "corpus_sent_df.shape"
   ]
  },
  {
   "cell_type": "code",
   "execution_count": 157,
   "metadata": {},
   "outputs": [],
   "source": [
    "tf_bow_dtm = tf_bow_dtm[nb_terms_per_doc_>0,:]\n",
    "tfidf_bow_dtm = tfidf_bow_dtm[nb_terms_per_doc_>0,:]"
   ]
  },
  {
   "cell_type": "code",
   "execution_count": 158,
   "metadata": {},
   "outputs": [],
   "source": [
    "assert(np.all(tf_bow_dtm.shape==tfidf_bow_dtm.shape) and tf_bow_dtm.shape[0] == len(corpus_sent_df))"
   ]
  },
  {
   "cell_type": "markdown",
   "metadata": {},
   "source": [
    "****"
   ]
  },
  {
   "cell_type": "markdown",
   "metadata": {},
   "source": [
    "## Meta-Features of Vocabulary Terms\n",
    "- Input: DTM and vocabulary list.\n",
    "- Output: word importance features (that reflect importance of a word) based on their frequency of occurrence in documents.\n",
    "\n",
    "Main purpose of this analysis is to gain insight for effective *word scoring* in the `sumbasic` method used below ... \n",
    "\n",
    "**TO DO**: \n",
    "1. add other word features ???\n",
    "2. visualization using tSNE ???\n",
    "3. cluster analysis ???\n",
    "4. perform this entire analysis separately on each question's sub-corpus (instead of combined corpus)  ???"
   ]
  },
  {
   "cell_type": "code",
   "execution_count": 159,
   "metadata": {},
   "outputs": [
    {
     "data": {
      "text/plain": [
       "((1381, 543), (1381, 543), 543)"
      ]
     },
     "execution_count": 159,
     "metadata": {},
     "output_type": "execute_result"
    }
   ],
   "source": [
    "tf_bow_dtm.shape,tfidf_bow_dtm.shape,len(tf_bow_vocab)"
   ]
  },
  {
   "cell_type": "code",
   "execution_count": 160,
   "metadata": {},
   "outputs": [
    {
     "data": {
      "text/html": [
       "<div>\n",
       "<style scoped>\n",
       "    .dataframe tbody tr th:only-of-type {\n",
       "        vertical-align: middle;\n",
       "    }\n",
       "\n",
       "    .dataframe tbody tr th {\n",
       "        vertical-align: top;\n",
       "    }\n",
       "\n",
       "    .dataframe thead th {\n",
       "        text-align: right;\n",
       "    }\n",
       "</style>\n",
       "<table border=\"1\" class=\"dataframe\">\n",
       "  <thead>\n",
       "    <tr style=\"text-align: right;\">\n",
       "      <th></th>\n",
       "      <th>Corpus_tf</th>\n",
       "      <th>DF</th>\n",
       "      <th>IDF</th>\n",
       "      <th>average_tfidf</th>\n",
       "    </tr>\n",
       "  </thead>\n",
       "  <tbody>\n",
       "    <tr>\n",
       "      <th>absenc</th>\n",
       "      <td>3</td>\n",
       "      <td>3</td>\n",
       "      <td>6.865051</td>\n",
       "      <td>0.014913</td>\n",
       "    </tr>\n",
       "    <tr>\n",
       "      <th>accept</th>\n",
       "      <td>4</td>\n",
       "      <td>4</td>\n",
       "      <td>6.641907</td>\n",
       "      <td>0.019238</td>\n",
       "    </tr>\n",
       "    <tr>\n",
       "      <th>accueil</th>\n",
       "      <td>3</td>\n",
       "      <td>3</td>\n",
       "      <td>6.865051</td>\n",
       "      <td>0.014913</td>\n",
       "    </tr>\n",
       "    <tr>\n",
       "      <th>achat</th>\n",
       "      <td>3</td>\n",
       "      <td>3</td>\n",
       "      <td>6.865051</td>\n",
       "      <td>0.014913</td>\n",
       "    </tr>\n",
       "    <tr>\n",
       "      <th>acquer</th>\n",
       "      <td>3</td>\n",
       "      <td>3</td>\n",
       "      <td>6.865051</td>\n",
       "      <td>0.014913</td>\n",
       "    </tr>\n",
       "  </tbody>\n",
       "</table>\n",
       "</div>"
      ],
      "text/plain": [
       "         Corpus_tf  DF       IDF  average_tfidf\n",
       "absenc           3   3  6.865051       0.014913\n",
       "accept           4   4  6.641907       0.019238\n",
       "accueil          3   3  6.865051       0.014913\n",
       "achat            3   3  6.865051       0.014913\n",
       "acquer           3   3  6.865051       0.014913"
      ]
     },
     "execution_count": 160,
     "metadata": {},
     "output_type": "execute_result"
    }
   ],
   "source": [
    "term_attributes_df = pd.DataFrame({'IDF': tfidf_transformer.idf_, \\\n",
    "                                  'Corpus_tf':np.array(tf_bow_dtm.sum(axis=0)).ravel(), \\\n",
    "                                   'DF':np.array((tf_bow_dtm>0).sum(axis=0)).ravel(), \\\n",
    "                                   'average_tfidf': np.array(tfidf_bow_dtm.mean(axis=0)).ravel() \\\n",
    "                                  }, index=tf_bow_vocab)\n",
    "term_attributes_df.head()"
   ]
  },
  {
   "cell_type": "code",
   "execution_count": 161,
   "metadata": {},
   "outputs": [
    {
     "data": {
      "text/plain": [
       "0.8692449355432781"
      ]
     },
     "execution_count": 161,
     "metadata": {},
     "output_type": "execute_result"
    }
   ],
   "source": [
    "# Fraction of terms that occur at most once in any document\n",
    "np.mean(term_attributes_df.DF == term_attributes_df.Corpus_tf)"
   ]
  },
  {
   "cell_type": "code",
   "execution_count": 162,
   "metadata": {},
   "outputs": [
    {
     "data": {
      "text/html": [
       "<div>\n",
       "<style scoped>\n",
       "    .dataframe tbody tr th:only-of-type {\n",
       "        vertical-align: middle;\n",
       "    }\n",
       "\n",
       "    .dataframe tbody tr th {\n",
       "        vertical-align: top;\n",
       "    }\n",
       "\n",
       "    .dataframe thead th {\n",
       "        text-align: right;\n",
       "    }\n",
       "</style>\n",
       "<table border=\"1\" class=\"dataframe\">\n",
       "  <thead>\n",
       "    <tr style=\"text-align: right;\">\n",
       "      <th></th>\n",
       "      <th>Corpus_tf</th>\n",
       "      <th>DF</th>\n",
       "      <th>IDF</th>\n",
       "      <th>average_tfidf</th>\n",
       "    </tr>\n",
       "  </thead>\n",
       "  <tbody>\n",
       "    <tr>\n",
       "      <th>plus</th>\n",
       "      <td>164</td>\n",
       "      <td>132</td>\n",
       "      <td>3.360996</td>\n",
       "      <td>0.399133</td>\n",
       "    </tr>\n",
       "    <tr>\n",
       "      <th>tunis</th>\n",
       "      <td>160</td>\n",
       "      <td>153</td>\n",
       "      <td>3.214392</td>\n",
       "      <td>0.372413</td>\n",
       "    </tr>\n",
       "    <tr>\n",
       "      <th>travail</th>\n",
       "      <td>156</td>\n",
       "      <td>146</td>\n",
       "      <td>3.260912</td>\n",
       "      <td>0.368358</td>\n",
       "    </tr>\n",
       "    <tr>\n",
       "      <th>vie</th>\n",
       "      <td>149</td>\n",
       "      <td>142</td>\n",
       "      <td>3.288500</td>\n",
       "      <td>0.354806</td>\n",
       "    </tr>\n",
       "    <tr>\n",
       "      <th>salair</th>\n",
       "      <td>144</td>\n",
       "      <td>143</td>\n",
       "      <td>3.281532</td>\n",
       "      <td>0.342173</td>\n",
       "    </tr>\n",
       "    <tr>\n",
       "      <th>étrang</th>\n",
       "      <td>131</td>\n",
       "      <td>130</td>\n",
       "      <td>3.376148</td>\n",
       "      <td>0.320257</td>\n",
       "    </tr>\n",
       "    <tr>\n",
       "      <th>respect</th>\n",
       "      <td>108</td>\n",
       "      <td>107</td>\n",
       "      <td>3.569214</td>\n",
       "      <td>0.279128</td>\n",
       "    </tr>\n",
       "    <tr>\n",
       "      <th>pas</th>\n",
       "      <td>102</td>\n",
       "      <td>93</td>\n",
       "      <td>3.708050</td>\n",
       "      <td>0.273875</td>\n",
       "    </tr>\n",
       "    <tr>\n",
       "      <th>bon</th>\n",
       "      <td>87</td>\n",
       "      <td>75</td>\n",
       "      <td>3.920612</td>\n",
       "      <td>0.246990</td>\n",
       "    </tr>\n",
       "    <tr>\n",
       "      <th>mental</th>\n",
       "      <td>79</td>\n",
       "      <td>78</td>\n",
       "      <td>3.881897</td>\n",
       "      <td>0.222064</td>\n",
       "    </tr>\n",
       "  </tbody>\n",
       "</table>\n",
       "</div>"
      ],
      "text/plain": [
       "         Corpus_tf   DF       IDF  average_tfidf\n",
       "plus           164  132  3.360996       0.399133\n",
       "tunis          160  153  3.214392       0.372413\n",
       "travail        156  146  3.260912       0.368358\n",
       "vie            149  142  3.288500       0.354806\n",
       "salair         144  143  3.281532       0.342173\n",
       "étrang         131  130  3.376148       0.320257\n",
       "respect        108  107  3.569214       0.279128\n",
       "pas            102   93  3.708050       0.273875\n",
       "bon             87   75  3.920612       0.246990\n",
       "mental          79   78  3.881897       0.222064"
      ]
     },
     "execution_count": 162,
     "metadata": {},
     "output_type": "execute_result"
    }
   ],
   "source": [
    "# Which vocablary ters occur more than once in a document\n",
    "term_attributes_df.loc[term_attributes_df.DF < term_attributes_df.Corpus_tf,:].sort_values('Corpus_tf',ascending=False).head(10)"
   ]
  },
  {
   "cell_type": "code",
   "execution_count": 163,
   "metadata": {},
   "outputs": [],
   "source": [
    "# term_attributes_df.describe()"
   ]
  },
  {
   "cell_type": "code",
   "execution_count": 164,
   "metadata": {},
   "outputs": [
    {
     "data": {
      "text/html": [
       "<div>\n",
       "<style scoped>\n",
       "    .dataframe tbody tr th:only-of-type {\n",
       "        vertical-align: middle;\n",
       "    }\n",
       "\n",
       "    .dataframe tbody tr th {\n",
       "        vertical-align: top;\n",
       "    }\n",
       "\n",
       "    .dataframe thead th {\n",
       "        text-align: right;\n",
       "    }\n",
       "</style>\n",
       "<table border=\"1\" class=\"dataframe\">\n",
       "  <thead>\n",
       "    <tr style=\"text-align: right;\">\n",
       "      <th></th>\n",
       "      <th>Corpus_tf</th>\n",
       "      <th>DF</th>\n",
       "      <th>IDF</th>\n",
       "      <th>average_tfidf</th>\n",
       "    </tr>\n",
       "  </thead>\n",
       "  <tbody>\n",
       "    <tr>\n",
       "      <th>Corpus_tf</th>\n",
       "      <td>1.000000</td>\n",
       "      <td>0.997612</td>\n",
       "      <td>-0.835863</td>\n",
       "      <td>0.988795</td>\n",
       "    </tr>\n",
       "    <tr>\n",
       "      <th>DF</th>\n",
       "      <td>0.997612</td>\n",
       "      <td>1.000000</td>\n",
       "      <td>-0.843388</td>\n",
       "      <td>0.987806</td>\n",
       "    </tr>\n",
       "    <tr>\n",
       "      <th>IDF</th>\n",
       "      <td>-0.835863</td>\n",
       "      <td>-0.843388</td>\n",
       "      <td>1.000000</td>\n",
       "      <td>-0.903865</td>\n",
       "    </tr>\n",
       "    <tr>\n",
       "      <th>average_tfidf</th>\n",
       "      <td>0.988795</td>\n",
       "      <td>0.987806</td>\n",
       "      <td>-0.903865</td>\n",
       "      <td>1.000000</td>\n",
       "    </tr>\n",
       "  </tbody>\n",
       "</table>\n",
       "</div>"
      ],
      "text/plain": [
       "               Corpus_tf        DF       IDF  average_tfidf\n",
       "Corpus_tf       1.000000  0.997612 -0.835863       0.988795\n",
       "DF              0.997612  1.000000 -0.843388       0.987806\n",
       "IDF            -0.835863 -0.843388  1.000000      -0.903865\n",
       "average_tfidf   0.988795  0.987806 -0.903865       1.000000"
      ]
     },
     "execution_count": 164,
     "metadata": {},
     "output_type": "execute_result"
    }
   ],
   "source": [
    "term_attributes_df.corr()"
   ]
  },
  {
   "cell_type": "code",
   "execution_count": 165,
   "metadata": {},
   "outputs": [
    {
     "data": {
      "image/png": "[encoded data removed]",
      "text/plain": [
       "<matplotlib.figure.Figure at 0x28585867f98>"
      ]
     },
     "metadata": {},
     "output_type": "display_data"
    }
   ],
   "source": [
    "g = sns.pairplot(term_attributes_df)"
   ]
  },
  {
   "cell_type": "code",
   "execution_count": 166,
   "metadata": {},
   "outputs": [
    {
     "data": {
      "text/html": [
       "<div>\n",
       "<style scoped>\n",
       "    .dataframe tbody tr th:only-of-type {\n",
       "        vertical-align: middle;\n",
       "    }\n",
       "\n",
       "    .dataframe tbody tr th {\n",
       "        vertical-align: top;\n",
       "    }\n",
       "\n",
       "    .dataframe thead th {\n",
       "        text-align: right;\n",
       "    }\n",
       "</style>\n",
       "<table border=\"1\" class=\"dataframe\">\n",
       "  <thead>\n",
       "    <tr style=\"text-align: right;\">\n",
       "      <th></th>\n",
       "      <th>Corpus_tf</th>\n",
       "      <th>DF</th>\n",
       "      <th>IDF</th>\n",
       "      <th>average_tfidf</th>\n",
       "    </tr>\n",
       "  </thead>\n",
       "  <tbody>\n",
       "    <tr>\n",
       "      <th>tunis</th>\n",
       "      <td>160</td>\n",
       "      <td>153</td>\n",
       "      <td>3.214392</td>\n",
       "      <td>0.372413</td>\n",
       "    </tr>\n",
       "    <tr>\n",
       "      <th>travail</th>\n",
       "      <td>156</td>\n",
       "      <td>146</td>\n",
       "      <td>3.260912</td>\n",
       "      <td>0.368358</td>\n",
       "    </tr>\n",
       "    <tr>\n",
       "      <th>salair</th>\n",
       "      <td>144</td>\n",
       "      <td>143</td>\n",
       "      <td>3.281532</td>\n",
       "      <td>0.342173</td>\n",
       "    </tr>\n",
       "    <tr>\n",
       "      <th>vie</th>\n",
       "      <td>149</td>\n",
       "      <td>142</td>\n",
       "      <td>3.288500</td>\n",
       "      <td>0.354806</td>\n",
       "    </tr>\n",
       "    <tr>\n",
       "      <th>plus</th>\n",
       "      <td>164</td>\n",
       "      <td>132</td>\n",
       "      <td>3.360996</td>\n",
       "      <td>0.399133</td>\n",
       "    </tr>\n",
       "    <tr>\n",
       "      <th>étrang</th>\n",
       "      <td>131</td>\n",
       "      <td>130</td>\n",
       "      <td>3.376148</td>\n",
       "      <td>0.320257</td>\n",
       "    </tr>\n",
       "    <tr>\n",
       "      <th>respect</th>\n",
       "      <td>108</td>\n",
       "      <td>107</td>\n",
       "      <td>3.569214</td>\n",
       "      <td>0.279128</td>\n",
       "    </tr>\n",
       "    <tr>\n",
       "      <th>famill</th>\n",
       "      <td>100</td>\n",
       "      <td>100</td>\n",
       "      <td>3.636224</td>\n",
       "      <td>0.263304</td>\n",
       "    </tr>\n",
       "    <tr>\n",
       "      <th>pas</th>\n",
       "      <td>102</td>\n",
       "      <td>93</td>\n",
       "      <td>3.708050</td>\n",
       "      <td>0.273875</td>\n",
       "    </tr>\n",
       "    <tr>\n",
       "      <th>mental</th>\n",
       "      <td>79</td>\n",
       "      <td>78</td>\n",
       "      <td>3.881897</td>\n",
       "      <td>0.222064</td>\n",
       "    </tr>\n",
       "  </tbody>\n",
       "</table>\n",
       "</div>"
      ],
      "text/plain": [
       "         Corpus_tf   DF       IDF  average_tfidf\n",
       "tunis          160  153  3.214392       0.372413\n",
       "travail        156  146  3.260912       0.368358\n",
       "salair         144  143  3.281532       0.342173\n",
       "vie            149  142  3.288500       0.354806\n",
       "plus           164  132  3.360996       0.399133\n",
       "étrang         131  130  3.376148       0.320257\n",
       "respect        108  107  3.569214       0.279128\n",
       "famill         100  100  3.636224       0.263304\n",
       "pas            102   93  3.708050       0.273875\n",
       "mental          79   78  3.881897       0.222064"
      ]
     },
     "execution_count": 166,
     "metadata": {},
     "output_type": "execute_result"
    }
   ],
   "source": [
    "term_attributes_df.sort_values('DF',ascending=False, inplace=False).head(10)"
   ]
  },
  {
   "cell_type": "code",
   "execution_count": 167,
   "metadata": {},
   "outputs": [
    {
     "data": {
      "text/html": [
       "<div>\n",
       "<style scoped>\n",
       "    .dataframe tbody tr th:only-of-type {\n",
       "        vertical-align: middle;\n",
       "    }\n",
       "\n",
       "    .dataframe tbody tr th {\n",
       "        vertical-align: top;\n",
       "    }\n",
       "\n",
       "    .dataframe thead th {\n",
       "        text-align: right;\n",
       "    }\n",
       "</style>\n",
       "<table border=\"1\" class=\"dataframe\">\n",
       "  <thead>\n",
       "    <tr style=\"text-align: right;\">\n",
       "      <th></th>\n",
       "      <th>Corpus_tf</th>\n",
       "      <th>DF</th>\n",
       "      <th>IDF</th>\n",
       "      <th>average_tfidf</th>\n",
       "    </tr>\n",
       "  </thead>\n",
       "  <tbody>\n",
       "    <tr>\n",
       "      <th>plus</th>\n",
       "      <td>164</td>\n",
       "      <td>132</td>\n",
       "      <td>3.360996</td>\n",
       "      <td>0.399133</td>\n",
       "    </tr>\n",
       "    <tr>\n",
       "      <th>tunis</th>\n",
       "      <td>160</td>\n",
       "      <td>153</td>\n",
       "      <td>3.214392</td>\n",
       "      <td>0.372413</td>\n",
       "    </tr>\n",
       "    <tr>\n",
       "      <th>travail</th>\n",
       "      <td>156</td>\n",
       "      <td>146</td>\n",
       "      <td>3.260912</td>\n",
       "      <td>0.368358</td>\n",
       "    </tr>\n",
       "    <tr>\n",
       "      <th>vie</th>\n",
       "      <td>149</td>\n",
       "      <td>142</td>\n",
       "      <td>3.288500</td>\n",
       "      <td>0.354806</td>\n",
       "    </tr>\n",
       "    <tr>\n",
       "      <th>salair</th>\n",
       "      <td>144</td>\n",
       "      <td>143</td>\n",
       "      <td>3.281532</td>\n",
       "      <td>0.342173</td>\n",
       "    </tr>\n",
       "  </tbody>\n",
       "</table>\n",
       "</div>"
      ],
      "text/plain": [
       "         Corpus_tf   DF       IDF  average_tfidf\n",
       "plus           164  132  3.360996       0.399133\n",
       "tunis          160  153  3.214392       0.372413\n",
       "travail        156  146  3.260912       0.368358\n",
       "vie            149  142  3.288500       0.354806\n",
       "salair         144  143  3.281532       0.342173"
      ]
     },
     "execution_count": 167,
     "metadata": {},
     "output_type": "execute_result"
    }
   ],
   "source": [
    "term_attributes_df.sort_values('average_tfidf',ascending=False, inplace=False).head()"
   ]
  },
  {
   "cell_type": "code",
   "execution_count": 168,
   "metadata": {},
   "outputs": [
    {
     "data": {
      "text/plain": [
       "({'mental'}, {'bon'})"
      ]
     },
     "execution_count": 168,
     "metadata": {},
     "output_type": "execute_result"
    }
   ],
   "source": [
    "S1 = set(term_attributes_df.sort_values('DF',ascending=False, inplace=False).head(10).index)\n",
    "S2 = set(term_attributes_df.sort_values('average_tfidf',ascending=False, inplace=False).head(10).index)\n",
    "S1 - S2, S2 - S1"
   ]
  },
  {
   "cell_type": "code",
   "execution_count": 169,
   "metadata": {},
   "outputs": [
    {
     "data": {
      "text/plain": [
       "({'qualit'}, {'gens'})"
      ]
     },
     "execution_count": 169,
     "metadata": {},
     "output_type": "execute_result"
    }
   ],
   "source": [
    "S1 = set(term_attributes_df.sort_values('DF',ascending=False, inplace=False).head(20).index)\n",
    "S2 = set(term_attributes_df.sort_values('average_tfidf',ascending=False, inplace=False).head(20).index)\n",
    "S1 - S2, S2 - S1"
   ]
  },
  {
   "cell_type": "markdown",
   "metadata": {},
   "source": [
    "*Remarks & conclusions*\n",
    "- ``DF`` is the document frequency of a term, ``corpus_TF`` is the number of occurrences of a term in entire corpus.\n",
    "- There are 546 distinct vocabulary terms (single words and bigrams) -- words that occur in at least 3 documents.\n",
    "- 87% of vocabulary terms occur only once in a document, i.e. their df and corpus_tf are the same \n",
    "- Remember that 97% of the non-zero elements of DTM are $=$1."
   ]
  },
  {
   "cell_type": "markdown",
   "metadata": {},
   "source": [
    "### Wordcloud\n",
    "Plot word cloud weighted by words' document frequencies."
   ]
  },
  {
   "cell_type": "code",
   "execution_count": 170,
   "metadata": {},
   "outputs": [],
   "source": [
    "from wordcloud import WordCloud, ImageColorGenerator"
   ]
  },
  {
   "cell_type": "code",
   "execution_count": 171,
   "metadata": {
    "scrolled": true
   },
   "outputs": [
    {
     "data": {
      "text/plain": [
       "(-0.5, 999.5, 499.5, -0.5)"
      ]
     },
     "execution_count": 171,
     "metadata": {},
     "output_type": "execute_result"
    },
    {
     "data": {
      "image/png": "[encoded data removed]",
      "text/plain": [
       "<matplotlib.figure.Figure at 0x28584e4d9e8>"
      ]
     },
     "metadata": {},
     "output_type": "display_data"
    }
   ],
   "source": [
    "# hyperparameters\n",
    "Max_Words = 20\n",
    "MaxFont = 1200\n",
    "\n",
    "# Create instance of class with default configuration parameters\n",
    "wc = WordCloud(width = 1000, height = 500, min_font_size=3, max_words=Max_Words)\n",
    "\n",
    "# generate a word cloud image by calling the generate_from_frequencies() method\n",
    "\n",
    "# set the max font size for this topic\n",
    "DF_norm = term_attributes_df.DF/tf_bow_dtm.shape[0]\n",
    "weighted_MaxFont = int( MaxFont * np.max(DF_norm) )\n",
    "d = dict(zip(tf_bow_vocab, DF_norm))\n",
    "z = wc.generate_from_frequencies(d, max_font_size=weighted_MaxFont)\n",
    "plt.figure(figsize=(15,8))\n",
    "plt.imshow(z)\n",
    "plt.axis(\"off\")"
   ]
  },
  {
   "cell_type": "markdown",
   "metadata": {},
   "source": [
    "****"
   ]
  },
  {
   "cell_type": "markdown",
   "metadata": {},
   "source": [
    "## Summarization with Topic words and Sumbasic\n",
    "- Inputs:\n",
    "- Outputs:"
   ]
  },
  {
   "cell_type": "markdown",
   "metadata": {},
   "source": [
    "### Group similar documents (via CC analysis)\n",
    "Find groups of similar documents so that the summary includes only at most one member of any document group."
   ]
  },
  {
   "cell_type": "code",
   "execution_count": 169,
   "metadata": {},
   "outputs": [],
   "source": [
    "from scipy.spatial.distance import pdist\n",
    "from scipy.spatial.distance import squareform"
   ]
  },
  {
   "cell_type": "markdown",
   "metadata": {},
   "source": [
    "#### Method 1: jaccard similarity of boolean DTM + CC analysis"
   ]
  },
  {
   "cell_type": "code",
   "execution_count": 170,
   "metadata": {},
   "outputs": [],
   "source": [
    "def find_similar_sents1(tf_dtm,thresh=0.5,disp_flag=False,sentences=[]):\n",
    "\n",
    "    ## Calculate distance matrix (between every pair of documents)\n",
    "    D = squareform(pdist((tf_dtm>0).todense(), metric = 'jaccard'))\n",
    "\n",
    "    # remove self-edges\n",
    "    for i in range(D.shape[0]):\n",
    "        D[i,i] = 1\n",
    "\n",
    "    ## Build undirected graph by thresholding distance matrix\n",
    "    rows,cols = np.where(D<thresh)\n",
    "    assert(np.all(rows!=cols))\n",
    "\n",
    "    g1 = nx.Graph()\n",
    "    g1.add_edges_from(zip(rows,cols))\n",
    "\n",
    "    ## Extract CCs, and sort them by size\n",
    "    CCs = [c for c in sorted(nx.connected_components(g1), key=len, reverse=True)]\n",
    "\n",
    "    W = 1-D\n",
    "    rows2,cols2 = np.where(W>1-thresh)\n",
    "    assert(len(rows2)==len(rows))\n",
    "    assert(np.all(rows2!=cols2))\n",
    "\n",
    "    weights = W[W>1-thresh]\n",
    "    assert(len(weights) == len(rows2))\n",
    "    assert(np.min(weights)>=thresh)\n",
    "\n",
    "    x = g1.number_of_nodes()\n",
    "    y = g1.number_of_edges()\n",
    "    g1.add_weighted_edges_from(zip(rows2,cols2,weights))\n",
    "    assert(x == g1.number_of_nodes() and y == g1.number_of_edges())\n",
    "\n",
    "    ## Evaluate quality of CCs\n",
    "    L = []\n",
    "    for cc in CCs:\n",
    "        n = len(cc)\n",
    "        e = g1.subgraph(cc).number_of_edges()\n",
    "        w = [z['weight'] for x,y,z in list(g1.subgraph(cc).edges.data())]\n",
    "        L.append((n,e,e/(n*(n-1)/2), np.median(w)))\n",
    "    CC_prop_df = pd.DataFrame(L)\n",
    "    CC_prop_df.columns = ['n_nodes','n_edges','cohesion','median_weight']\n",
    "\n",
    "    ## TO DO: remove CCs with low cohesion and/or low average weight\n",
    "\n",
    "    ## label each sentence with corresponding CC\n",
    "    CC_labels_vec = np.empty((tf_dtm.shape[0],))\n",
    "    for cc_label,cc in enumerate(CCs):\n",
    "        for i in cc:\n",
    "            CC_labels_vec[i] = cc_label\n",
    "\n",
    "    assert(np.any(np.isnan(CC_labels_vec)) == False)\n",
    "\n",
    "\n",
    "    ## Visualize results\n",
    "    if disp_flag:\n",
    "        print(\"Graph size: nodes %d, edges %d\" % (g1.number_of_nodes(),g1.number_of_edges()))\n",
    "        print(\"\")\n",
    "\n",
    "        print(\"Number of connected components: %d\" % len(CCs))\n",
    "        print('Distribution of CC sizes:')\n",
    "        print(pd.Series([len(cc) for cc in CCs]).value_counts())\n",
    "        print(\"\")\n",
    "\n",
    "        print(\"Cohesion analysis of the CCs:\")\n",
    "        CC_prop_df.sort_values('n_nodes', ascending=False, inplace=True)\n",
    "        print(CC_prop_df[CC_prop_df.n_nodes>1])\n",
    "        print(\"\")\n",
    "        print(\"\")\n",
    "\n",
    "        #CC_prop_df.plot.scatter('n_nodes','cohesion')\n",
    "        #CC_prop_df.plot.scatter('n_nodes','median_weight')\n",
    "\n",
    "        if len(sentences) > 0 :\n",
    "            assert(len(sentences)==tf_dtm.shape[0])\n",
    "            print(\"Sentences in each CC:\")\n",
    "            print(\"\")\n",
    "            for cc in CCs:\n",
    "                n_nodes = len(cc)\n",
    "                if n_nodes == 1:\n",
    "                    continue\n",
    "                n_edges = g1.subgraph(cc).number_of_edges()\n",
    "                print(\"CC: %d nodes, %d edges, %.3f cohesion\" % (n_nodes,n_edges,n_edges/(n_nodes*(n_nodes-1)/2)))\n",
    "                for i in cc:\n",
    "                    print(sentences.iloc[i])\n",
    "                print(\"\")\n",
    "\n",
    "    return CC_labels_vec,CC_prop_df"
   ]
  },
  {
   "cell_type": "markdown",
   "metadata": {},
   "source": [
    "#### Method 2: cosine similarity of topic words tfidf DTM + CC analysis"
   ]
  },
  {
   "cell_type": "code",
   "execution_count": 171,
   "metadata": {},
   "outputs": [],
   "source": [
    "def find_similar_sents2(sentences,tf_dtm,vocab,topic_words_df,thresh=0.2):\n",
    "    assert(len(sentences)==tf_dtm.shape[0] and len(vocab)==tf_dtm.shape[1])\n",
    "\n",
    "    u = pd.Series(range(len(vocab)),index=vocab)\n",
    "    topic_words_idx = u[topic_words_df.index].tolist()\n",
    "    topic_words_scores = np.array(topic_words_df.tolist())\n",
    "    assert(len(topic_words_scores) == len(topic_words_idx))\n",
    "\n",
    "    topic_words_dtm = np.empty((tf_dtm.shape[0],len(topic_words__)))\n",
    "    for i in range(topic_words_dtm.shape[0]):\n",
    "        topic_words_dtm[i,:] = topic_words_scores*np.array((tf_dtm[i,topic_words_idx]>0).todense()).ravel()\n",
    "\n",
    "    #remove zero rows\n",
    "    #idx = topic_words_dtm.sum(axis=1) > 0\n",
    "    #topic_words_dtm = topic_words_dtm[idx,:]\n",
    "\n",
    "    D = squareform(pdist(topic_words_dtm, metric = 'cosine'))\n",
    "\n",
    "    rows,cols = np.where((~np.isnan(D)) & (D<thresh))\n",
    "\n",
    "    doc_graph_ = nx.Graph() # empty UNDIRECTED graph\n",
    "    doc_graph_.add_edges_from(zip(rows,cols))\n",
    "\n",
    "    print(\"Graph size: nodes %d, edges %d\" % (len(doc_graph_.nodes()),len(doc_graph_.edges())))\n",
    "    print(\"\")\n",
    "\n",
    "    CCs = [c for c in sorted(nx.connected_components(doc_graph_), key=len, reverse=True)]\n",
    "    print(\"Number of connected components: %d\" % len(CCs))\n",
    "    print(\"\")\n",
    "\n",
    "    print('Distribution of CC sizes:')\n",
    "    print(pd.Series([len(cc) for cc in CCs]).value_counts())\n",
    "    print(\"\")\n",
    "\n",
    "    print(\"Sentences in the CCs:\")\n",
    "    print(\"\")\n",
    "    for cc in CCs:\n",
    "        #assert(len(cc) >= 2)\n",
    "        if len(cc) == 1:\n",
    "            continue\n",
    "        for ii in cc:\n",
    "            print(sentences.iloc[ii])\n",
    "        print(\"\")"
   ]
  },
  {
   "cell_type": "markdown",
   "metadata": {},
   "source": [
    "#### Test method1 on corpus of each question"
   ]
  },
  {
   "cell_type": "code",
   "execution_count": 172,
   "metadata": {},
   "outputs": [
    {
     "data": {
      "text/plain": [
       "array([1, 3, 4, 5, 6], dtype=int64)"
      ]
     },
     "execution_count": 172,
     "metadata": {},
     "output_type": "execute_result"
    }
   ],
   "source": [
    "corpus_sent_df.qlabel.unique()"
   ]
  },
  {
   "cell_type": "code",
   "execution_count": 173,
   "metadata": {},
   "outputs": [],
   "source": [
    "question_labels = corpus_sent_df.qlabel.unique()\n",
    "#question_labels = [4, 5, 1, 6, 3]"
   ]
  },
  {
   "cell_type": "code",
   "execution_count": 177,
   "metadata": {},
   "outputs": [
    {
     "name": "stdout",
     "output_type": "stream",
     "text": [
      "Question  1\n",
      "\n",
      "Graph size: nodes 128, edges 2199\n",
      "\n",
      "Number of connected components: 18\n",
      "Distribution of CC sizes:\n",
      "2     10\n",
      "4      2\n",
      "3      2\n",
      "15     1\n",
      "9      1\n",
      "6      1\n",
      "64     1\n",
      "dtype: int64\n",
      "\n",
      "Cohesion analysis of the CCs:\n",
      "    n_nodes  n_edges  cohesion  median_weight\n",
      "0        64     2016  1.000000       1.000000\n",
      "1        15      105  1.000000       1.000000\n",
      "2         9       36  1.000000       1.000000\n",
      "3         6       15  1.000000       0.666667\n",
      "4         4        6  1.000000       1.000000\n",
      "5         4        6  1.000000       1.000000\n",
      "6         3        2  0.666667       0.666667\n",
      "7         3        3  1.000000       0.625000\n",
      "13        2        1  1.000000       1.000000\n",
      "16        2        1  1.000000       1.000000\n",
      "15        2        1  1.000000       1.000000\n",
      "14        2        1  1.000000       1.000000\n",
      "9         2        1  1.000000       0.750000\n",
      "12        2        1  1.000000       1.000000\n",
      "11        2        1  1.000000       1.000000\n",
      "10        2        1  1.000000       1.000000\n",
      "8         2        1  1.000000       1.000000\n",
      "17        2        1  1.000000       1.000000\n",
      "\n",
      "\n",
      "Sentences in each CC:\n",
      "\n",
      "CC: 64 nodes, 2016 edges, 1.000 cohesion\n",
      "['famill']\n",
      "['famill']\n",
      "['famill']\n",
      "['famill']\n",
      "['famill']\n",
      "['famill']\n",
      "['famill']\n",
      "['famill']\n",
      "['famill']\n",
      "['famill']\n",
      "['famill']\n",
      "['famill']\n",
      "['famill']\n",
      "['famill']\n",
      "['famill']\n",
      "['famill']\n",
      "['famill']\n",
      "['famill']\n",
      "['famill']\n",
      "['famill']\n",
      "['famill']\n",
      "['famill']\n",
      "['famill']\n",
      "['famill']\n",
      "['famill']\n",
      "['famill']\n",
      "['famill']\n",
      "['famill']\n",
      "['famill']\n",
      "['famill']\n",
      "['famill']\n",
      "['famill']\n",
      "['famill']\n",
      "['famill']\n",
      "['famill']\n",
      "['famill']\n",
      "['famill']\n",
      "['famill']\n",
      "['famill']\n",
      "['famill']\n",
      "['famill']\n",
      "['famill']\n",
      "['famill']\n",
      "['famill']\n",
      "['famill']\n",
      "['famill']\n",
      "['famill']\n",
      "['famill']\n",
      "['famill']\n",
      "['famill']\n",
      "['famill', 'cursus', 'educ']\n",
      "['famill']\n",
      "['famill']\n",
      "['famill']\n",
      "['famill']\n",
      "['famill']\n",
      "['famill']\n",
      "['famill']\n",
      "['famill']\n",
      "['famill']\n",
      "['famill']\n",
      "['famill']\n",
      "['famill']\n",
      "['famill']\n",
      "\n",
      "CC: 15 nodes, 105 edges, 1.000 cohesion\n",
      "['rien']\n",
      "['rien']\n",
      "['rien']\n",
      "['rien']\n",
      "['rien']\n",
      "['rien', 'rien']\n",
      "['rien']\n",
      "['rien']\n",
      "['rien']\n",
      "['rien']\n",
      "['rien']\n",
      "['rien']\n",
      "['rien']\n",
      "['rien']\n",
      "['rien']\n",
      "\n",
      "CC: 9 nodes, 36 edges, 1.000 cohesion\n",
      "['bon', 'salair']\n",
      "['bon', 'salair']\n",
      "['bon', 'salair', 'sert', 'assur', 'bon', 'vie']\n",
      "['bon', 'salair']\n",
      "['bon', 'salair']\n",
      "['bon', 'salair']\n",
      "['bon', 'salair']\n",
      "['bon', 'salair']\n",
      "['bon', 'salair']\n",
      "\n",
      "CC: 6 nodes, 15 edges, 1.000 cohesion\n",
      "['amis', 'famill']\n",
      "['famill', 'amis']\n",
      "['famill', 'amis']\n",
      "['famill', 'amis']\n",
      "['famill', 'amis']\n",
      "['amis', 'famill']\n",
      "\n",
      "CC: 4 nodes, 6 edges, 1.000 cohesion\n",
      "['étud']\n",
      "['étud']\n",
      "['étud']\n",
      "['étud']\n",
      "\n",
      "CC: 4 nodes, 6 edges, 1.000 cohesion\n",
      "['parent', 'proch']\n",
      "['parent']\n",
      "['parent']\n",
      "['parent']\n",
      "\n",
      "CC: 3 nodes, 2 edges, 0.667 cohesion\n",
      "['étud', 'famill', 'entourag']\n",
      "['famill', 'entourag']\n",
      "['étud', 'famill']\n",
      "\n",
      "CC: 3 nodes, 3 edges, 1.000 cohesion\n",
      "['salair', 'motiv', 'bon', 'condit', 'travail']\n",
      "['bon', 'condit', 'travail']\n",
      "['bon', 'condit', 'travail']\n",
      "\n",
      "CC: 2 nodes, 1 edges, 1.000 cohesion\n",
      "['mental', 'changent']\n",
      "['mental']\n",
      "\n",
      "CC: 2 nodes, 1 edges, 1.000 cohesion\n",
      "['qualit', 'vie']\n",
      "['qualit', 'vie', 'exist']\n",
      "\n",
      "CC: 2 nodes, 1 edges, 1.000 cohesion\n",
      "['espoir']\n",
      "['espoir']\n",
      "\n",
      "CC: 2 nodes, 1 edges, 1.000 cohesion\n",
      "['travail']\n",
      "['travail']\n",
      "\n",
      "CC: 2 nodes, 1 edges, 1.000 cohesion\n",
      "['climat']\n",
      "['climat']\n",
      "\n",
      "CC: 2 nodes, 1 edges, 1.000 cohesion\n",
      "['travaill']\n",
      "['travaill']\n",
      "\n",
      "CC: 2 nodes, 1 edges, 1.000 cohesion\n",
      "['family', 'mayb']\n",
      "['family']\n",
      "\n",
      "CC: 2 nodes, 1 edges, 1.000 cohesion\n",
      "['bon', 'opportun']\n",
      "['bon', 'opportun']\n",
      "\n",
      "CC: 2 nodes, 1 edges, 1.000 cohesion\n",
      "['bon', 'travail']\n",
      "['bon', 'travail']\n",
      "\n",
      "CC: 2 nodes, 1 edges, 1.000 cohesion\n",
      "['salair']\n",
      "['salair']\n",
      "\n",
      "Question  3\n",
      "\n",
      "Graph size: nodes 99, edges 789\n",
      "\n",
      "Number of connected components: 17\n",
      "Distribution of CC sizes:\n",
      "2     9\n",
      "4     3\n",
      "30    1\n",
      "25    1\n",
      "6     1\n",
      "5     1\n",
      "3     1\n",
      "dtype: int64\n",
      "\n",
      "Cohesion analysis of the CCs:\n",
      "    n_nodes  n_edges  cohesion  median_weight\n",
      "0        30      435  1.000000       1.000000\n",
      "1        25      300  1.000000       1.000000\n",
      "2         6       15  1.000000       1.000000\n",
      "3         5       10  1.000000       1.000000\n",
      "4         4        6  1.000000       1.000000\n",
      "5         4        6  1.000000       0.875000\n",
      "6         4        6  1.000000       1.000000\n",
      "7         3        2  0.666667       0.750000\n",
      "12        2        1  1.000000       1.000000\n",
      "15        2        1  1.000000       1.000000\n",
      "14        2        1  1.000000       1.000000\n",
      "13        2        1  1.000000       1.000000\n",
      "8         2        1  1.000000       1.000000\n",
      "11        2        1  1.000000       0.666667\n",
      "10        2        1  1.000000       1.000000\n",
      "9         2        1  1.000000       0.666667\n",
      "16        2        1  1.000000       0.750000\n",
      "\n",
      "\n",
      "Sentences in each CC:\n",
      "\n",
      "CC: 30 nodes, 435 edges, 1.000 cohesion\n",
      "['rien']\n",
      "['rien']\n",
      "['rien']\n",
      "['rien']\n",
      "['rien']\n",
      "['rien']\n",
      "['rien']\n",
      "['rien', 'moment']\n",
      "['moment', 'rien']\n",
      "['rien']\n",
      "['rien']\n",
      "['rien']\n",
      "['rien']\n",
      "['rien']\n",
      "['rien']\n",
      "['rien']\n",
      "['rien']\n",
      "['rien']\n",
      "['rien']\n",
      "['rien']\n",
      "['rien']\n",
      "['rien']\n",
      "['rien']\n",
      "['rien']\n",
      "['pratiqu', 'rien']\n",
      "['rien']\n",
      "['rien']\n",
      "['rien']\n",
      "['rien']\n",
      "['rien']\n",
      "\n",
      "CC: 25 nodes, 300 edges, 1.000 cohesion\n",
      "['tourism']\n",
      "['tourism']\n",
      "['tourism']\n",
      "['tourism']\n",
      "['tourism']\n",
      "['tourism']\n",
      "['tourism']\n",
      "['tourism']\n",
      "['tourism']\n",
      "['tourism']\n",
      "['tourism']\n",
      "['tourism']\n",
      "['tourism']\n",
      "['tourism']\n",
      "['tourism']\n",
      "['tourism']\n",
      "['tourism']\n",
      "['tourism']\n",
      "['tourism']\n",
      "['tourism']\n",
      "['tourism']\n",
      "['tourism']\n",
      "['tourism']\n",
      "['tourism']\n",
      "['tourism']\n",
      "\n",
      "CC: 6 nodes, 15 edges, 1.000 cohesion\n",
      "['climat']\n",
      "['climat', 'low', 'budget']\n",
      "['climat']\n",
      "['climat']\n",
      "['climat']\n",
      "['plag', 'climat']\n",
      "\n",
      "CC: 5 nodes, 10 edges, 1.000 cohesion\n",
      "['main', 'oeuvr', 'pas', 'cher', 'très', 'professi']\n",
      "['main', 'oeuvr', 'pas', 'cher']\n",
      "['main', 'oeuvr', 'pas', 'cher']\n",
      "['main', 'oeuvr', 'pas', 'cher']\n",
      "['main', 'oeuvr', 'pas', 'cher']\n",
      "\n",
      "CC: 4 nodes, 6 edges, 1.000 cohesion\n",
      "['soleil']\n",
      "['soleil']\n",
      "['soleil']\n",
      "['soleil']\n",
      "\n",
      "CC: 4 nodes, 6 edges, 1.000 cohesion\n",
      "['niveau', 'vie', 'faibl']\n",
      "['niveau', 'vie']\n",
      "['niveau', 'vie']\n",
      "['niveau', 'vie']\n",
      "\n",
      "CC: 4 nodes, 6 edges, 1.000 cohesion\n",
      "['sais', 'pas']\n",
      "['sais', 'pas']\n",
      "['sais', 'pas']\n",
      "['sais', 'pas']\n",
      "\n",
      "CC: 3 nodes, 2 edges, 0.667 cohesion\n",
      "['cultur', 'sit', 'tourist', 'bas', 'prix']\n",
      "['bas', 'prix']\n",
      "['beau', 'endroit', 'bas', 'prix']\n",
      "\n",
      "CC: 2 nodes, 1 edges, 1.000 cohesion\n",
      "['sécur']\n",
      "['sécur']\n",
      "\n",
      "CC: 2 nodes, 1 edges, 1.000 cohesion\n",
      "['main', 'œuvr', 'pas', 'cher', 'tunis']\n",
      "['main', 'œuvr', 'pas', 'cher', 'avantag', 'fiscal']\n",
      "\n",
      "CC: 2 nodes, 1 edges, 1.000 cohesion\n",
      "['salair', 'euros']\n",
      "['salair']\n",
      "\n",
      "CC: 2 nodes, 1 edges, 1.000 cohesion\n",
      "['climat', 'pays', 'fill', 'lieux', 'pays']\n",
      "['beaut', 'pays', 'climat', 'auss']\n",
      "\n",
      "CC: 2 nodes, 1 edges, 1.000 cohesion\n",
      "['invest']\n",
      "['invest']\n",
      "\n",
      "CC: 2 nodes, 1 edges, 1.000 cohesion\n",
      "['dégrad', 'dinar', 'tunis']\n",
      "['réduct', 'dinar', 'tunis']\n",
      "\n",
      "CC: 2 nodes, 1 edges, 1.000 cohesion\n",
      "['chut', 'dinar']\n",
      "['chut', 'dinar']\n",
      "\n",
      "CC: 2 nodes, 1 edges, 1.000 cohesion\n",
      "['respect']\n",
      "['respect']\n",
      "\n",
      "CC: 2 nodes, 1 edges, 1.000 cohesion\n",
      "['écosyste', 'main', 'oeuvr']\n",
      "['main', 'oeuvr']\n",
      "\n",
      "Question  4\n",
      "\n",
      "Graph size: nodes 76, edges 123\n",
      "\n",
      "Number of connected components: 20\n",
      "Distribution of CC sizes:\n",
      "2    7\n",
      "5    5\n",
      "3    4\n",
      "6    2\n",
      "9    1\n",
      "4    1\n",
      "dtype: int64\n",
      "\n",
      "Cohesion analysis of the CCs:\n",
      "    n_nodes  n_edges  cohesion  median_weight\n",
      "0         9       22  0.611111       0.750000\n",
      "2         6       15  1.000000       1.000000\n",
      "1         6       15  1.000000       1.000000\n",
      "3         5       10  1.000000       1.000000\n",
      "4         5       10  1.000000       1.000000\n",
      "5         5       10  1.000000       1.000000\n",
      "6         5       10  1.000000       1.000000\n",
      "7         5        6  0.600000       0.750000\n",
      "8         4        6  1.000000       0.875000\n",
      "11        3        3  1.000000       1.000000\n",
      "12        3        3  1.000000       1.000000\n",
      "10        3        3  1.000000       1.000000\n",
      "9         3        3  1.000000       1.000000\n",
      "13        2        1  1.000000       0.625000\n",
      "14        2        1  1.000000       1.000000\n",
      "15        2        1  1.000000       0.666667\n",
      "16        2        1  1.000000       0.625000\n",
      "17        2        1  1.000000       1.000000\n",
      "18        2        1  1.000000       0.750000\n",
      "19        2        1  1.000000       0.714286\n",
      "\n",
      "\n",
      "Sentences in each CC:\n",
      "\n",
      "CC: 9 nodes, 22 edges, 0.611 cohesion\n",
      "['mode', 'vie']\n",
      "['mode', 'vie', 'quotidie']\n",
      "['salair', 'mode', 'vie']\n",
      "['mode', 'vie']\n",
      "['expérien', 'mode', 'vie']\n",
      "['travail', 'mode', 'vie', 'vie', 'luxe']\n",
      "['mental', 'mode', 'vie']\n",
      "['mode', 'vie']\n",
      "['salair', 'mode', 'vie']\n",
      "\n",
      "CC: 6 nodes, 15 edges, 1.000 cohesion\n",
      "['job', 'salair']\n",
      "['salair']\n",
      "['salair', 'tent']\n",
      "['salair']\n",
      "['salair']\n",
      "['salair']\n",
      "\n",
      "CC: 6 nodes, 15 edges, 1.000 cohesion\n",
      "['travail']\n",
      "['travail']\n",
      "['travail']\n",
      "['contrat', 'travail']\n",
      "['travail']\n",
      "['travail']\n",
      "\n",
      "CC: 5 nodes, 10 edges, 1.000 cohesion\n",
      "['argent']\n",
      "['argent']\n",
      "['argent']\n",
      "['argent']\n",
      "['argent']\n",
      "\n",
      "CC: 5 nodes, 10 edges, 1.000 cohesion\n",
      "['tout']\n",
      "['tout']\n",
      "['tout']\n",
      "['tout']\n",
      "['tout']\n",
      "\n",
      "CC: 5 nodes, 10 edges, 1.000 cohesion\n",
      "['qualit', 'vie']\n",
      "['qualit', 'vie']\n",
      "['qualit', 'vie']\n",
      "['qualit', 'vie']\n",
      "['qualit', 'vie', 'expérien']\n",
      "\n",
      "CC: 5 nodes, 10 edges, 1.000 cohesion\n",
      "['travaill']\n",
      "['travaill']\n",
      "['travaill']\n",
      "['travaill']\n",
      "['travaill']\n",
      "\n",
      "CC: 5 nodes, 6 edges, 0.600 cohesion\n",
      "['niveau', 'vie']\n",
      "['ambit', 'niveau', 'vie']\n",
      "['niveau', 'vie']\n",
      "['salair', 'niveau', 'vie']\n",
      "['niveau', 'vie', 'salair']\n",
      "\n",
      "CC: 4 nodes, 6 edges, 1.000 cohesion\n",
      "['condit', 'vie', 'favor']\n",
      "['condit', 'vie']\n",
      "['condit', 'vie']\n",
      "['condit', 'vie']\n",
      "\n",
      "CC: 3 nodes, 3 edges, 1.000 cohesion\n",
      "['opportun', 'travail']\n",
      "['opportun', 'travail']\n",
      "['opportun', 'travail', 'multinat']\n",
      "\n",
      "CC: 3 nodes, 3 edges, 1.000 cohesion\n",
      "['expérien']\n",
      "['expérien']\n",
      "['expérien']\n",
      "\n",
      "CC: 3 nodes, 3 edges, 1.000 cohesion\n",
      "['contrat', 'étud']\n",
      "['étud']\n",
      "['étud']\n",
      "\n",
      "CC: 3 nodes, 3 edges, 1.000 cohesion\n",
      "['libert']\n",
      "['libert']\n",
      "['libert']\n",
      "\n",
      "CC: 2 nodes, 1 edges, 1.000 cohesion\n",
      "['espoir', 'meilleur', 'qualit', 'vie']\n",
      "['meilleur', 'qualit', 'vie', 'sécur']\n",
      "\n",
      "CC: 2 nodes, 1 edges, 1.000 cohesion\n",
      "['salair', 'motiv']\n",
      "['salair', 'motiv']\n",
      "\n",
      "CC: 2 nodes, 1 edges, 1.000 cohesion\n",
      "['argent', 'dignit']\n",
      "['dignit', 'libert', 'argent']\n",
      "\n",
      "CC: 2 nodes, 1 edges, 1.000 cohesion\n",
      "['niveau', 'vie', 'meilleur', 'salair', 'meilleur', 'voyag']\n",
      "['niveau', 'vie', 'meilleur']\n",
      "\n",
      "CC: 2 nodes, 1 edges, 1.000 cohesion\n",
      "['meilleur', 'opportun']\n",
      "['meilleur', 'opportun']\n",
      "\n",
      "CC: 2 nodes, 1 edges, 1.000 cohesion\n",
      "['manqu', 'moyen', 'emploi']\n",
      "['manqu', 'moyen']\n",
      "\n",
      "CC: 2 nodes, 1 edges, 1.000 cohesion\n",
      "['meilleur', 'condit', 'vie']\n",
      "['meilleur', 'condit', 'vie', 'vie', 'social', 'securit', 'etud', 'reconnu']\n",
      "\n",
      "Question  5\n",
      "\n",
      "Graph size: nodes 93, edges 344\n",
      "\n",
      "Number of connected components: 20\n",
      "Distribution of CC sizes:\n",
      "2     6\n",
      "3     5\n",
      "5     3\n",
      "6     2\n",
      "4     2\n",
      "21    1\n",
      "10    1\n",
      "dtype: int64\n",
      "\n",
      "Cohesion analysis of the CCs:\n",
      "    n_nodes  n_edges  cohesion  median_weight\n",
      "0        21      210  1.000000       1.000000\n",
      "1        10       45  1.000000       1.000000\n",
      "2         6       15  1.000000       1.000000\n",
      "3         6       15  1.000000       1.000000\n",
      "4         5       10  1.000000       1.000000\n",
      "5         5       10  1.000000       1.000000\n",
      "6         5       10  1.000000       1.000000\n",
      "7         4        6  1.000000       1.000000\n",
      "8         4        4  0.666667       0.750000\n",
      "12        3        2  0.666667       0.750000\n",
      "13        3        2  0.666667       0.708333\n",
      "10        3        3  1.000000       1.000000\n",
      "11        3        3  1.000000       0.714286\n",
      "9         3        3  1.000000       1.000000\n",
      "14        2        1  1.000000       1.000000\n",
      "15        2        1  1.000000       1.000000\n",
      "16        2        1  1.000000       0.666667\n",
      "17        2        1  1.000000       1.000000\n",
      "18        2        1  1.000000       0.666667\n",
      "19        2        1  1.000000       1.000000\n"
     ]
    },
    {
     "name": "stdout",
     "output_type": "stream",
     "text": [
      "\n",
      "\n",
      "Sentences in each CC:\n",
      "\n",
      "CC: 21 nodes, 210 edges, 1.000 cohesion\n",
      "['mental']\n",
      "['mental']\n",
      "['mental']\n",
      "['mental']\n",
      "['mental']\n",
      "['mental']\n",
      "['mental']\n",
      "['mental']\n",
      "['mental']\n",
      "['mental']\n",
      "['mental']\n",
      "['mental']\n",
      "['mental', 'popul']\n",
      "['mental']\n",
      "['mental']\n",
      "['mental']\n",
      "['mental']\n",
      "['mental']\n",
      "['mental']\n",
      "['mental']\n",
      "['mental']\n",
      "\n",
      "CC: 10 nodes, 45 edges, 1.000 cohesion\n",
      "['empath', 'respect']\n",
      "['respect']\n",
      "['respect']\n",
      "['respect']\n",
      "['respect']\n",
      "['respect']\n",
      "['respect', 'paix', 'generosi']\n",
      "['respect']\n",
      "['respect']\n",
      "['respect']\n",
      "\n",
      "CC: 6 nodes, 15 edges, 1.000 cohesion\n",
      "['niveau', 'vie']\n",
      "['niveau', 'vie']\n",
      "['niveau', 'vie', 'mieux']\n",
      "['niveau', 'vie']\n",
      "['niveau', 'vie', 'médiocr']\n",
      "['niveau', 'vie']\n",
      "\n",
      "CC: 6 nodes, 15 edges, 1.000 cohesion\n",
      "['qualit', 'vie']\n",
      "['qualit', 'vie']\n",
      "['qualit', 'vie']\n",
      "['libert', 'qualit', 'vie']\n",
      "['qualit', 'vie']\n",
      "['qualit', 'vie']\n",
      "\n",
      "CC: 5 nodes, 10 edges, 1.000 cohesion\n",
      "['toler']\n",
      "['toler']\n",
      "['toler']\n",
      "['toler']\n",
      "['toler']\n",
      "\n",
      "CC: 5 nodes, 10 edges, 1.000 cohesion\n",
      "['cosmopol', 'ouvertur', 'esprit', 'progress']\n",
      "['ouvertur', 'esprit']\n",
      "['ouvertur', 'esprit']\n",
      "['ouvertur', 'esprit', 'travaill', 'dur']\n",
      "['ouvertur', 'esprit']\n",
      "\n",
      "CC: 5 nodes, 10 edges, 1.000 cohesion\n",
      "['sais', 'pas']\n",
      "['sais', 'pas']\n",
      "['sais', 'pas']\n",
      "['sais', 'pas']\n",
      "['sais', 'pas']\n",
      "\n",
      "CC: 4 nodes, 6 edges, 1.000 cohesion\n",
      "['rien']\n",
      "['rien']\n",
      "['rien']\n",
      "['rien']\n",
      "\n",
      "CC: 4 nodes, 4 edges, 0.667 cohesion\n",
      "['plus', 'libert', 'étrang']\n",
      "['plus', 'libert']\n",
      "['plus', 'libert']\n",
      "['plus', 'racism', 'étrang', 'auss', 'plus', 'libert']\n",
      "\n",
      "CC: 3 nodes, 3 edges, 1.000 cohesion\n",
      "['famill']\n",
      "['famill']\n",
      "['séloign', 'famill']\n",
      "\n",
      "CC: 3 nodes, 3 edges, 1.000 cohesion\n",
      "['incompar']\n",
      "['incompar']\n",
      "['incompar']\n",
      "\n",
      "CC: 3 nodes, 3 edges, 1.000 cohesion\n",
      "['mental', 'niveau', 'vie']\n",
      "['mental', 'niveau', 'vie']\n",
      "['mental', 'niveau', 'vie', 'mode', 'vie']\n",
      "\n",
      "CC: 3 nodes, 2 edges, 0.667 cohesion\n",
      "['meilleur', 'mode', 'niveau', 'vie', 'étrang']\n",
      "['meilleur', 'niveau', 'vie', 'étrang']\n",
      "['salair', 'étrang', 'meilleur', 'niveau', 'vie']\n",
      "\n",
      "CC: 3 nodes, 2 edges, 0.667 cohesion\n",
      "['mental', 'mode', 'vie']\n",
      "['mode', 'vie']\n",
      "['mode', 'vie', 'différen', 'mental', 'différen']\n",
      "\n",
      "CC: 2 nodes, 1 edges, 1.000 cohesion\n",
      "['sécur']\n",
      "['sécur', 'transpar']\n",
      "\n",
      "CC: 2 nodes, 1 edges, 1.000 cohesion\n",
      "['tout', 'dépend', 'veut', 'dire', 'étrang']\n",
      "['tout', 'dépend', 'veut', 'dire', 'étrang']\n",
      "\n",
      "CC: 2 nodes, 1 edges, 1.000 cohesion\n",
      "['respect', 'dignit', 'libert']\n",
      "['respect', 'dignit']\n",
      "\n",
      "CC: 2 nodes, 1 edges, 1.000 cohesion\n",
      "['mental', 'respect']\n",
      "['mental', 'respect']\n",
      "\n",
      "CC: 2 nodes, 1 edges, 1.000 cohesion\n",
      "['mental', 'différen']\n",
      "['différen', 'mental']\n",
      "\n",
      "CC: 2 nodes, 1 edges, 1.000 cohesion\n",
      "['cultur']\n",
      "['cultur']\n",
      "\n",
      "Question  6\n",
      "\n",
      "Graph size: nodes 67, edges 95\n",
      "\n",
      "Number of connected components: 23\n",
      "Distribution of CC sizes:\n",
      "2    15\n",
      "3     4\n",
      "6     2\n",
      "8     1\n",
      "5     1\n",
      "dtype: int64\n",
      "\n",
      "Cohesion analysis of the CCs:\n",
      "    n_nodes  n_edges  cohesion  median_weight\n",
      "0         8       28       1.0       1.000000\n",
      "2         6       15       1.0       1.000000\n",
      "1         6       15       1.0       1.000000\n",
      "3         5       10       1.0       1.000000\n",
      "4         3        3       1.0       1.000000\n",
      "5         3        3       1.0       0.833333\n",
      "6         3        3       1.0       1.000000\n",
      "7         3        3       1.0       0.750000\n",
      "15        2        1       1.0       0.666667\n",
      "21        2        1       1.0       0.750000\n",
      "20        2        1       1.0       1.000000\n",
      "19        2        1       1.0       1.000000\n",
      "18        2        1       1.0       1.000000\n",
      "17        2        1       1.0       1.000000\n",
      "16        2        1       1.0       1.000000\n",
      "11        2        1       1.0       1.000000\n",
      "14        2        1       1.0       1.000000\n",
      "13        2        1       1.0       1.000000\n",
      "12        2        1       1.0       0.666667\n",
      "10        2        1       1.0       1.000000\n",
      "9         2        1       1.0       1.000000\n",
      "8         2        1       1.0       0.625000\n",
      "22        2        1       1.0       1.000000\n",
      "\n",
      "\n",
      "Sentences in each CC:\n",
      "\n",
      "CC: 8 nodes, 28 edges, 1.000 cohesion\n",
      "['professi']\n",
      "['professi']\n",
      "['professi']\n",
      "['amateur', 'professi']\n",
      "['professi']\n",
      "['professi']\n",
      "['professi']\n",
      "['professi']\n",
      "\n",
      "CC: 6 nodes, 15 edges, 1.000 cohesion\n",
      "['salair', 'minimum']\n",
      "['salair']\n",
      "['salair']\n",
      "['salair']\n",
      "['salair']\n",
      "['salair']\n",
      "\n",
      "CC: 6 nodes, 15 edges, 1.000 cohesion\n",
      "['sais', 'pas']\n",
      "['sais', 'pas']\n",
      "['sais', 'pas']\n",
      "['sais', 'pas']\n",
      "['sais', 'pas']\n",
      "['sais', 'pas']\n",
      "\n",
      "CC: 5 nodes, 10 edges, 1.000 cohesion\n",
      "['respect']\n",
      "['respect']\n",
      "['respect']\n",
      "['respect']\n",
      "['respect']\n",
      "\n",
      "CC: 3 nodes, 3 edges, 1.000 cohesion\n",
      "['dtermin', 'motiv']\n",
      "['motiv']\n",
      "['motiv']\n",
      "\n",
      "CC: 3 nodes, 3 edges, 1.000 cohesion\n",
      "['salair', 'environ', 'travail']\n",
      "['expérien', 'salair', 'environ', 'travail']\n",
      "['salair', 'environ', 'travail']\n",
      "\n",
      "CC: 3 nodes, 3 edges, 1.000 cohesion\n",
      "['incompar']\n",
      "['incompar']\n",
      "['incompar']\n",
      "\n",
      "CC: 3 nodes, 3 edges, 1.000 cohesion\n",
      "['conscien', 'professi']\n",
      "['ponctual', 'conscien', 'professi']\n",
      "['conscien', 'professi']\n",
      "\n",
      "CC: 2 nodes, 1 edges, 1.000 cohesion\n",
      "['étrang', 'aiment', 'plus', 'plus', 'sérieux', 'travail']\n",
      "['pens', 'étrang', 'salar', 'plus', 'sérieux', 'travail', 'rigour']\n",
      "\n",
      "CC: 2 nodes, 1 edges, 1.000 cohesion\n",
      "['sérieux', 'professi']\n",
      "['sérieux', 'professi']\n",
      "\n",
      "CC: 2 nodes, 1 edges, 1.000 cohesion\n",
      "['plus', 'opportun', 'étrang']\n",
      "['plus', 'opportun', 'étrang']\n",
      "\n",
      "CC: 2 nodes, 1 edges, 1.000 cohesion\n",
      "['opportun']\n",
      "['opportun']\n",
      "\n",
      "CC: 2 nodes, 1 edges, 1.000 cohesion\n",
      "['nombr', 'opportun']\n",
      "['nombr', 'opportun', 'grand']\n",
      "\n",
      "CC: 2 nodes, 1 edges, 1.000 cohesion\n",
      "['rien']\n",
      "['rien']\n",
      "\n",
      "CC: 2 nodes, 1 edges, 1.000 cohesion\n",
      "['compéten']\n",
      "['compéten']\n",
      "\n",
      "CC: 2 nodes, 1 edges, 1.000 cohesion\n",
      "['valeur', 'travail']\n",
      "['assidu', 'valeur', 'travail']\n",
      "\n",
      "CC: 2 nodes, 1 edges, 1.000 cohesion\n",
      "['plus', 'opportun']\n",
      "['plus', 'opportun']\n",
      "\n",
      "CC: 2 nodes, 1 edges, 1.000 cohesion\n",
      "['discipli']\n",
      "['discipli']\n",
      "\n",
      "CC: 2 nodes, 1 edges, 1.000 cohesion\n",
      "['indiqu', 'product', 'quas', 'absent', 'tunis']\n",
      "['tunis', 'fainé']\n",
      "\n",
      "CC: 2 nodes, 1 edges, 1.000 cohesion\n",
      "['champ', 'plus', 'larg']\n",
      "['plus', 'pro']\n",
      "\n",
      "CC: 2 nodes, 1 edges, 1.000 cohesion\n",
      "['salair', 'condit', 'travail']\n",
      "['salair', 'condit', 'travail']\n",
      "\n",
      "CC: 2 nodes, 1 edges, 1.000 cohesion\n",
      "['march', 'travail']\n",
      "['demand', 'continu', 'march', 'travail']\n",
      "\n",
      "CC: 2 nodes, 1 edges, 1.000 cohesion\n",
      "['option', 'carri']\n",
      "['carri']\n",
      "\n"
     ]
    },
    {
     "data": {
      "image/png": "[encoded data removed]",
      "text/plain": [
       "<matplotlib.figure.Figure at 0x2ba6c80ce48>"
      ]
     },
     "metadata": {},
     "output_type": "display_data"
    },
    {
     "data": {
      "image/png": "[encoded data removed]",
      "text/plain": [
       "<matplotlib.figure.Figure at 0x2ba6d205160>"
      ]
     },
     "metadata": {},
     "output_type": "display_data"
    },
    {
     "data": {
      "image/png": "[encoded data removed]",
      "text/plain": [
       "<matplotlib.figure.Figure at 0x2ba6d3b7668>"
      ]
     },
     "metadata": {},
     "output_type": "display_data"
    },
    {
     "data": {
      "image/png": "[encoded data removed]",
      "text/plain": [
       "<matplotlib.figure.Figure at 0x2ba6d3a3320>"
      ]
     },
     "metadata": {},
     "output_type": "display_data"
    },
    {
     "data": {
      "image/png": "[encoded data removed]",
      "text/plain": [
       "<matplotlib.figure.Figure at 0x2ba6e44bcf8>"
      ]
     },
     "metadata": {},
     "output_type": "display_data"
    },
    {
     "data": {
      "image/png": "[encoded data removed]",
      "text/plain": [
       "<matplotlib.figure.Figure at 0x2ba6d3a3e48>"
      ]
     },
     "metadata": {},
     "output_type": "display_data"
    },
    {
     "data": {
      "image/png": "[encoded data removed]",
      "text/plain": [
       "<matplotlib.figure.Figure at 0x2ba6e514780>"
      ]
     },
     "metadata": {},
     "output_type": "display_data"
    },
    {
     "data": {
      "image/png": "[encoded data removed]",
      "text/plain": [
       "<matplotlib.figure.Figure at 0x2ba6e554f98>"
      ]
     },
     "metadata": {},
     "output_type": "display_data"
    },
    {
     "data": {
      "image/png": "[encoded data removed]",
      "text/plain": [
       "<matplotlib.figure.Figure at 0x2ba6c4f7f28>"
      ]
     },
     "metadata": {},
     "output_type": "display_data"
    },
    {
     "data": {
      "image/png": "[encoded data removed]",
      "text/plain": [
       "<matplotlib.figure.Figure at 0x2ba69ff9470>"
      ]
     },
     "metadata": {},
     "output_type": "display_data"
    }
   ],
   "source": [
    "for j in question_labels:\n",
    "    print(\"Question \", j)\n",
    "    print(\"\")\n",
    "\n",
    "    idx = np.array(corpus_sent_df.qlabel).ravel() == j\n",
    "    Q_sentences = corpus_sent_df.tokenized_sent[idx]\n",
    "    Q_tf_dtm = tf_bow_dtm[idx,:]\n",
    "    #Q_tfidf_dtm = tfidf_bow_dtm[idx,:]\n",
    "\n",
    "    find_similar_sents1(Q_tf_dtm,0.4,True,Q_sentences)\n",
    "\n",
    "    #word_scores_df,topic_words = word_scoring_tfidf(Q_tfidf_dtm,tf_bow_vocab)\n",
    "    #find_similar_sents(Q_sentences,Q_tf_dtm,tf_bow_vocab,word_scores_df[topic_words], thresh=0.1)"
   ]
  },
  {
   "cell_type": "code",
   "execution_count": 176,
   "metadata": {},
   "outputs": [
    {
     "name": "stdout",
     "output_type": "stream",
     "text": [
      "0\n"
     ]
    }
   ],
   "source": [
    "CC_labels_vec,CC_prop_df = find_similar_sents1(Q_tf_dtm,0.4)\n",
    "print(np.sum(np.isnan(CC_labels_vec)))\n",
    "assert(np.any(np.isnan(CC_labels_vec)) == False)"
   ]
  },
  {
   "cell_type": "markdown",
   "metadata": {},
   "source": [
    "*Observations & conclusions*\n",
    "- Documents that contain only 1 or 2 vocabulary terms : the terms they contain are actually quite significant/meaningful.\n",
    "- Possible good feature for word scoring: whether the word occurs in *very* short documents."
   ]
  },
  {
   "cell_type": "code",
   "execution_count": 178,
   "metadata": {},
   "outputs": [
    {
     "data": {
      "text/plain": [
       "False"
      ]
     },
     "execution_count": 178,
     "metadata": {},
     "output_type": "execute_result"
    }
   ],
   "source": [
    "'bon salair' in inverse_word_map2_dict_.keys()"
   ]
  },
  {
   "cell_type": "code",
   "execution_count": 179,
   "metadata": {},
   "outputs": [
    {
     "data": {
      "text/plain": [
       "1303"
      ]
     },
     "execution_count": 179,
     "metadata": {},
     "output_type": "execute_result"
    }
   ],
   "source": [
    "len(inverse_word_map2_dict_)"
   ]
  },
  {
   "cell_type": "markdown",
   "metadata": {},
   "source": [
    "### SumBasic Algorithm Implementation\n",
    "Greedy algorithm:\n",
    "- for each topic word,\n",
    "- score documents based on current word scores\n",
    "- select top N documents that contain this word\n",
    "- discount the score or weight of this word so that it has less importance in future selected documents"
   ]
  },
  {
   "cell_type": "markdown",
   "metadata": {},
   "source": [
    "**Question**: currently word scoring is done separately with each question's sub-corpus. Should we do it with the combined corpus instead?"
   ]
  },
  {
   "cell_type": "code",
   "execution_count": 180,
   "metadata": {},
   "outputs": [],
   "source": [
    "# TFIDF-based method: word score = average tfidf weight over all documents in corpus\n",
    "def word_scoring_tfidf(tfidf_dtm,vocab,N=10,thresh=0):\n",
    "    v = np.array(tfidf_dtm.mean(axis=0)).ravel()\n",
    "    word_scores_df = pd.Series(v, index=vocab)\n",
    "\n",
    "    # Set weights of non-topic words to 0\n",
    "    word_scores_df[word_scores_df<thresh] = 0\n",
    "    u = word_scores_df.sort_values(ascending=False, inplace=False)\n",
    "    word_scores_df[u.index[N:len(word_scores_df)]] = 0\n",
    "\n",
    "    topic_words = u.head(N).index.tolist()\n",
    "\n",
    "    assert(np.all(vocab==word_scores_df.index))\n",
    "\n",
    "    return word_scores_df,topic_words"
   ]
  },
  {
   "cell_type": "code",
   "execution_count": 181,
   "metadata": {},
   "outputs": [],
   "source": [
    "# log-likelihood-based method\n",
    "#def word_scoring_lle(tf_dtm):\n"
   ]
  },
  {
   "cell_type": "markdown",
   "metadata": {},
   "source": [
    "**TO DO**: revise the document scoring formula. Currently using (~) average score of topic words in the document."
   ]
  },
  {
   "cell_type": "code",
   "execution_count": 182,
   "metadata": {},
   "outputs": [],
   "source": [
    "#basic method: normalized sum of word scores over all TOPIC words in this doc\n",
    "def doc_scoring(tf_dtm,word_scores_df,thresh=3):\n",
    "    ##Inputs:\n",
    "    #  tf_dtm: DTM containing raw frequency counts of words in documents\n",
    "    #  word_scores_df: a Series indexable by vocab words, where order of words must be same as in DTM    \n",
    "    ##Outputs: list of document scores\n",
    "    ##Pre-conditions: word_scores_df.index == list of vocabulary terms in DTM\n",
    "\n",
    "    #verify pre-conditions\n",
    "    assert(tf_dtm.shape[1] == len(word_scores_df))\n",
    "\n",
    "    doc_scores = []\n",
    "    n = tf_dtm.shape[0]\n",
    "\n",
    "    # iterate over all documents\n",
    "    for i in range(n):\n",
    "        #select the vocab words present in this document\n",
    "        #just select non-zero elements of DTM row corresponding to this doc\n",
    "        idx = np.array((tf_dtm[i,:]>0).todense()).ravel()\n",
    "\n",
    "        #calculate this document's score as a function of its words' scores\n",
    "        doc_score = word_scores_df[idx].sum()\n",
    "\n",
    "        #normalize score\n",
    "        k = np.sum(idx)\n",
    "        #q = k+1\n",
    "        #q = max(thresh,k/2)\n",
    "        q = max(thresh,k/2)\n",
    "        doc_score = doc_score/q\n",
    "\n",
    "        doc_scores.append(doc_score)\n",
    "\n",
    "    assert(len(doc_scores) == n)\n",
    "\n",
    "    return doc_scores"
   ]
  },
  {
   "cell_type": "code",
   "execution_count": 183,
   "metadata": {},
   "outputs": [],
   "source": [
    "def sumbasic(tf_dtm,tfidf_dtm,vocab,thresh1=0,thresh2=3,N1=10,N2=2):\n",
    "\n",
    "    assert(tf_dtm.shape[1] == len(vocab))\n",
    "\n",
    "    word_scores_df,topic_words = word_scoring_tfidf(tfidf_dtm,vocab,N1,thresh1)\n",
    "    a = word_scores_df.min()\n",
    "    b = word_scores_df.max()\n",
    "\n",
    "    #store summary documents and their scores in a dictionary indexed by the document's index in the corpus\n",
    "    summary_docs = defaultdict(float)\n",
    "    vocab_ = np.array(vocab)\n",
    "\n",
    "    for word in topic_words:\n",
    "        # score documents based on current word scores\n",
    "        doc_scores_ = doc_scoring(tf_dtm,word_scores_df,thresh2)\n",
    "        doc_scores_df_ = pd.Series(doc_scores_)\n",
    "\n",
    "        # select top N documents that contain this word\n",
    "        doc_scores_df_.sort_values(ascending=False, inplace=True)\n",
    "        #print(doc_scores_df_.head())\n",
    "\n",
    "        j = np.where(vocab_==word)[0][0]  # index of this word in the vocabulary\n",
    "        k = 0\n",
    "        for i,score in doc_scores_df_.iteritems():\n",
    "            #i = doc_scores_df_.index[ii]\n",
    "            #print(i,score)\n",
    "            if i in summary_docs:\n",
    "                continue\n",
    "            elif tf_dtm[i,j] > 0:\n",
    "                k = k+1\n",
    "                summary_docs[i] = score\n",
    "                if k >= N2:\n",
    "                    break\n",
    "\n",
    "        #adjust/discount this word's score so that it has less importance in future selected documents\n",
    "        #TO DO: revise this discounting formula ...\n",
    "        x = word_scores_df[word]\n",
    "        word_scores_df[word] = x - (x-a)/2\n",
    "\n",
    "    return summary_docs,word_scores_df[topic_words]"
   ]
  },
  {
   "cell_type": "code",
   "execution_count": 184,
   "metadata": {},
   "outputs": [],
   "source": [
    "def sumbasic2(tf_dtm,tfidf_dtm,vocab,thresh1=0,thresh2=3,N1=10,N2=2):\n",
    "\n",
    "    assert(tf_dtm.shape[1] == len(vocab))\n",
    "\n",
    "    # build graph of similar documents so that similar documents are not repeated in the summary\n",
    "    CC_labels_vec,CC_prop_df = find_similar_sents1(Q_tf_dtm,thresh=0.4)\n",
    "\n",
    "    word_scores_df,topic_words = word_scoring_tfidf(tfidf_dtm,vocab,N1,thresh1)\n",
    "    a = word_scores_df.min()\n",
    "    b = word_scores_df.max()\n",
    "\n",
    "    #store summary documents and their scores in a dictionary indexed by the document's CC label\n",
    "    summary_docs = defaultdict(tuple)\n",
    "    vocab_ = np.array(vocab)\n",
    "\n",
    "    for word in topic_words:\n",
    "        # score documents based on current word scores\n",
    "        doc_scores_ = doc_scoring(tf_dtm,word_scores_df,thresh2)\n",
    "        doc_scores_df_ = pd.Series(doc_scores_)\n",
    "\n",
    "        # select top N documents that contain this word\n",
    "        doc_scores_df_.sort_values(ascending=False, inplace=True)\n",
    "        #print(doc_scores_df_.head())\n",
    "\n",
    "        j = np.where(vocab_==word)[0][0]  # index of this word in the vocabulary\n",
    "        k = 0\n",
    "\n",
    "        if False:\n",
    "            # iterate over all documents that contain this word\n",
    "            idx = np.where(tf_dtm[:,j].todense() > 0)[0]  # indices of all documents that contain this word\n",
    "            for i in idx:\n",
    "                cc = CC_labels_vec[i]\n",
    "                score = doc_scores_df_[i]\n",
    "                if (cc not in summary_docs) or (summary_docs[cc][0] < score):\n",
    "                    k = k+1\n",
    "                    summary_docs[cc] = (score,i)\n",
    "                    if k >= N2:\n",
    "                        break\n",
    "        else:\n",
    "            # iterate over documents in decreasing order of score\n",
    "            for i,score in doc_scores_df_.iteritems():\n",
    "                if tf_dtm[i,j] > 0:\n",
    "                    cc = CC_labels_vec[i]\n",
    "                    if (cc not in summary_docs) or (summary_docs[cc][0] < score):\n",
    "                        k = k+1\n",
    "                        summary_docs[cc] = (score,i)\n",
    "                        if k >= N2:\n",
    "                            break\n",
    "\n",
    "        #adjust/discount this word's score so that it has less importance in future selected documents\n",
    "        #TO DO: revise this discounting formula ...\n",
    "        x = word_scores_df[word]\n",
    "        word_scores_df[word] = x - (x-a)/2\n",
    "\n",
    "    return summary_docs,word_scores_df[topic_words]"
   ]
  },
  {
   "cell_type": "markdown",
   "metadata": {},
   "source": [
    "### Apply algorithm on sub-corpus of each question"
   ]
  },
  {
   "cell_type": "code",
   "execution_count": 185,
   "metadata": {},
   "outputs": [],
   "source": [
    "#sumbasic(Q_tf_dtm,Q_tfidf_dtm,tf_bow_vocab)"
   ]
  },
  {
   "cell_type": "code",
   "execution_count": 230,
   "metadata": {
    "scrolled": true
   },
   "outputs": [
    {
     "name": "stdout",
     "output_type": "stream",
     "text": [
      "\u001b[30mSummary of Question 1\n",
      "\n",
      "\u001b[30m269 sentences:\n",
      "\n",
      "\u001b[30mLexical diversity: 3.46\n",
      "\n",
      "\u001b[30mTopic words (in order of importance):\n",
      "\u001b[30m0.615\tfamille\n",
      "\u001b[30m0.386\tbonnes, bonne, bon\n",
      "\u001b[30m0.224\ttravail\n",
      "\u001b[30m0.183\tsalaire\n",
      "\u001b[30m0.167\tbon salair\n",
      "\u001b[30m0.146\trien\n",
      "\u001b[30m0.125\ttunisienne, tunisie\n",
      "\u001b[30m0.115\tconditions\n",
      "\u001b[30m0.103\tpas\n",
      "\u001b[30m0.085\tbon condit\n",
      "\n",
      "\u001b[30mSummary sentences ordered by score (topic words are in red):\n",
      "\n",
      "\u001b[30mun \u001b[31mbon \u001b[31mtravail \u001b[30mavec \u001b[30mune \u001b[31mbonne \u001b[31msalaire \n",
      "\u001b[30mle \u001b[30mfait \u001b[30mque \u001b[30mma \u001b[31mfamille \u001b[30mest \u001b[30men \u001b[31mtunisie \n",
      "\u001b[31mbonne \u001b[31mcondition \u001b[30mde \u001b[31mtravail \n",
      "\u001b[30mdes \u001b[31mconditions \u001b[30mfavorables \u001b[30mde \u001b[30mvie \u001b[30mune \u001b[31mbonne \u001b[30mposte \u001b[30mde \u001b[31mtravail \u001b[30mdans \u001b[30mune \u001b[30mentreprise \u001b[30mavec \u001b[30mun \u001b[31mbon \u001b[31msalaire \n",
      "\u001b[30mun \u001b[31mbon \u001b[31msalaire \u001b[30mmoins \u001b[30mde \u001b[30mtracasserie \u001b[30madministrative \u001b[30men \u001b[30moccurrence \u001b[30mavec \u001b[30mla \u001b[30mpolice \n",
      "\u001b[30mun \u001b[31mbon \u001b[31msalaire \n",
      "\u001b[30mun \u001b[31mbon \u001b[31msalaire \u001b[30mavec \u001b[30mune \u001b[31mbonne \u001b[30mexpérience \u001b[30mprofessionnelle \n",
      "\u001b[30mun \u001b[30memploi \u001b[30moù \u001b[30mles \u001b[31mconditions \u001b[30mde \u001b[31mtravail \u001b[30msont \u001b[30mfavorables \u001b[30met \u001b[30msurtout \u001b[30mun \u001b[31mbon \u001b[31msalaire \u001b[30mqui \u001b[30mcorrespond \u001b[30mà \u001b[30mmon \u001b[30mniveau \u001b[30md \u001b[30métude \u001b[30mmes \u001b[30mcompétences \u001b[30met \u001b[30mmon \u001b[30mposte \n",
      "\u001b[31mrien \n",
      "\u001b[31mrien \u001b[30mdu \u001b[30mtout \n",
      "\u001b[30mma \u001b[31mfamille \u001b[30met \u001b[30mmes \u001b[30mamis \u001b[30mles \u001b[30mpetites \u001b[30msimples \u001b[30mjoies \u001b[30mde \u001b[30mvivre \u001b[30men \u001b[31mtunisie \u001b[30mqu \u001b[30mon \u001b[30mtrouve \u001b[31mpas \u001b[30mailleurs \u001b[30mle \u001b[30msoleil \u001b[30mun \u001b[30mpetit \u001b[30mcafé \u001b[30mla \u001b[30mplage \u001b[30men \u001b[30mété \n",
      "\u001b[30mma \u001b[31mfamille \u001b[30mparce \u001b[30mque \u001b[30mj \u001b[30maime \u001b[31mpas \u001b[30mles \u001b[30mquitter \n",
      "\u001b[30msi \u001b[30mil \u001b[30mya \u001b[30mdes \u001b[31mbonnes \u001b[31mconditions \u001b[30mde \u001b[31mtravail \u001b[30mle \u001b[30msérieux \u001b[30mle \u001b[31msalaire \u001b[30madéquat \u001b[30met \u001b[31mpas \u001b[30mde \u001b[30mdiscrimination \u001b[30menvers \u001b[30mles \u001b[30mfemmes \u001b[30mdans \u001b[30ml \u001b[30menvironnement \u001b[30mde \u001b[31mtravail \n",
      "\u001b[30mle \u001b[30mfait \u001b[30mque \u001b[30mje \u001b[30mveux \u001b[30mfaire \u001b[30mdu \u001b[30mbien \u001b[30mà \u001b[30mmon \u001b[30mpays \u001b[30mgrâce \u001b[30mà \u001b[30mla \u001b[30mconnaissance \u001b[30mque \u001b[30mje \u001b[30msuis \u001b[30men \u001b[30mtrain \u001b[30md \u001b[30mapprendre \u001b[30men \u001b[30mtant \u001b[30mqu \u001b[30métudiant \u001b[31mtunisien \u001b[30men \u001b[30mingénierie \u001b[30met \u001b[30mle \u001b[30mfait \u001b[30mque \u001b[30mje \u001b[30mveux \u001b[30mchanger \u001b[30met \u001b[30mparticiper \u001b[30mà \u001b[30maméliorer \u001b[30mles \u001b[31mconditions \u001b[30mde \u001b[31mtravail \u001b[30mdes \u001b[30mingénieurs \u001b[30mprécieusement \u001b[30mpour \u001b[30mqu \u001b[30mon \u001b[30mpuisse \u001b[30mdonner \u001b[30mle \u001b[30mmaximum \u001b[30mde \u001b[30mnos \u001b[30mperformances \n",
      "\u001b[30mce \u001b[30msont \u001b[30mles \u001b[30mgens \u001b[30mqui \u001b[30mfont \u001b[30mles \u001b[30mlieux \u001b[30mles \u001b[30mlieux \u001b[30mne \u001b[30mfont \u001b[31mpas \u001b[30mles \u001b[30mgens \u001b[30msi \u001b[30mon \u001b[30mprend \u001b[30mun \u001b[30mpays \u001b[30mcomme \u001b[30mle \u001b[30mnorvège \u001b[30mon \u001b[30msubstitut \u001b[30mson \u001b[30mpeuples \u001b[30mpar \u001b[30mles \u001b[31mtunisiens \u001b[30mle \u001b[30mrésultat \u001b[30mn \u001b[30mest \u001b[31mpas \u001b[30mle \u001b[30mnorvège \u001b[30mmais \u001b[30mla \u001b[31mtunisie \u001b[30mconclusion \u001b[30mle \u001b[30mproblème \u001b[30mc \u001b[30mest \u001b[30mles \u001b[31mtunisiens \u001b[30mon \u001b[30mest \u001b[30men \u001b[30mmajorité \u001b[30mgrossiers \u001b[30moisifs \u001b[30met \u001b[30mincultes \n",
      "\n",
      "--------------------------------------\n",
      "\u001b[30mSummary of Question 3\n",
      "\n",
      "\u001b[30m264 sentences:\n",
      "\n",
      "\u001b[30mLexical diversity: 3.59\n",
      "\n",
      "\u001b[30mTopic words (in order of importance):\n",
      "\u001b[30m0.292\ttourisme\n",
      "\u001b[30m0.274\trien\n",
      "\u001b[30m0.252\tclimatiques, climat\n",
      "\u001b[30m0.195\ttunisienne, tunisie\n",
      "\u001b[30m0.189\tmain, mains\n",
      "\u001b[30m0.178\tinvestissement, investisseur, investissent, investir\n",
      "\u001b[30m0.169\tpas\n",
      "\u001b[30m0.164\toeuvre\n",
      "\u001b[30m0.164\tmain oeuvr\n",
      "\u001b[30m0.151\tdinar, dinars\n",
      "\n",
      "\u001b[30mSummary sentences ordered by score (topic words are in red):\n",
      "\n",
      "\u001b[31minvestir \u001b[30men \u001b[31mtunisie \u001b[31mmain \u001b[30md \u001b[31moeuvre \u001b[30mà \u001b[30mbas \u001b[30mcoût \u001b[31mtourisme \u001b[30mà \u001b[30mbas \u001b[30mprix \n",
      "\u001b[31mtourisme \n",
      "\u001b[31mrien \n",
      "\u001b[30mla \u001b[30mplage \u001b[30met \u001b[30mle \u001b[31mclimat \n",
      "\u001b[30mla \u001b[30mbeauté \u001b[30mdu \u001b[30mpays \u001b[30mle \u001b[31mclimat \u001b[30maussi \n",
      "\u001b[30mla \u001b[31mmain \u001b[30md \u001b[30mœuvre \u001b[30mn \u001b[30mest \u001b[31mpas \u001b[30mchère \u001b[30men \u001b[31mtunisie \n",
      "\u001b[30mla \u001b[30mréduction \u001b[30mde \u001b[31mdinar \u001b[31mtunisien \n",
      "\u001b[30mla \u001b[31mmain \u001b[30md \u001b[31moeuvre \u001b[30mqui \u001b[30mn \u001b[30mest \u001b[31mpas \u001b[30mchère \n",
      "\u001b[30ml \u001b[30mecosystème \u001b[30met \u001b[31mmain \u001b[30md \u001b[31moeuvre \n",
      "\u001b[30ml \u001b[31minvestissement \n",
      "\u001b[30mje \u001b[30mne \u001b[30msais \u001b[31mpas \n",
      "\u001b[30mla \u001b[30mchute \u001b[30mdu \u001b[31mdinard \n",
      "\n",
      "--------------------------------------\n",
      "\u001b[30mSummary of Question 4\n",
      "\n",
      "\u001b[30m266 sentences:\n",
      "\n",
      "\u001b[30mLexical diversity: 3.60\n",
      "\n",
      "\u001b[30mTopic words (in order of importance):\n",
      "\u001b[30m0.396\tvie\n",
      "\u001b[30m0.321\tsalaire\n",
      "\u001b[30m0.251\ttravail\n",
      "\u001b[30m0.226\topportunies, opportunities, opportunités\n",
      "\u001b[30m0.203\texpérience\n",
      "\u001b[30m0.200\tmeilleur\n",
      "\u001b[30m0.171\tconditions\n",
      "\u001b[30m0.171\tplus\n",
      "\u001b[30m0.157\tniveau\n",
      "\u001b[30m0.146\tniveau vie\n",
      "\n",
      "\u001b[30mSummary sentences ordered by score (topic words are in red):\n",
      "\n",
      "\u001b[31msalaire \u001b[30met \u001b[31mniveau \u001b[30mde \u001b[31mvie \n",
      "\u001b[30mle \u001b[31mtravail \u001b[30mle \u001b[31msalaire \u001b[30mle \u001b[30mcadre \u001b[30mde \u001b[31mvie \n",
      "\u001b[30mun \u001b[31mniveau \u001b[30mde \u001b[31mvie \u001b[31mmeilleur \u001b[30mun \u001b[31msalaire \u001b[31mmeilleur \u001b[30mvoyager \n",
      "\u001b[31msalaire \u001b[30met \u001b[30mmode \u001b[30mde \u001b[31mvie \n",
      "\u001b[30mdes \u001b[31mopportunités \u001b[30mde \u001b[31mtravail \u001b[30mavec \u001b[30mune \u001b[30mmultinationale \n",
      "\u001b[30mle \u001b[31mtravail \n",
      "\u001b[30mune \u001b[31mmeilleure \u001b[31mopportunité \n",
      "\u001b[30mla \u001b[30mqualité \u001b[30mde \u001b[31mvie \u001b[30ml \u001b[31mexpérience \n",
      "\u001b[30mavoir \u001b[30mune \u001b[31mexperience \n",
      "\u001b[31mmeilleur \u001b[31mcondition \u001b[30mde \u001b[31mvie \n",
      "\u001b[30ml \u001b[30mespoir \u001b[30mpour \u001b[30mune \u001b[31mmeilleure \u001b[30mqualité \u001b[30mde \u001b[31mvie \n",
      "\u001b[30mles \u001b[31mconditions \u001b[30mde \u001b[31mvie \n",
      "\n",
      "--------------------------------------\n",
      "\u001b[30mSummary of Question 5\n",
      "\n",
      "\u001b[30m291 sentences:\n",
      "\n",
      "\u001b[30mLexical diversity: 4.05\n",
      "\n",
      "\u001b[30mTopic words (in order of importance):\n",
      "\u001b[30m0.367\tmentalité, mentale\n",
      "\u001b[30m0.287\ttunisienne, tunisie\n",
      "\u001b[30m0.283\tplus\n",
      "\u001b[30m0.282\trespectable, respectent, respect\n",
      "\u001b[30m0.277\tvie\n",
      "\u001b[30m0.267\tétrangé, étranger\n",
      "\u001b[30m0.184\tniveau\n",
      "\u001b[30m0.156\tniveau vie\n",
      "\u001b[30m0.148\tgens\n",
      "\u001b[30m0.147\tpas\n",
      "\n",
      "\u001b[30mSummary sentences ordered by score (topic words are in red):\n",
      "\n",
      "\u001b[30mla \u001b[31mmentalité \u001b[31mniveau \u001b[30mde \u001b[31mvie \n",
      "\u001b[30mles \u001b[31mtunisiens \u001b[30msont \u001b[31mplus \u001b[30mchaleureux \u001b[30mque \u001b[30mles \u001b[31mgens \u001b[30mà \u001b[31métrangers \n",
      "\u001b[30mtu \u001b[30mas \u001b[31mplus \u001b[30mde \u001b[30mliberté \u001b[30mà \u001b[30ml \u001b[31métranger \n",
      "\u001b[30mla \u001b[31mmentalité \u001b[30mle \u001b[31mrespect \n",
      "\u001b[30ml \u001b[30mempathie \u001b[30met \u001b[30mle \u001b[31mrespect \n",
      "\u001b[30mmeilleur \u001b[31mniveau \u001b[30mde \u001b[31mvie \u001b[30mà \u001b[30ml \u001b[31métranger \n",
      "\u001b[30mle \u001b[31mniveau \u001b[30mde \u001b[31mvie \u001b[30mest \u001b[30mmieux \u001b[30mque \u001b[30mici \n",
      "\u001b[30mtout \u001b[30mdépend \u001b[30mqu \u001b[30mest \u001b[30mce \u001b[30mque \u001b[30mon \u001b[30mveut \u001b[30mdire \u001b[30mpar \u001b[30ml \u001b[31métranger \n",
      "\u001b[30mje \u001b[30mne \u001b[30msais \u001b[31mpas \n",
      "\n",
      "--------------------------------------\n",
      "\u001b[30mSummary of Question 6\n",
      "\n",
      "\u001b[30m291 sentences:\n",
      "\n",
      "\u001b[30mLexical diversity: 4.11\n",
      "\n",
      "\u001b[30mTopic words (in order of importance):\n",
      "\u001b[30m0.404\tplus\n",
      "\u001b[30m0.388\tprofessionnel, professionnellement, professionnelle, professionnalisme\n",
      "\u001b[30m0.383\tétrangé, étranger\n",
      "\u001b[30m0.325\ttravail\n",
      "\u001b[30m0.237\tsalaire\n",
      "\u001b[30m0.217\tpas\n",
      "\u001b[30m0.209\trespectable, respectent, respect\n",
      "\u001b[30m0.199\ttunisienne, tunisie\n",
      "\u001b[30m0.151\topportunies, opportunities, opportunités\n",
      "\u001b[30m0.133\tmotive, motivation, motivant\n",
      "\n",
      "\u001b[30mSummary sentences ordered by score (topic words are in red):\n",
      "\n",
      "\u001b[30mles \u001b[31métrangers \u001b[30msont \u001b[31mplus \u001b[31mprofessionnels \n",
      "\u001b[30ma \u001b[30ml \u001b[31métranger \u001b[30mils \u001b[30mpayent \u001b[31mplus \u001b[30met \u001b[30mils \u001b[30msont \u001b[31mplus \u001b[30msérieux \u001b[30mau \u001b[31mtravail \n",
      "\u001b[30mle \u001b[31mprofesionnalisme \n",
      "\u001b[30mle \u001b[30msérieux \u001b[30mle \u001b[31mprofessionnalisme \n",
      "\u001b[31mplus \u001b[30md \u001b[31mopportunités \u001b[30mà \u001b[30ml \u001b[31métranger \n",
      "\u001b[31msalaires \u001b[30menvironnement \u001b[30mde \u001b[31mtravail \n",
      "\u001b[30mle \u001b[31msalaire \u001b[30mles \u001b[30mconditions \u001b[30mde \u001b[31mtravail \n",
      "\u001b[30mle \u001b[31msalaire \n",
      "\u001b[30mje \u001b[30mne \u001b[30msais \u001b[31mpas \n",
      "\u001b[30mle \u001b[31mrespect \n",
      "\u001b[30ml \u001b[30mindicateur \u001b[30mde \u001b[30mla \u001b[30mproductivité \u001b[30mqui \u001b[30mest \u001b[30mquasiment \u001b[30mabsent \u001b[30men \u001b[31mtunisie \n",
      "\u001b[31mplus \u001b[30md \u001b[31mopportunité \n",
      "\u001b[30mle \u001b[30mnombre \u001b[30md \u001b[31mopprtunités \n",
      "\u001b[30mla \u001b[30mdtermination \u001b[30met \u001b[30mla \u001b[31mmotivation \n",
      "\n",
      "--------------------------------------\n"
     ]
    }
   ],
   "source": [
    "for j in question_labels:\n",
    "    print(Fore.BLACK + \"Summary of Question %d\" % j)\n",
    "    print(\"\")\n",
    "\n",
    "    idx = np.array(corpus_sent_df.qlabel).ravel() == j\n",
    "    Q_corpus = corpus_sent_df[idx]\n",
    "    Q_tf_dtm = tf_bow_dtm[idx,:]\n",
    "    Q_tfidf_dtm = tfidf_bow_dtm[idx,:]\n",
    "    n = np.sum(idx)\n",
    "    assert(n == Q_corpus.shape[0] and n==Q_tf_dtm.shape[0] and n==Q_tfidf_dtm.shape[0])\n",
    "    assert(Q_corpus.shape[1] == corpus_sent_df.shape[1])\n",
    "\n",
    "    print(Fore.BLACK + \"%d sentences:\" % (n))\n",
    "    print(\"\")\n",
    "\n",
    "    # number of words / number of unique words\n",
    "    n_words = Q_tf_dtm.sum()\n",
    "    n_distinct_words = (Q_tf_dtm.sum(axis=0) > 0).sum()\n",
    "    print(Fore.BLACK + \"Lexical diversity: %.2f\" % (n_words/n_distinct_words))\n",
    "    print(\"\")\n",
    "\n",
    "\n",
    "    summary_res_,topic_words_ = sumbasic2(Q_tf_dtm,Q_tfidf_dtm,tf_bow_vocab)   #thresh1=0.1,thresh2=3,N1=10,N2=2\n",
    "\n",
    "    idx = [y for x,y in summary_res_.values()]\n",
    "    summary_sents = Q_corpus.sentence.iloc[idx]\n",
    "    summary_scores = [x for x,y in summary_res_.values()]\n",
    "    result_df_ = pd.DataFrame({'sent': summary_sents, 'sent_score': summary_scores})\n",
    "\n",
    "    print(Fore.BLACK + \"Topic words (in order of importance):\")\n",
    "    #print(topic_words_)\n",
    "    for word,score in topic_words_.iteritems():\n",
    "        if word in inverse_word_map2_dict_:\n",
    "            print(Fore.BLACK + \"%.3f\\t%s\" % (score,', '.join(inverse_word_map2_dict_[word])))\n",
    "        else:\n",
    "            print(Fore.BLACK + \"%.3f\\t%s\" % (score,word))\n",
    "    print(\"\")\n",
    "\n",
    "    print(Fore.BLACK + \"Summary sentences ordered by score (topic words are in red):\")\n",
    "    print(\"\")\n",
    "\n",
    "    for i,row in result_df_.iterrows():\n",
    "        #print(\"%.3f\\t%s\" % (row.sent_score,row.sent))\n",
    "        for word in tokenizer.tokenize(row.sent.lower()):\n",
    "            if (word in topic_words_) or (word_map1_dict_[word] in topic_words_) or (word_map2_dict_[word] in topic_words_) or (word_map2_dict_[word_map1_dict_[word]] in topic_words_):\n",
    "                print(Fore.RED + word, end=\" \")\n",
    "            else:\n",
    "                print(Fore.BLACK + word, end=\" \")\n",
    "        print(\"\")\n",
    "    print(\"\")\n",
    "\n",
    "    print(Fore.BLUE + \"--------------------------------------\")"
   ]
  },
  {
   "cell_type": "code",
   "execution_count": 231,
   "metadata": {},
   "outputs": [
    {
     "name": "stdout",
     "output_type": "stream",
     "text": [
      "\u001b[30mles \u001b[31métrangers \u001b[30msont \u001b[31mplus \u001b[31mprofessionnels \n",
      "\u001b[30ma \u001b[30ml \u001b[31métranger \u001b[30mils \u001b[30mpayent \u001b[31mplus \u001b[30met \u001b[30mils \u001b[30msont \u001b[31mplus \u001b[30msérieux \u001b[30mau \u001b[31mtravail \n",
      "\u001b[30mle \u001b[31mprofesionnalisme \n",
      "\u001b[30mle \u001b[30msérieux \u001b[30mle \u001b[31mprofessionnalisme \n",
      "\u001b[31mplus \u001b[30md \u001b[31mopportunités \u001b[30mà \u001b[30ml \u001b[31métranger \n",
      "\u001b[31msalaires \u001b[30menvironnement \u001b[30mde \u001b[31mtravail \n",
      "\u001b[30mle \u001b[31msalaire \u001b[30mles \u001b[30mconditions \u001b[30mde \u001b[31mtravail \n",
      "\u001b[30mle \u001b[31msalaire \n",
      "\u001b[30mje \u001b[30mne \u001b[30msais \u001b[31mpas \n",
      "\u001b[30mle \u001b[31mrespect \n",
      "\u001b[30ml \u001b[30mindicateur \u001b[30mde \u001b[30mla \u001b[30mproductivité \u001b[30mqui \u001b[30mest \u001b[30mquasiment \u001b[30mabsent \u001b[30men \u001b[31mtunisie \n",
      "\u001b[31mplus \u001b[30md \u001b[31mopportunité \n",
      "\u001b[30mle \u001b[30mnombre \u001b[30md \u001b[31mopprtunités \n",
      "\u001b[30mla \u001b[30mdtermination \u001b[30met \u001b[30mla \u001b[31mmotivation \n"
     ]
    }
   ],
   "source": [
    "for i,row in result_df_.iterrows():\n",
    "    for word in tokenizer.tokenize(row.sent.lower()):\n",
    "        if (word in topic_words_) or (word_map1_dict_[word] in topic_words_) or (word_map2_dict_[word] in topic_words_) or (word_map2_dict_[word_map1_dict_[word]] in topic_words_):\n",
    "            print(Fore.RED + word, end=\" \")\n",
    "        else:\n",
    "            print(Fore.BLACK + word, end=\" \")\n",
    "    print(\"\")"
   ]
  },
  {
   "cell_type": "code",
   "execution_count": 225,
   "metadata": {},
   "outputs": [
    {
     "name": "stdout",
     "output_type": "stream",
     "text": [
      "\u001b[30mles \u001b[31métrangers \u001b[30msont \u001b[31mplus \u001b[31mprofessionnels \n",
      "\u001b[30ma \u001b[30ml \u001b[31métranger \u001b[30mils \u001b[30mpayent \u001b[31mplus \u001b[30met \u001b[30mils \u001b[30msont \u001b[31mplus \u001b[30msérieux \u001b[30mau \u001b[31mtravail \n",
      "\u001b[30ma \u001b[30ml \u001b[31métranger \u001b[30mle \u001b[30mcoté \u001b[31mprofessionnel \u001b[30mdes \u001b[30mchoses \u001b[30mest \u001b[30mbien \u001b[31mrespecté \n",
      "\u001b[30mla \u001b[30mrecherche \u001b[30mles \u001b[30minvestissements \u001b[30mla \u001b[31mmotivation \u001b[30mle \u001b[31mtravail \u001b[30mdure \u001b[30met \u001b[30mbien \u001b[30msûr \u001b[30mle \u001b[31mrespect \u001b[31mprofessionnel \n",
      "\u001b[30mle \u001b[31mtravail \u001b[30mest \u001b[31mplus \u001b[30mcomplexe \u001b[30mdans \u001b[30mcertains \u001b[30mdomaines \u001b[30mà \u001b[30ml \u001b[31métranger \u001b[30mla \u001b[30mfinance \n",
      "\u001b[31mplus \u001b[30mdes \u001b[30moffres \u001b[30mde \u001b[31mtravail \u001b[30mà \u001b[30ml \u001b[31métranger \u001b[30mdans \u001b[30mdivers \u001b[30mdomaines \n",
      "\u001b[30mles \u001b[31mtunisiens \u001b[31mtravail \u001b[30mjuste \u001b[30mpour \u001b[30mgangné \u001b[30ml \u001b[30margent \u001b[30mn \u001b[30mest \u001b[31mpas \u001b[30mpour \u001b[30mle \u001b[30mpays \n",
      "\u001b[30mles \u001b[30mconditions \u001b[30mde \u001b[31mtravail \u001b[30mles \u001b[31msalaires \u001b[30met \u001b[30mles \u001b[31mopportunités \u001b[30mperspectives \u001b[31mprofessionnels \n",
      "\u001b[31mprofessionnalisme \u001b[31mrespect \u001b[30met \u001b[30msurtout \u001b[31msalaire \n",
      "\u001b[30mà \u001b[30ml \u001b[31métranger \u001b[30mles \u001b[30mexpériences \u001b[30msont \u001b[31mplus \u001b[30minteressantes \u001b[30mainsi \u001b[30mque \u001b[30mles \u001b[31msalaires \n",
      "\u001b[30mon \u001b[30mn \u001b[30ma \u001b[31mpas \u001b[30mde \u001b[31mprofessionnalisme \u001b[30men \u001b[31mtunisie \u001b[30mxd \n",
      "\u001b[30mle \u001b[31mtunisien \u001b[30mn \u001b[30mest \u001b[31mpas \u001b[30mtrès \u001b[30mobjectif \u001b[30met \u001b[30mmanque \u001b[30mdonc \u001b[30mde \u001b[31mprofessionalisme \n",
      "\u001b[30mêtre \u001b[31mplus \u001b[31mrespecté \u001b[30met \u001b[31mplus \u001b[30mvalorisé \u001b[30mà \u001b[30ml \u001b[31métranger \n",
      "\u001b[30ml \u001b[30morganisation \u001b[30mle \u001b[31mprofessionnalisme \u001b[30mle \u001b[31mrespect \u001b[30mla \u001b[31mmotivation \n",
      "\u001b[30mla \u001b[30mculture \u001b[30mest \u001b[31mplus \u001b[30mdéveloppée \u001b[30mà \u001b[30ml \u001b[31métranger \u001b[30mqu \u001b[30men \u001b[31mtunisie \n",
      "\u001b[30mles \u001b[30mmarchés \u001b[30men \u001b[31mtunisie \u001b[30mne \u001b[30msont \u001b[31mpas \u001b[30massez \u001b[30mgrands \u001b[30mcomme \u001b[30ma \u001b[30ml \u001b[31métranger \n",
      "\u001b[31mplus \u001b[30md \u001b[31mopportunités \u001b[30mà \u001b[30ml \u001b[31métranger \n",
      "\u001b[30mles \u001b[31mopportunités \u001b[30msont \u001b[31mplus \u001b[30mnombreuses \u001b[30met \u001b[30mla \u001b[30mconcurrence \u001b[30mest \u001b[31mplus \u001b[30mrude \n",
      "\u001b[30mà \u001b[30ml \u001b[31métranger \u001b[30menvironnement \u001b[30mde \u001b[31mtravail \u001b[31mmotivant \n",
      "\u001b[31msalaire \u001b[31mplus \u001b[31mmotivante \n"
     ]
    }
   ],
   "source": [
    "for i,row in result_df_.iterrows():\n",
    "    for word in tokenizer.tokenize(row.sent.lower()):\n",
    "        if (word in topic_words_) or (word_map1_dict_[word] in topic_words_) or (word_map2_dict_[word] in topic_words_) or (word_map2_dict_[word_map1_dict_[word]] in topic_words_):\n",
    "            print(Fore.RED + word, end=\" \")\n",
    "        else:\n",
    "            print(Fore.BLACK + word, end=\" \")\n",
    "    print(\"\")\n"
   ]
  },
  {
   "cell_type": "markdown",
   "metadata": {},
   "source": [
    "### Wordcloud of topic words of each subcorpus"
   ]
  },
  {
   "cell_type": "code",
   "execution_count": null,
   "metadata": {},
   "outputs": [],
   "source": [
    "from PIL import Image"
   ]
  },
  {
   "cell_type": "code",
   "execution_count": null,
   "metadata": {},
   "outputs": [],
   "source": [
    "# Plot word cloud for each question\n",
    "#?WordCloud"
   ]
  },
  {
   "cell_type": "code",
   "execution_count": null,
   "metadata": {},
   "outputs": [],
   "source": [
    "# Generate a word cloud image by calling the generate_from_frequencies() method\n",
    "def my_word_cloud(words,word_weights,filename=None,n_words=50,MaxFontSize=500,Width=1000,Height=500):\n",
    "    assert(len(words) == len(word_weights))\n",
    "    assert(np.min(word_weights) >= 0)\n",
    "\n",
    "    # Create instance of class with default configuration parameters\n",
    "    wc = WordCloud(width=Width, height=Height, max_words=n_words)\n",
    "\n",
    "    d = dict(zip(words, word_weights))\n",
    "    z = wc.generate_from_frequencies(d, max_font_size=int(MaxFontSize*np.max(word_weights)))\n",
    "\n",
    "    plt.figure(figsize=(15,8))\n",
    "    plt.imshow(z)\n",
    "    plt.axis(\"off\")\n",
    "\n",
    "    # save to an image file\n",
    "    if filename != None:\n",
    "        plt.savefig(filename, bbox_inches='tight')"
   ]
  },
  {
   "cell_type": "code",
   "execution_count": null,
   "metadata": {},
   "outputs": [],
   "source": [
    "N_Words = 30\n",
    "for j in np.unique(corpus_labels_fr):\n",
    "    idx = np.array(corpus_labels_fr) == j\n",
    "    Q_tfidf_dtm = tfidf_bow_dtm[idx,:]\n",
    "\n",
    "    word_scores_df = word_scoring_tfidf(Q_tfidf_dtm,tf_bow_vocab,N=N_Words,thresh=0)\n",
    "    filename = '../results/wordcloud_Q' + str(j) + '.png'\n",
    "    my_word_cloud(word_scores_df.index,word_scores_df.tolist(),filename,N_Words)"
   ]
  },
  {
   "cell_type": "markdown",
   "metadata": {},
   "source": [
    "****"
   ]
  }
 ],
 "metadata": {
  "kernelspec": {
   "display_name": "Python 3",
   "language": "python",
   "name": "python3"
  },
  "language_info": {
   "codemirror_mode": {
    "name": "ipython",
    "version": 3
   },
   "file_extension": ".py",
   "mimetype": "text/x-python",
   "name": "python",
   "nbconvert_exporter": "python",
   "pygments_lexer": "ipython3",
   "version": "3.7.3"
  },
  "toc": {
   "base_numbering": 1,
   "nav_menu": {},
   "number_sections": true,
   "sideBar": true,
   "skip_h1_title": false,
   "title_cell": "Table of Contents",
   "title_sidebar": "Contents",
   "toc_cell": false,
   "toc_position": {},
   "toc_section_display": true,
   "toc_window_display": false
  }
 },
 "nbformat": 4,
 "nbformat_minor": 2
}
